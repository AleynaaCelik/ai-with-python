{
  "nbformat": 4,
  "nbformat_minor": 0,
  "metadata": {
    "colab": {
      "provenance": []
    },
    "kernelspec": {
      "name": "python3",
      "display_name": "Python 3"
    },
    "language_info": {
      "name": "python"
    }
  },
  "cells": [
    {
      "cell_type": "code",
      "execution_count": 4,
      "metadata": {
        "colab": {
          "base_uri": "https://localhost:8080/"
        },
        "id": "eQGpwq_XYxse",
        "outputId": "dd6f9f3e-018f-4522-8d72-ac8a584fd0eb"
      },
      "outputs": [
        {
          "name": "stdout",
          "output_type": "stream",
          "text": [
            "İlk sayıyı giriniz: 1\n",
            "İkinci sayıyı giriniz: 1\n",
            "Kaç tane fibonacci sayısı olsun: 20\n"
          ]
        }
      ],
      "source": [
        "sayi1 = eval(input(\"İlk sayıyı giriniz: \"))\n",
        "sayi2 = eval(input(\"İkinci sayıyı giriniz: \"))\n",
        "adet = eval(input(\"Kaç tane fibonacci sayısı olsun: \"))\n"
      ]
    },
    {
      "cell_type": "code",
      "source": [
        "print(sayi1,sayi2,sep=',', end=',')\n",
        "for i in range(adet-2):\n",
        "  sayi3=sayi1+sayi2\n",
        "  print(sayi3, end=',')\n",
        "  sayi1=sayi2\n",
        "  sayi2=sayi3"
      ],
      "metadata": {
        "colab": {
          "base_uri": "https://localhost:8080/"
        },
        "id": "gKPe-mma2svb",
        "outputId": "d10fa210-3f2f-4d68-a44a-cc7da7d55f35"
      },
      "execution_count": 5,
      "outputs": [
        {
          "output_type": "stream",
          "name": "stdout",
          "text": [
            "1,1,2,3,5,8,13,21,34,55,89,144,233,377,610,987,1597,2584,4181,6765,10946,17711,"
          ]
        }
      ]
    }
  ]
}