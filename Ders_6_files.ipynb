{
  "nbformat": 4,
  "nbformat_minor": 0,
  "metadata": {
    "colab": {
      "provenance": []
    },
    "kernelspec": {
      "name": "python3",
      "display_name": "Python 3"
    },
    "language_info": {
      "name": "python"
    }
  },
  "cells": [
    {
      "cell_type": "code",
      "execution_count": 1,
      "metadata": {
        "id": "vvY63hBHs_Uq"
      },
      "outputs": [],
      "source": [
        "s = open('dosya.txt').read()"
      ]
    },
    {
      "cell_type": "code",
      "source": [
        "print(s)"
      ],
      "metadata": {
        "colab": {
          "base_uri": "https://localhost:8080/"
        },
        "id": "SC9E-eFKtdds",
        "outputId": "221406e4-9651-4617-91f3-5a8729a83990"
      },
      "execution_count": 2,
      "outputs": [
        {
          "output_type": "stream",
          "name": "stdout",
          "text": [
            "Hello.\n",
            "This is a text file.\n",
            "Bye!\n",
            "\n"
          ]
        }
      ]
    },
    {
      "cell_type": "code",
      "source": [
        "lines = [line.strip() for line in open('./data/dosya.txt')]"
      ],
      "metadata": {
        "id": "_9CfKpvCtfOi"
      },
      "execution_count": 6,
      "outputs": []
    },
    {
      "cell_type": "code",
      "source": [
        "lines"
      ],
      "metadata": {
        "colab": {
          "base_uri": "https://localhost:8080/"
        },
        "id": "YQgcOqIktxhy",
        "outputId": "ba7f5530-24e5-420d-f4a5-6fcb9441ea32"
      },
      "execution_count": 7,
      "outputs": [
        {
          "output_type": "execute_result",
          "data": {
            "text/plain": [
              "['Hello.', 'This is a text file.', 'Bye!']"
            ]
          },
          "metadata": {},
          "execution_count": 7
        }
      ]
    },
    {
      "cell_type": "code",
      "source": [
        "fp = open('yeniDosya.txt', 'w')"
      ],
      "metadata": {
        "id": "Xt3ZB9hbtyJi"
      },
      "execution_count": 15,
      "outputs": []
    },
    {
      "cell_type": "code",
      "source": [
        "type(fp)"
      ],
      "metadata": {
        "colab": {
          "base_uri": "https://localhost:8080/"
        },
        "id": "9_YEEt51u8ZA",
        "outputId": "a9ba9ce8-385d-4de4-f248-dab55dfa3992"
      },
      "execution_count": 10,
      "outputs": [
        {
          "output_type": "execute_result",
          "data": {
            "text/plain": [
              "_io.TextIOWrapper"
            ]
          },
          "metadata": {},
          "execution_count": 10
        }
      ]
    },
    {
      "cell_type": "code",
      "source": [
        "print('Ilk satir', file=fp)\n",
        "fp.close()"
      ],
      "metadata": {
        "id": "-ax5CoF3u9qx"
      },
      "execution_count": 16,
      "outputs": []
    },
    {
      "cell_type": "code",
      "source": [
        "fp = open('yeniDosya.txt', 'a')\n",
        "print('Ikinci deneme', file=fp)\n",
        "fp.close()"
      ],
      "metadata": {
        "id": "OXjWrExAvIRY"
      },
      "execution_count": 17,
      "outputs": []
    },
    {
      "cell_type": "code",
      "source": [
        "fp1 = open('celciusDosya.txt', 'w')"
      ],
      "metadata": {
        "id": "dyVT6QUevXPh"
      },
      "execution_count": 18,
      "outputs": []
    },
    {
      "cell_type": "code",
      "source": [
        "from random import randint"
      ],
      "metadata": {
        "id": "RnpHv4o2wVx3"
      },
      "execution_count": 19,
      "outputs": []
    },
    {
      "cell_type": "code",
      "source": [
        "for i in range(30):\n",
        "  print(randint(10,30), file=fp1)\n",
        "\n",
        "fp1.close()"
      ],
      "metadata": {
        "id": "pQFasAGVwZkd"
      },
      "execution_count": 20,
      "outputs": []
    },
    {
      "cell_type": "code",
      "source": [
        "[int(line.strip())*9/5+32 for line in open('celciusDosya.txt')]"
      ],
      "metadata": {
        "colab": {
          "base_uri": "https://localhost:8080/"
        },
        "id": "cbeHj1PfwqWe",
        "outputId": "31824ec4-9289-45c4-d605-84a40d42d01f"
      },
      "execution_count": 22,
      "outputs": [
        {
          "output_type": "execute_result",
          "data": {
            "text/plain": [
              "[73.4,\n",
              " 55.4,\n",
              " 82.4,\n",
              " 59.0,\n",
              " 55.4,\n",
              " 57.2,\n",
              " 71.6,\n",
              " 53.6,\n",
              " 84.2,\n",
              " 60.8,\n",
              " 80.6,\n",
              " 82.4,\n",
              " 68.0,\n",
              " 53.6,\n",
              " 69.8,\n",
              " 60.8,\n",
              " 59.0,\n",
              " 73.4,\n",
              " 62.6,\n",
              " 84.2,\n",
              " 78.8,\n",
              " 57.2,\n",
              " 78.8,\n",
              " 78.8,\n",
              " 78.8,\n",
              " 57.2,\n",
              " 62.6,\n",
              " 62.6,\n",
              " 73.4,\n",
              " 66.2]"
            ]
          },
          "metadata": {},
          "execution_count": 22
        }
      ]
    },
    {
      "cell_type": "code",
      "source": [
        "fp2 = open('fahrenheitDosya.txt', 'w')\n",
        "print([int(line.strip())*9/5+32 for line in open('celciusDosya.txt')], file = fp2)\n",
        "fp2.close()"
      ],
      "metadata": {
        "id": "90hlJmnaxKVU"
      },
      "execution_count": 23,
      "outputs": []
    },
    {
      "cell_type": "code",
      "source": [],
      "metadata": {
        "id": "bNexWAEQximT"
      },
      "execution_count": null,
      "outputs": []
    }
  ]
}