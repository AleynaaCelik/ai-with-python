{
  "nbformat": 4,
  "nbformat_minor": 0,
  "metadata": {
    "colab": {
      "provenance": []
    },
    "kernelspec": {
      "name": "python3",
      "display_name": "Python 3"
    },
    "language_info": {
      "name": "python"
    }
  },
  "cells": [
    {
      "cell_type": "code",
      "execution_count": null,
      "metadata": {
        "colab": {
          "base_uri": "https://localhost:8080/"
        },
        "id": "7-hIIjQsYFbE",
        "outputId": "57394ace-b031-41cf-8852-a6a512bdab99"
      },
      "outputs": [
        {
          "output_type": "stream",
          "name": "stdout",
          "text": [
            "Hello world\n",
            "Aleyna\n",
            "Wtech eğitimi\n"
          ]
        }
      ],
      "source": [
        "print(\"Hello world\")\n",
        "print('Aleyna')\n",
        "print(\"Wtech eğitimi\")"
      ]
    },
    {
      "cell_type": "code",
      "source": [
        "name=input('Enter your name')\n",
        "\n",
        "print('Günaydin', name)\n",
        "print('Günaydin' + name)"
      ],
      "metadata": {
        "colab": {
          "base_uri": "https://localhost:8080/"
        },
        "id": "dgxRtXasabVN",
        "outputId": "7d58426a-13d0-4a66-b562-c18da52ed758"
      },
      "execution_count": null,
      "outputs": [
        {
          "output_type": "stream",
          "name": "stdout",
          "text": [
            "Enter your nameAleyna\n",
            "Günaydin Aleyna\n",
            "GünaydinAleyna\n"
          ]
        }
      ]
    },
    {
      "cell_type": "code",
      "source": [
        "sayi1=eval(input('Birinci sayıyı giriniz: '))\n",
        "sayi2=eval(input('İkinci sayıyı giriniz: '))\n",
        "print(sayi1+sayi2)"
      ],
      "metadata": {
        "colab": {
          "base_uri": "https://localhost:8080/"
        },
        "id": "gumBE_y8b9cn",
        "outputId": "60390b21-abc9-44cc-8207-95c9a123a242"
      },
      "execution_count": null,
      "outputs": [
        {
          "output_type": "stream",
          "name": "stdout",
          "text": [
            "Birinci sayıyı giriniz: 2\n",
            "İkinci sayıyı giriniz: 3\n",
            "5\n"
          ]
        }
      ]
    },
    {
      "cell_type": "code",
      "source": [
        "sayi3=input('Birinci sayıyı giriniz: ')\n",
        "sayi4=input('İkinci sayıyı giriniz: ')\n",
        "print(int(sayi3)+int(sayi4))"
      ],
      "metadata": {
        "colab": {
          "base_uri": "https://localhost:8080/"
        },
        "id": "rlBbKZIGgtEP",
        "outputId": "f276b38a-2da1-4f76-cf4e-1f31c02e2c5a"
      },
      "execution_count": null,
      "outputs": [
        {
          "output_type": "stream",
          "name": "stdout",
          "text": [
            "Birinci sayıyı giriniz: 4\n",
            "İkinci sayıyı giriniz: 5\n",
            "9\n"
          ]
        }
      ]
    },
    {
      "cell_type": "code",
      "source": [
        "sayi1=eval(input('Birinci sayıyı giriniz: '))\n",
        "sayi2=eval(input('İkinci sayıyı giriniz: '))\n",
        "print(sayi1+sayi2)"
      ],
      "metadata": {
        "colab": {
          "base_uri": "https://localhost:8080/"
        },
        "id": "fME4y1cRh2NI",
        "outputId": "05dbf58d-febc-4c70-9e91-7528e7943a5e"
      },
      "execution_count": null,
      "outputs": [
        {
          "output_type": "stream",
          "name": "stdout",
          "text": [
            "Birinci sayıyı giriniz: 45.4\n",
            "İkinci sayıyı giriniz: 32.1\n",
            "77.5\n"
          ]
        }
      ]
    },
    {
      "cell_type": "code",
      "source": [
        "sayi7=eval(input('Birinci sayıyı giriniz: '))\n",
        "sayi8=eval(input('İkinci sayıyı giriniz: '))\n",
        "print('Ortalama =',(sayi7+sayi8)/2)"
      ],
      "metadata": {
        "colab": {
          "base_uri": "https://localhost:8080/"
        },
        "id": "nKtGjMXKkeDJ",
        "outputId": "91ba4626-8e19-4b3d-cc2a-111775751f83"
      },
      "execution_count": null,
      "outputs": [
        {
          "output_type": "stream",
          "name": "stdout",
          "text": [
            "Birinci sayıyı giriniz: 23\n",
            "İkinci sayıyı giriniz: 7\n",
            "Ortalama = 15.0\n"
          ]
        }
      ]
    },
    {
      "cell_type": "code",
      "source": [
        "print('AAAA','BBBBB')\n",
        "print('DDDD','XXXX',sep='----')"
      ],
      "metadata": {
        "colab": {
          "base_uri": "https://localhost:8080/"
        },
        "id": "OUtwVWv4leCL",
        "outputId": "3d4f3aa7-62df-4167-88d2-3dda1684dcac"
      },
      "execution_count": null,
      "outputs": [
        {
          "output_type": "stream",
          "name": "stdout",
          "text": [
            "AAAA BBBBB\n",
            "DDDD----XXXX\n"
          ]
        }
      ]
    },
    {
      "cell_type": "code",
      "source": [
        "print('İlk Satır',end='')\n",
        "print('İkinci Satır')\n",
        "print('Üçüncü Satır')"
      ],
      "metadata": {
        "colab": {
          "base_uri": "https://localhost:8080/"
        },
        "id": "A_j4yuhsmDFh",
        "outputId": "e5072e66-04bf-4726-ed44-69ba4a69c003"
      },
      "execution_count": null,
      "outputs": [
        {
          "output_type": "stream",
          "name": "stdout",
          "text": [
            "İlk Satırİkinci Satır\n",
            "Üçüncü Satır\n"
          ]
        }
      ]
    },
    {
      "cell_type": "code",
      "source": [
        "print('İlk Satır',end='****')\n",
        "print('İkinci Satır')"
      ],
      "metadata": {
        "colab": {
          "base_uri": "https://localhost:8080/"
        },
        "id": "pHT1WGbHmnPz",
        "outputId": "c302ba08-9b57-4a90-dfa6-3d74c7eacef9"
      },
      "execution_count": null,
      "outputs": [
        {
          "output_type": "stream",
          "name": "stdout",
          "text": [
            "İlk Satır****İkinci Satır\n"
          ]
        }
      ]
    },
    {
      "cell_type": "code",
      "source": [
        "#casting\n",
        "x='3'\n",
        "y=4\n",
        "z=int(x)+y\n",
        "print(z)"
      ],
      "metadata": {
        "colab": {
          "base_uri": "https://localhost:8080/"
        },
        "id": "tVerx3V7oAtd",
        "outputId": "cb5e1f68-8d1b-4d91-fc7d-fcdc6c6a7eb1"
      },
      "execution_count": null,
      "outputs": [
        {
          "output_type": "stream",
          "name": "stdout",
          "text": [
            "7\n"
          ]
        }
      ]
    },
    {
      "cell_type": "code",
      "source": [
        "x='3.6'\n",
        "y='4.2'\n",
        "z=x+y\n",
        "print(z)"
      ],
      "metadata": {
        "colab": {
          "base_uri": "https://localhost:8080/"
        },
        "id": "i9A3_WngoN96",
        "outputId": "6b99468a-3d09-484f-e812-765b0484d3ea"
      },
      "execution_count": null,
      "outputs": [
        {
          "output_type": "stream",
          "name": "stdout",
          "text": [
            "3.64.2\n"
          ]
        }
      ]
    },
    {
      "cell_type": "code",
      "source": [
        "x='3.6'\n",
        "y=4.2\n",
        "z=float(x)+y\n",
        "print(z)"
      ],
      "metadata": {
        "colab": {
          "base_uri": "https://localhost:8080/"
        },
        "id": "HVWvqYgCojHe",
        "outputId": "392d2a76-801c-4e4a-db1f-b36427823873"
      },
      "execution_count": null,
      "outputs": [
        {
          "output_type": "stream",
          "name": "stdout",
          "text": [
            "7.800000000000001\n"
          ]
        }
      ]
    },
    {
      "cell_type": "code",
      "source": [
        "#concatenation(birleştirme)\n",
        "x='3.6'\n",
        "y=4.2\n",
        "z=x+str(y)\n",
        "print(z)"
      ],
      "metadata": {
        "colab": {
          "base_uri": "https://localhost:8080/"
        },
        "id": "SbAY_OS8oq7P",
        "outputId": "531970b6-be70-4345-be45-a7277a1e2328"
      },
      "execution_count": null,
      "outputs": [
        {
          "output_type": "stream",
          "name": "stdout",
          "text": [
            "3.64.2\n"
          ]
        }
      ]
    },
    {
      "cell_type": "code",
      "source": [
        "a=8\n",
        "A=19\n",
        "print(a)"
      ],
      "metadata": {
        "colab": {
          "base_uri": "https://localhost:8080/"
        },
        "id": "n0Xw5Ls_o79i",
        "outputId": "11326269-f714-41a6-dbab-cd91ec25d672"
      },
      "execution_count": null,
      "outputs": [
        {
          "output_type": "stream",
          "name": "stdout",
          "text": [
            "8\n"
          ]
        }
      ]
    },
    {
      "cell_type": "code",
      "source": [
        "print('**********')\n",
        "print('**********')\n",
        "print('**********')"
      ],
      "metadata": {
        "colab": {
          "base_uri": "https://localhost:8080/"
        },
        "id": "O_gQREWFp519",
        "outputId": "ba9b58dd-a594-4d63-9ed2-307375025105"
      },
      "execution_count": null,
      "outputs": [
        {
          "output_type": "stream",
          "name": "stdout",
          "text": [
            "**********\n",
            "**********\n",
            "**********\n"
          ]
        }
      ]
    },
    {
      "cell_type": "code",
      "source": [
        "print('**********')\n",
        "print('*        *')\n",
        "print('**********')"
      ],
      "metadata": {
        "colab": {
          "base_uri": "https://localhost:8080/"
        },
        "id": "HPtAOPUisL73",
        "outputId": "15636a44-5bd3-43cf-ed6d-8f18b570e81e"
      },
      "execution_count": null,
      "outputs": [
        {
          "output_type": "stream",
          "name": "stdout",
          "text": [
            "**********\n",
            "*        *\n",
            "**********\n"
          ]
        }
      ]
    },
    {
      "cell_type": "code",
      "source": [
        "print('***********\\n*************\\n')"
      ],
      "metadata": {
        "colab": {
          "base_uri": "https://localhost:8080/"
        },
        "id": "fnR893V1sath",
        "outputId": "4e602f31-d6ad-45e5-eef7-7c820898921a"
      },
      "execution_count": null,
      "outputs": [
        {
          "output_type": "stream",
          "name": "stdout",
          "text": [
            "***********\n",
            "*************\n",
            "\n"
          ]
        }
      ]
    },
    {
      "cell_type": "code",
      "source": [
        "print('*'*19)\n",
        "print('*'*19)\n",
        "print('*'*19)"
      ],
      "metadata": {
        "colab": {
          "base_uri": "https://localhost:8080/"
        },
        "id": "QbXHR-KTs8Qr",
        "outputId": "50d9870f-e64a-4c92-fb6e-83ea10d00d55"
      },
      "execution_count": null,
      "outputs": [
        {
          "output_type": "stream",
          "name": "stdout",
          "text": [
            "*******************\n",
            "*******************\n",
            "*******************\n"
          ]
        }
      ]
    },
    {
      "cell_type": "code",
      "source": [
        "for i in range(3):\n",
        "    print('*'*19)"
      ],
      "metadata": {
        "colab": {
          "base_uri": "https://localhost:8080/"
        },
        "id": "ys1go_WbtIa3",
        "outputId": "2c1cbe6c-7288-4e23-a00e-0eb0182a6c3b"
      },
      "execution_count": null,
      "outputs": [
        {
          "output_type": "stream",
          "name": "stdout",
          "text": [
            "*******************\n",
            "*******************\n",
            "*******************\n"
          ]
        }
      ]
    },
    {
      "cell_type": "code",
      "source": [
        "for i in range(7):\n",
        "    print('Gun')"
      ],
      "metadata": {
        "colab": {
          "base_uri": "https://localhost:8080/"
        },
        "id": "BcHTTe-3utwA",
        "outputId": "d87b14f9-0b5f-4440-b7f4-d4cf4aafce91"
      },
      "execution_count": null,
      "outputs": [
        {
          "output_type": "stream",
          "name": "stdout",
          "text": [
            "Gun\n",
            "Gun\n",
            "Gun\n",
            "Gun\n",
            "Gun\n",
            "Gun\n",
            "Gun\n"
          ]
        }
      ]
    },
    {
      "cell_type": "code",
      "source": [
        "for i in range(7):\n",
        "    print(i+1, '.', 'Gun',sep='')"
      ],
      "metadata": {
        "colab": {
          "base_uri": "https://localhost:8080/"
        },
        "id": "ArjCKMacu1Pk",
        "outputId": "4edf4b69-4fb2-43e7-ac03-f963ada3be2e"
      },
      "execution_count": null,
      "outputs": [
        {
          "output_type": "stream",
          "name": "stdout",
          "text": [
            "1.Gun\n",
            "2.Gun\n",
            "3.Gun\n",
            "4.Gun\n",
            "5.Gun\n",
            "6.Gun\n",
            "7.Gun\n"
          ]
        }
      ]
    },
    {
      "cell_type": "code",
      "source": [
        "for i in range(7):\n",
        "    print(i+1, '.', 'Gun',sep='')\n",
        "print(i+1, '.', 'Gun',sep='')"
      ],
      "metadata": {
        "colab": {
          "base_uri": "https://localhost:8080/"
        },
        "id": "8hhj-F0lvFey",
        "outputId": "fdc1baa2-ef7c-4329-baa9-7785a1f130d2"
      },
      "execution_count": null,
      "outputs": [
        {
          "output_type": "stream",
          "name": "stdout",
          "text": [
            "1.Gun\n",
            "2.Gun\n",
            "3.Gun\n",
            "4.Gun\n",
            "5.Gun\n",
            "6.Gun\n",
            "7.Gun\n",
            "7.Gun\n"
          ]
        }
      ]
    },
    {
      "cell_type": "code",
      "source": [
        "for i in range(10):\n",
        "    print((i+1)**2)\n"
      ],
      "metadata": {
        "colab": {
          "base_uri": "https://localhost:8080/"
        },
        "id": "JV1TDovNwCho",
        "outputId": "e65ab7dd-852c-4daf-c289-bf7e9c6d7fd2"
      },
      "execution_count": null,
      "outputs": [
        {
          "output_type": "stream",
          "name": "stdout",
          "text": [
            "1\n",
            "0\n",
            "1\n",
            "4\n",
            "9\n",
            "16\n",
            "25\n",
            "36\n",
            "49\n",
            "64\n",
            "81\n"
          ]
        }
      ]
    },
    {
      "cell_type": "code",
      "source": [
        "print('A')\n",
        "print('B')\n",
        "for i in range(5):\n",
        "  print('C')\n",
        "for i in range(5):\n",
        "  print('D')\n",
        "print('B')"
      ],
      "metadata": {
        "colab": {
          "base_uri": "https://localhost:8080/"
        },
        "id": "RPRqhdnLww-V",
        "outputId": "a939dabd-26fb-4f35-fbe1-f76ef37c3ab2"
      },
      "execution_count": null,
      "outputs": [
        {
          "output_type": "stream",
          "name": "stdout",
          "text": [
            "A\n",
            "B\n",
            "C\n",
            "C\n",
            "C\n",
            "C\n",
            "C\n",
            "D\n",
            "D\n",
            "D\n",
            "D\n",
            "D\n",
            "B\n"
          ]
        }
      ]
    },
    {
      "cell_type": "code",
      "source": [
        "for i in range(5,0,-1):\n",
        "  print(i)"
      ],
      "metadata": {
        "colab": {
          "base_uri": "https://localhost:8080/"
        },
        "id": "q810Y2XIyI63",
        "outputId": "9e85e36c-10ed-4ba2-92a2-b68e43cb5c10"
      },
      "execution_count": null,
      "outputs": [
        {
          "output_type": "stream",
          "name": "stdout",
          "text": [
            "5\n",
            "4\n",
            "3\n",
            "2\n",
            "1\n"
          ]
        }
      ]
    },
    {
      "cell_type": "code",
      "source": [
        "for i in range(1,62,4):\n",
        "  print(i, end=' ')"
      ],
      "metadata": {
        "colab": {
          "base_uri": "https://localhost:8080/"
        },
        "id": "NoVzvH1UyZKI",
        "outputId": "97072b29-e0dc-48d8-d6b6-f5c9a0580d60"
      },
      "execution_count": null,
      "outputs": [
        {
          "output_type": "stream",
          "name": "stdout",
          "text": [
            "1 5 9 13 17 21 25 29 33 37 41 45 49 53 57 61 "
          ]
        }
      ]
    },
    {
      "cell_type": "code",
      "source": [
        "for k in range(25,4,-3):\n",
        "  print('k =' ,k ,'için i =',i)"
      ],
      "metadata": {
        "colab": {
          "base_uri": "https://localhost:8080/"
        },
        "id": "tffISkXAygPz",
        "outputId": "5a8c0d67-4f1c-43aa-c4cf-321832148f6f"
      },
      "execution_count": null,
      "outputs": [
        {
          "output_type": "stream",
          "name": "stdout",
          "text": [
            "k = 25 için i = 61\n",
            "k = 22 için i = 61\n",
            "k = 19 için i = 61\n",
            "k = 16 için i = 61\n",
            "k = 13 için i = 61\n",
            "k = 10 için i = 61\n",
            "k = 7 için i = 61\n"
          ]
        }
      ]
    },
    {
      "cell_type": "markdown",
      "source": [
        "DÖNGÜ DEĞİŞKENLERİ HER ZAMAN TAM SAYIDIR"
      ],
      "metadata": {
        "id": "vRl9JayK0pOX"
      }
    },
    {
      "cell_type": "code",
      "source": [
        "for i in range(1,5,1):\n",
        "  print('*'*i)\n",
        "\n"
      ],
      "metadata": {
        "colab": {
          "base_uri": "https://localhost:8080/"
        },
        "id": "KssowpFS0tUW",
        "outputId": "777024dd-0ad3-407f-d8ec-d1ea796b8481"
      },
      "execution_count": null,
      "outputs": [
        {
          "output_type": "stream",
          "name": "stdout",
          "text": [
            "*\n",
            "**\n",
            "***\n",
            "****\n"
          ]
        }
      ]
    },
    {
      "cell_type": "code",
      "source": [
        "for i in range(4):\n",
        "  print('*'*(i+1))"
      ],
      "metadata": {
        "colab": {
          "base_uri": "https://localhost:8080/"
        },
        "id": "aFatBoGA1Jb9",
        "outputId": "5e8df45d-1cb6-41e3-a8af-f66710d76138"
      },
      "execution_count": null,
      "outputs": [
        {
          "output_type": "stream",
          "name": "stdout",
          "text": [
            "*\n",
            "**\n",
            "***\n",
            "****\n"
          ]
        }
      ]
    },
    {
      "cell_type": "code",
      "source": [
        "for i in range(4):\n",
        "  print('*'*6)"
      ],
      "metadata": {
        "colab": {
          "base_uri": "https://localhost:8080/"
        },
        "id": "ChwVMdU21v9W",
        "outputId": "757ba4f0-31d1-4f0f-f720-77bd531b85c8"
      },
      "execution_count": null,
      "outputs": [
        {
          "output_type": "stream",
          "name": "stdout",
          "text": [
            "******\n",
            "******\n",
            "******\n",
            "******\n"
          ]
        }
      ]
    }
  ]
}