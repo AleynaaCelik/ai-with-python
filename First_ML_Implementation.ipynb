{
  "nbformat": 4,
  "nbformat_minor": 0,
  "metadata": {
    "colab": {
      "provenance": []
    },
    "kernelspec": {
      "name": "python3",
      "display_name": "Python 3"
    },
    "language_info": {
      "name": "python"
    }
  },
  "cells": [
    {
      "cell_type": "code",
      "execution_count": 1,
      "metadata": {
        "id": "Y0mv_g7wLqLn"
      },
      "outputs": [],
      "source": [
        "import sklearn"
      ]
    },
    {
      "cell_type": "code",
      "source": [
        "from sklearn.datasets import load_iris"
      ],
      "metadata": {
        "id": "CcTzfvWZMJk6"
      },
      "execution_count": 4,
      "outputs": []
    },
    {
      "cell_type": "code",
      "source": [
        "iris_dataset = load_iris()"
      ],
      "metadata": {
        "id": "vlt__6ZmMTNa"
      },
      "execution_count": 5,
      "outputs": []
    },
    {
      "cell_type": "code",
      "source": [
        "iris_dataset.keys()"
      ],
      "metadata": {
        "colab": {
          "base_uri": "https://localhost:8080/"
        },
        "id": "tG5KWnhRMYgL",
        "outputId": "4bb1580a-fb0d-4552-9ff6-2d57b742b329"
      },
      "execution_count": 7,
      "outputs": [
        {
          "output_type": "execute_result",
          "data": {
            "text/plain": [
              "dict_keys(['data', 'target', 'frame', 'target_names', 'DESCR', 'feature_names', 'filename', 'data_module'])"
            ]
          },
          "metadata": {},
          "execution_count": 7
        }
      ]
    },
    {
      "cell_type": "code",
      "source": [
        "type(iris_dataset['data'])"
      ],
      "metadata": {
        "colab": {
          "base_uri": "https://localhost:8080/"
        },
        "id": "UyO0OBLrMe3v",
        "outputId": "1ded339d-620b-4e7b-8104-b3a6b4580727"
      },
      "execution_count": 9,
      "outputs": [
        {
          "output_type": "execute_result",
          "data": {
            "text/plain": [
              "numpy.ndarray"
            ]
          },
          "metadata": {},
          "execution_count": 9
        }
      ]
    },
    {
      "cell_type": "code",
      "source": [
        "print(iris_dataset['data'])"
      ],
      "metadata": {
        "colab": {
          "base_uri": "https://localhost:8080/"
        },
        "id": "Hfo9djrpMqXq",
        "outputId": "9b9670e3-7df4-4223-9563-c2ba46b0a713"
      },
      "execution_count": 10,
      "outputs": [
        {
          "output_type": "stream",
          "name": "stdout",
          "text": [
            "[[5.1 3.5 1.4 0.2]\n",
            " [4.9 3.  1.4 0.2]\n",
            " [4.7 3.2 1.3 0.2]\n",
            " [4.6 3.1 1.5 0.2]\n",
            " [5.  3.6 1.4 0.2]\n",
            " [5.4 3.9 1.7 0.4]\n",
            " [4.6 3.4 1.4 0.3]\n",
            " [5.  3.4 1.5 0.2]\n",
            " [4.4 2.9 1.4 0.2]\n",
            " [4.9 3.1 1.5 0.1]\n",
            " [5.4 3.7 1.5 0.2]\n",
            " [4.8 3.4 1.6 0.2]\n",
            " [4.8 3.  1.4 0.1]\n",
            " [4.3 3.  1.1 0.1]\n",
            " [5.8 4.  1.2 0.2]\n",
            " [5.7 4.4 1.5 0.4]\n",
            " [5.4 3.9 1.3 0.4]\n",
            " [5.1 3.5 1.4 0.3]\n",
            " [5.7 3.8 1.7 0.3]\n",
            " [5.1 3.8 1.5 0.3]\n",
            " [5.4 3.4 1.7 0.2]\n",
            " [5.1 3.7 1.5 0.4]\n",
            " [4.6 3.6 1.  0.2]\n",
            " [5.1 3.3 1.7 0.5]\n",
            " [4.8 3.4 1.9 0.2]\n",
            " [5.  3.  1.6 0.2]\n",
            " [5.  3.4 1.6 0.4]\n",
            " [5.2 3.5 1.5 0.2]\n",
            " [5.2 3.4 1.4 0.2]\n",
            " [4.7 3.2 1.6 0.2]\n",
            " [4.8 3.1 1.6 0.2]\n",
            " [5.4 3.4 1.5 0.4]\n",
            " [5.2 4.1 1.5 0.1]\n",
            " [5.5 4.2 1.4 0.2]\n",
            " [4.9 3.1 1.5 0.2]\n",
            " [5.  3.2 1.2 0.2]\n",
            " [5.5 3.5 1.3 0.2]\n",
            " [4.9 3.6 1.4 0.1]\n",
            " [4.4 3.  1.3 0.2]\n",
            " [5.1 3.4 1.5 0.2]\n",
            " [5.  3.5 1.3 0.3]\n",
            " [4.5 2.3 1.3 0.3]\n",
            " [4.4 3.2 1.3 0.2]\n",
            " [5.  3.5 1.6 0.6]\n",
            " [5.1 3.8 1.9 0.4]\n",
            " [4.8 3.  1.4 0.3]\n",
            " [5.1 3.8 1.6 0.2]\n",
            " [4.6 3.2 1.4 0.2]\n",
            " [5.3 3.7 1.5 0.2]\n",
            " [5.  3.3 1.4 0.2]\n",
            " [7.  3.2 4.7 1.4]\n",
            " [6.4 3.2 4.5 1.5]\n",
            " [6.9 3.1 4.9 1.5]\n",
            " [5.5 2.3 4.  1.3]\n",
            " [6.5 2.8 4.6 1.5]\n",
            " [5.7 2.8 4.5 1.3]\n",
            " [6.3 3.3 4.7 1.6]\n",
            " [4.9 2.4 3.3 1. ]\n",
            " [6.6 2.9 4.6 1.3]\n",
            " [5.2 2.7 3.9 1.4]\n",
            " [5.  2.  3.5 1. ]\n",
            " [5.9 3.  4.2 1.5]\n",
            " [6.  2.2 4.  1. ]\n",
            " [6.1 2.9 4.7 1.4]\n",
            " [5.6 2.9 3.6 1.3]\n",
            " [6.7 3.1 4.4 1.4]\n",
            " [5.6 3.  4.5 1.5]\n",
            " [5.8 2.7 4.1 1. ]\n",
            " [6.2 2.2 4.5 1.5]\n",
            " [5.6 2.5 3.9 1.1]\n",
            " [5.9 3.2 4.8 1.8]\n",
            " [6.1 2.8 4.  1.3]\n",
            " [6.3 2.5 4.9 1.5]\n",
            " [6.1 2.8 4.7 1.2]\n",
            " [6.4 2.9 4.3 1.3]\n",
            " [6.6 3.  4.4 1.4]\n",
            " [6.8 2.8 4.8 1.4]\n",
            " [6.7 3.  5.  1.7]\n",
            " [6.  2.9 4.5 1.5]\n",
            " [5.7 2.6 3.5 1. ]\n",
            " [5.5 2.4 3.8 1.1]\n",
            " [5.5 2.4 3.7 1. ]\n",
            " [5.8 2.7 3.9 1.2]\n",
            " [6.  2.7 5.1 1.6]\n",
            " [5.4 3.  4.5 1.5]\n",
            " [6.  3.4 4.5 1.6]\n",
            " [6.7 3.1 4.7 1.5]\n",
            " [6.3 2.3 4.4 1.3]\n",
            " [5.6 3.  4.1 1.3]\n",
            " [5.5 2.5 4.  1.3]\n",
            " [5.5 2.6 4.4 1.2]\n",
            " [6.1 3.  4.6 1.4]\n",
            " [5.8 2.6 4.  1.2]\n",
            " [5.  2.3 3.3 1. ]\n",
            " [5.6 2.7 4.2 1.3]\n",
            " [5.7 3.  4.2 1.2]\n",
            " [5.7 2.9 4.2 1.3]\n",
            " [6.2 2.9 4.3 1.3]\n",
            " [5.1 2.5 3.  1.1]\n",
            " [5.7 2.8 4.1 1.3]\n",
            " [6.3 3.3 6.  2.5]\n",
            " [5.8 2.7 5.1 1.9]\n",
            " [7.1 3.  5.9 2.1]\n",
            " [6.3 2.9 5.6 1.8]\n",
            " [6.5 3.  5.8 2.2]\n",
            " [7.6 3.  6.6 2.1]\n",
            " [4.9 2.5 4.5 1.7]\n",
            " [7.3 2.9 6.3 1.8]\n",
            " [6.7 2.5 5.8 1.8]\n",
            " [7.2 3.6 6.1 2.5]\n",
            " [6.5 3.2 5.1 2. ]\n",
            " [6.4 2.7 5.3 1.9]\n",
            " [6.8 3.  5.5 2.1]\n",
            " [5.7 2.5 5.  2. ]\n",
            " [5.8 2.8 5.1 2.4]\n",
            " [6.4 3.2 5.3 2.3]\n",
            " [6.5 3.  5.5 1.8]\n",
            " [7.7 3.8 6.7 2.2]\n",
            " [7.7 2.6 6.9 2.3]\n",
            " [6.  2.2 5.  1.5]\n",
            " [6.9 3.2 5.7 2.3]\n",
            " [5.6 2.8 4.9 2. ]\n",
            " [7.7 2.8 6.7 2. ]\n",
            " [6.3 2.7 4.9 1.8]\n",
            " [6.7 3.3 5.7 2.1]\n",
            " [7.2 3.2 6.  1.8]\n",
            " [6.2 2.8 4.8 1.8]\n",
            " [6.1 3.  4.9 1.8]\n",
            " [6.4 2.8 5.6 2.1]\n",
            " [7.2 3.  5.8 1.6]\n",
            " [7.4 2.8 6.1 1.9]\n",
            " [7.9 3.8 6.4 2. ]\n",
            " [6.4 2.8 5.6 2.2]\n",
            " [6.3 2.8 5.1 1.5]\n",
            " [6.1 2.6 5.6 1.4]\n",
            " [7.7 3.  6.1 2.3]\n",
            " [6.3 3.4 5.6 2.4]\n",
            " [6.4 3.1 5.5 1.8]\n",
            " [6.  3.  4.8 1.8]\n",
            " [6.9 3.1 5.4 2.1]\n",
            " [6.7 3.1 5.6 2.4]\n",
            " [6.9 3.1 5.1 2.3]\n",
            " [5.8 2.7 5.1 1.9]\n",
            " [6.8 3.2 5.9 2.3]\n",
            " [6.7 3.3 5.7 2.5]\n",
            " [6.7 3.  5.2 2.3]\n",
            " [6.3 2.5 5.  1.9]\n",
            " [6.5 3.  5.2 2. ]\n",
            " [6.2 3.4 5.4 2.3]\n",
            " [5.9 3.  5.1 1.8]]\n"
          ]
        }
      ]
    },
    {
      "cell_type": "code",
      "source": [
        "print(iris_dataset['target'])"
      ],
      "metadata": {
        "colab": {
          "base_uri": "https://localhost:8080/"
        },
        "id": "w52AVmt6M4F0",
        "outputId": "c743a6a6-52d8-4932-c2d7-d1bf937c64ed"
      },
      "execution_count": 12,
      "outputs": [
        {
          "output_type": "stream",
          "name": "stdout",
          "text": [
            "[0 0 0 0 0 0 0 0 0 0 0 0 0 0 0 0 0 0 0 0 0 0 0 0 0 0 0 0 0 0 0 0 0 0 0 0 0\n",
            " 0 0 0 0 0 0 0 0 0 0 0 0 0 1 1 1 1 1 1 1 1 1 1 1 1 1 1 1 1 1 1 1 1 1 1 1 1\n",
            " 1 1 1 1 1 1 1 1 1 1 1 1 1 1 1 1 1 1 1 1 1 1 1 1 1 1 2 2 2 2 2 2 2 2 2 2 2\n",
            " 2 2 2 2 2 2 2 2 2 2 2 2 2 2 2 2 2 2 2 2 2 2 2 2 2 2 2 2 2 2 2 2 2 2 2 2 2\n",
            " 2 2]\n"
          ]
        }
      ]
    },
    {
      "cell_type": "code",
      "source": [
        "len( iris_dataset['target'] )"
      ],
      "metadata": {
        "colab": {
          "base_uri": "https://localhost:8080/"
        },
        "id": "d9ZwBvOMM-0x",
        "outputId": "989e7111-c795-4965-b14f-5b8d8b981436"
      },
      "execution_count": 13,
      "outputs": [
        {
          "output_type": "execute_result",
          "data": {
            "text/plain": [
              "150"
            ]
          },
          "metadata": {},
          "execution_count": 13
        }
      ]
    },
    {
      "cell_type": "code",
      "source": [
        "iris_dataset['feature_names']"
      ],
      "metadata": {
        "colab": {
          "base_uri": "https://localhost:8080/"
        },
        "id": "9TvwVJkcNJQZ",
        "outputId": "92867241-9b69-4481-daa3-8697ca7de9c4"
      },
      "execution_count": 14,
      "outputs": [
        {
          "output_type": "execute_result",
          "data": {
            "text/plain": [
              "['sepal length (cm)',\n",
              " 'sepal width (cm)',\n",
              " 'petal length (cm)',\n",
              " 'petal width (cm)']"
            ]
          },
          "metadata": {},
          "execution_count": 14
        }
      ]
    },
    {
      "cell_type": "code",
      "source": [
        "iris_dataset['target'].shape"
      ],
      "metadata": {
        "colab": {
          "base_uri": "https://localhost:8080/"
        },
        "id": "D43Ou-Z_NPMH",
        "outputId": "2c206632-9cf3-4c8c-feca-cad7f6124172"
      },
      "execution_count": 20,
      "outputs": [
        {
          "output_type": "execute_result",
          "data": {
            "text/plain": [
              "(150,)"
            ]
          },
          "metadata": {},
          "execution_count": 20
        }
      ]
    },
    {
      "cell_type": "code",
      "source": [
        "iris_dataset['data'][-4:-1]"
      ],
      "metadata": {
        "colab": {
          "base_uri": "https://localhost:8080/"
        },
        "id": "wez04lZcNcvH",
        "outputId": "87895f11-419e-4bc6-d8ec-45b08a10bd49"
      },
      "execution_count": 26,
      "outputs": [
        {
          "output_type": "execute_result",
          "data": {
            "text/plain": [
              "array([[6.3, 2.5, 5. , 1.9],\n",
              "       [6.5, 3. , 5.2, 2. ],\n",
              "       [6.2, 3.4, 5.4, 2.3]])"
            ]
          },
          "metadata": {},
          "execution_count": 26
        }
      ]
    },
    {
      "cell_type": "code",
      "source": [
        "from sklearn.model_selection import train_test_split"
      ],
      "metadata": {
        "id": "bd0UlqnDN21s"
      },
      "execution_count": 27,
      "outputs": []
    },
    {
      "cell_type": "code",
      "source": [
        "X_train, X_test, Y_train, Y_Test = train_test_split(iris_dataset['data'], iris_dataset['target'], random_state=0)"
      ],
      "metadata": {
        "id": "hTpNc43kOeVV"
      },
      "execution_count": 28,
      "outputs": []
    },
    {
      "cell_type": "code",
      "source": [
        "print(X_train.shape)\n",
        "print(X_test.shape)\n",
        "print(Y_train.shape)\n",
        "print(Y_Test.shape)"
      ],
      "metadata": {
        "colab": {
          "base_uri": "https://localhost:8080/"
        },
        "id": "j0CjgB1yO5HB",
        "outputId": "9dffce11-2606-43d3-ec1a-7fd70db6e8ed"
      },
      "execution_count": 29,
      "outputs": [
        {
          "output_type": "stream",
          "name": "stdout",
          "text": [
            "(112, 4)\n",
            "(38, 4)\n",
            "(112,)\n",
            "(38,)\n"
          ]
        }
      ]
    },
    {
      "cell_type": "code",
      "source": [
        "from sklearn.neighbors import KNeighborsClassifier"
      ],
      "metadata": {
        "id": "26ujVF-vPQrG"
      },
      "execution_count": 30,
      "outputs": []
    },
    {
      "cell_type": "code",
      "source": [
        "knn = KNeighborsClassifier(n_neighbors=3, metric='cosine')"
      ],
      "metadata": {
        "id": "OEddEgHXPkjY"
      },
      "execution_count": 43,
      "outputs": []
    },
    {
      "cell_type": "code",
      "source": [
        "type(knn)"
      ],
      "metadata": {
        "colab": {
          "base_uri": "https://localhost:8080/",
          "height": 203
        },
        "id": "5R92RjQbPuuG",
        "outputId": "907c1ed4-c112-4d6f-8659-5bc6268c8cc8"
      },
      "execution_count": 44,
      "outputs": [
        {
          "output_type": "execute_result",
          "data": {
            "text/plain": [
              "sklearn.neighbors._classification.KNeighborsClassifier"
            ],
            "text/html": [
              "<div style=\"max-width:800px; border: 1px solid var(--colab-border-color);\"><style>\n",
              "      pre.function-repr-contents {\n",
              "        overflow-x: auto;\n",
              "        padding: 8px 12px;\n",
              "        max-height: 500px;\n",
              "      }\n",
              "\n",
              "      pre.function-repr-contents.function-repr-contents-collapsed {\n",
              "        cursor: pointer;\n",
              "        max-height: 100px;\n",
              "      }\n",
              "    </style>\n",
              "    <pre style=\"white-space: initial; background:\n",
              "         var(--colab-secondary-surface-color); padding: 8px 12px;\n",
              "         border-bottom: 1px solid var(--colab-border-color);\"><b>sklearn.neighbors._classification.KNeighborsClassifier</b><br/>def __init__(n_neighbors=5, *, weights=&#x27;uniform&#x27;, algorithm=&#x27;auto&#x27;, leaf_size=30, p=2, metric=&#x27;minkowski&#x27;, metric_params=None, n_jobs=None)</pre><pre class=\"function-repr-contents function-repr-contents-collapsed\" style=\"\"><a class=\"filepath\" style=\"display:none\" href=\"#\">/usr/local/lib/python3.11/dist-packages/sklearn/neighbors/_classification.py</a>Classifier implementing the k-nearest neighbors vote.\n",
              "\n",
              "Read more in the :ref:`User Guide &lt;classification&gt;`.\n",
              "\n",
              "Parameters\n",
              "----------\n",
              "n_neighbors : int, default=5\n",
              "    Number of neighbors to use by default for :meth:`kneighbors` queries.\n",
              "\n",
              "weights : {&#x27;uniform&#x27;, &#x27;distance&#x27;}, callable or None, default=&#x27;uniform&#x27;\n",
              "    Weight function used in prediction.  Possible values:\n",
              "\n",
              "    - &#x27;uniform&#x27; : uniform weights.  All points in each neighborhood\n",
              "      are weighted equally.\n",
              "    - &#x27;distance&#x27; : weight points by the inverse of their distance.\n",
              "      in this case, closer neighbors of a query point will have a\n",
              "      greater influence than neighbors which are further away.\n",
              "    - [callable] : a user-defined function which accepts an\n",
              "      array of distances, and returns an array of the same shape\n",
              "      containing the weights.\n",
              "\n",
              "    Refer to the example entitled\n",
              "    :ref:`sphx_glr_auto_examples_neighbors_plot_classification.py`\n",
              "    showing the impact of the `weights` parameter on the decision\n",
              "    boundary.\n",
              "\n",
              "algorithm : {&#x27;auto&#x27;, &#x27;ball_tree&#x27;, &#x27;kd_tree&#x27;, &#x27;brute&#x27;}, default=&#x27;auto&#x27;\n",
              "    Algorithm used to compute the nearest neighbors:\n",
              "\n",
              "    - &#x27;ball_tree&#x27; will use :class:`BallTree`\n",
              "    - &#x27;kd_tree&#x27; will use :class:`KDTree`\n",
              "    - &#x27;brute&#x27; will use a brute-force search.\n",
              "    - &#x27;auto&#x27; will attempt to decide the most appropriate algorithm\n",
              "      based on the values passed to :meth:`fit` method.\n",
              "\n",
              "    Note: fitting on sparse input will override the setting of\n",
              "    this parameter, using brute force.\n",
              "\n",
              "leaf_size : int, default=30\n",
              "    Leaf size passed to BallTree or KDTree.  This can affect the\n",
              "    speed of the construction and query, as well as the memory\n",
              "    required to store the tree.  The optimal value depends on the\n",
              "    nature of the problem.\n",
              "\n",
              "p : float, default=2\n",
              "    Power parameter for the Minkowski metric. When p = 1, this is equivalent\n",
              "    to using manhattan_distance (l1), and euclidean_distance (l2) for p = 2.\n",
              "    For arbitrary p, minkowski_distance (l_p) is used. This parameter is expected\n",
              "    to be positive.\n",
              "\n",
              "metric : str or callable, default=&#x27;minkowski&#x27;\n",
              "    Metric to use for distance computation. Default is &quot;minkowski&quot;, which\n",
              "    results in the standard Euclidean distance when p = 2. See the\n",
              "    documentation of `scipy.spatial.distance\n",
              "    &lt;https://docs.scipy.org/doc/scipy/reference/spatial.distance.html&gt;`_ and\n",
              "    the metrics listed in\n",
              "    :class:`~sklearn.metrics.pairwise.distance_metrics` for valid metric\n",
              "    values.\n",
              "\n",
              "    If metric is &quot;precomputed&quot;, X is assumed to be a distance matrix and\n",
              "    must be square during fit. X may be a :term:`sparse graph`, in which\n",
              "    case only &quot;nonzero&quot; elements may be considered neighbors.\n",
              "\n",
              "    If metric is a callable function, it takes two arrays representing 1D\n",
              "    vectors as inputs and must return one value indicating the distance\n",
              "    between those vectors. This works for Scipy&#x27;s metrics, but is less\n",
              "    efficient than passing the metric name as a string.\n",
              "\n",
              "metric_params : dict, default=None\n",
              "    Additional keyword arguments for the metric function.\n",
              "\n",
              "n_jobs : int, default=None\n",
              "    The number of parallel jobs to run for neighbors search.\n",
              "    ``None`` means 1 unless in a :obj:`joblib.parallel_backend` context.\n",
              "    ``-1`` means using all processors. See :term:`Glossary &lt;n_jobs&gt;`\n",
              "    for more details.\n",
              "    Doesn&#x27;t affect :meth:`fit` method.\n",
              "\n",
              "Attributes\n",
              "----------\n",
              "classes_ : array of shape (n_classes,)\n",
              "    Class labels known to the classifier\n",
              "\n",
              "effective_metric_ : str or callble\n",
              "    The distance metric used. It will be same as the `metric` parameter\n",
              "    or a synonym of it, e.g. &#x27;euclidean&#x27; if the `metric` parameter set to\n",
              "    &#x27;minkowski&#x27; and `p` parameter set to 2.\n",
              "\n",
              "effective_metric_params_ : dict\n",
              "    Additional keyword arguments for the metric function. For most metrics\n",
              "    will be same with `metric_params` parameter, but may also contain the\n",
              "    `p` parameter value if the `effective_metric_` attribute is set to\n",
              "    &#x27;minkowski&#x27;.\n",
              "\n",
              "n_features_in_ : int\n",
              "    Number of features seen during :term:`fit`.\n",
              "\n",
              "    .. versionadded:: 0.24\n",
              "\n",
              "feature_names_in_ : ndarray of shape (`n_features_in_`,)\n",
              "    Names of features seen during :term:`fit`. Defined only when `X`\n",
              "    has feature names that are all strings.\n",
              "\n",
              "    .. versionadded:: 1.0\n",
              "\n",
              "n_samples_fit_ : int\n",
              "    Number of samples in the fitted data.\n",
              "\n",
              "outputs_2d_ : bool\n",
              "    False when `y`&#x27;s shape is (n_samples, ) or (n_samples, 1) during fit\n",
              "    otherwise True.\n",
              "\n",
              "See Also\n",
              "--------\n",
              "RadiusNeighborsClassifier: Classifier based on neighbors within a fixed radius.\n",
              "KNeighborsRegressor: Regression based on k-nearest neighbors.\n",
              "RadiusNeighborsRegressor: Regression based on neighbors within a fixed radius.\n",
              "NearestNeighbors: Unsupervised learner for implementing neighbor searches.\n",
              "\n",
              "Notes\n",
              "-----\n",
              "See :ref:`Nearest Neighbors &lt;neighbors&gt;` in the online documentation\n",
              "for a discussion of the choice of ``algorithm`` and ``leaf_size``.\n",
              "\n",
              ".. warning::\n",
              "\n",
              "   Regarding the Nearest Neighbors algorithms, if it is found that two\n",
              "   neighbors, neighbor `k+1` and `k`, have identical distances\n",
              "   but different labels, the results will depend on the ordering of the\n",
              "   training data.\n",
              "\n",
              "https://en.wikipedia.org/wiki/K-nearest_neighbor_algorithm\n",
              "\n",
              "Examples\n",
              "--------\n",
              "&gt;&gt;&gt; X = [[0], [1], [2], [3]]\n",
              "&gt;&gt;&gt; y = [0, 0, 1, 1]\n",
              "&gt;&gt;&gt; from sklearn.neighbors import KNeighborsClassifier\n",
              "&gt;&gt;&gt; neigh = KNeighborsClassifier(n_neighbors=3)\n",
              "&gt;&gt;&gt; neigh.fit(X, y)\n",
              "KNeighborsClassifier(...)\n",
              "&gt;&gt;&gt; print(neigh.predict([[1.1]]))\n",
              "[0]\n",
              "&gt;&gt;&gt; print(neigh.predict_proba([[0.9]]))\n",
              "[[0.666... 0.333...]]</pre>\n",
              "      <script>\n",
              "      if (google.colab.kernel.accessAllowed && google.colab.files && google.colab.files.view) {\n",
              "        for (const element of document.querySelectorAll('.filepath')) {\n",
              "          element.style.display = 'block'\n",
              "          element.onclick = (event) => {\n",
              "            event.preventDefault();\n",
              "            event.stopPropagation();\n",
              "            google.colab.files.view(element.textContent, 40);\n",
              "          };\n",
              "        }\n",
              "      }\n",
              "      for (const element of document.querySelectorAll('.function-repr-contents')) {\n",
              "        element.onclick = (event) => {\n",
              "          event.preventDefault();\n",
              "          event.stopPropagation();\n",
              "          element.classList.toggle('function-repr-contents-collapsed');\n",
              "        };\n",
              "      }\n",
              "      </script>\n",
              "      </div>"
            ]
          },
          "metadata": {},
          "execution_count": 44
        }
      ]
    },
    {
      "cell_type": "code",
      "source": [
        "knnModel = knn.fit(X_train, Y_train)"
      ],
      "metadata": {
        "id": "8eO93dKLPvxa"
      },
      "execution_count": 45,
      "outputs": []
    },
    {
      "cell_type": "code",
      "source": [
        "knnModel.score(X_test, Y_Test)"
      ],
      "metadata": {
        "colab": {
          "base_uri": "https://localhost:8080/"
        },
        "id": "w8QnPjOuRv8f",
        "outputId": "cfe20ad3-5ef9-41a4-c327-b4fc322e78bb"
      },
      "execution_count": 46,
      "outputs": [
        {
          "output_type": "execute_result",
          "data": {
            "text/plain": [
              "0.9210526315789473"
            ]
          },
          "metadata": {},
          "execution_count": 46
        }
      ]
    },
    {
      "cell_type": "code",
      "source": [
        "knnModel.predict(X_test)"
      ],
      "metadata": {
        "colab": {
          "base_uri": "https://localhost:8080/"
        },
        "id": "fJRFk6PwR3I2",
        "outputId": "4661932f-765e-4087-c3a0-edca3728f274"
      },
      "execution_count": 47,
      "outputs": [
        {
          "output_type": "execute_result",
          "data": {
            "text/plain": [
              "array([2, 1, 0, 2, 0, 2, 0, 1, 1, 1, 2, 1, 1, 1, 1, 0, 1, 2, 0, 0, 2, 1,\n",
              "       0, 0, 2, 0, 0, 1, 1, 0, 2, 2, 0, 2, 2, 1, 0, 2])"
            ]
          },
          "metadata": {},
          "execution_count": 47
        }
      ]
    },
    {
      "cell_type": "code",
      "source": [
        "Y_Test"
      ],
      "metadata": {
        "colab": {
          "base_uri": "https://localhost:8080/"
        },
        "id": "035_ktp4SVHO",
        "outputId": "cd9ca131-6d16-43bb-cd37-438318325763"
      },
      "execution_count": 50,
      "outputs": [
        {
          "output_type": "execute_result",
          "data": {
            "text/plain": [
              "array([2, 1, 0, 2, 0, 2, 0, 1, 1, 1, 2, 1, 1, 1, 1, 0, 1, 1, 0, 0, 2, 1,\n",
              "       0, 0, 2, 0, 0, 1, 1, 0, 2, 1, 0, 2, 2, 1, 0, 1])"
            ]
          },
          "metadata": {},
          "execution_count": 50
        }
      ]
    },
    {
      "cell_type": "code",
      "source": [],
      "metadata": {
        "id": "wNQdDPl6SXdu"
      },
      "execution_count": null,
      "outputs": []
    }
  ]
}