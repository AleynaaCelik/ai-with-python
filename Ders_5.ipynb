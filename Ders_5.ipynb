{
  "nbformat": 4,
  "nbformat_minor": 0,
  "metadata": {
    "colab": {
      "provenance": []
    },
    "kernelspec": {
      "name": "python3",
      "display_name": "Python 3"
    },
    "language_info": {
      "name": "python"
    }
  },
  "cells": [
    {
      "cell_type": "markdown",
      "source": [
        "While Lops,miscellanous properties"
      ],
      "metadata": {
        "id": "3D6VlxJlsdsl"
      }
    },
    {
      "cell_type": "code",
      "source": [
        "for i in range(4):\n",
        "  girdi=input('Bir karakter giriniz:')"
      ],
      "metadata": {
        "colab": {
          "base_uri": "https://localhost:8080/"
        },
        "id": "_hAjwOjsskuj",
        "outputId": "92f2b266-9342-460f-e560-58918d5a1ea6"
      },
      "execution_count": 2,
      "outputs": [
        {
          "name": "stdout",
          "output_type": "stream",
          "text": [
            "Bir karakter giriniz:a\n",
            "Bir karakter giriniz:e\n",
            "Bir karakter giriniz:w\n",
            "Bir karakter giriniz:f\n"
          ]
        }
      ]
    },
    {
      "cell_type": "code",
      "source": [
        "girdi=''\n",
        "L=[];\n",
        "while girdi!='q':\n",
        "  girdi=input('Bir karakter giriniz:')\n",
        "  L.append(girdi)\n",
        "print(L)\n",
        "#print(\"\".join(L)) string yapmak için"
      ],
      "metadata": {
        "colab": {
          "base_uri": "https://localhost:8080/"
        },
        "id": "shPRTUyBtWNb",
        "outputId": "018c7a6c-6ce3-4fa2-dbae-2c112c5e66f5"
      },
      "execution_count": 4,
      "outputs": [
        {
          "output_type": "stream",
          "name": "stdout",
          "text": [
            "Bir karakter giriniz:w\n",
            "Bir karakter giriniz:e\n",
            "Bir karakter giriniz:\n",
            "Bir karakter giriniz:t\n",
            "Bir karakter giriniz:t\n",
            "Bir karakter giriniz:u\n",
            "Bir karakter giriniz:u\n",
            "Bir karakter giriniz:q\n",
            "['w', 'e', '', 't', 't', 'u', 'u', 'q']\n"
          ]
        }
      ]
    },
    {
      "cell_type": "code",
      "source": [
        "temp=0\n",
        "while temp!=1000:\n",
        "  temp=eval(input('Bir derce giriniz:(-1000  to quit :)'))\n",
        "  print('In fahreneit that is ',9/5*temp+32)"
      ],
      "metadata": {
        "colab": {
          "base_uri": "https://localhost:8080/",
          "height": 408
        },
        "id": "dGdJowyUt2BZ",
        "outputId": "e4a375b7-d79c-4697-d33b-784a3eb15c85"
      },
      "execution_count": 6,
      "outputs": [
        {
          "output_type": "stream",
          "name": "stdout",
          "text": [
            "Bir derce giriniz:(-1000  to quit :)-1000\n",
            "In fahreneit that is  -1768.0\n",
            "Bir derce giriniz:(-1000  to quit :)-1000000000000\n",
            "In fahreneit that is  -1799999999968.0\n"
          ]
        },
        {
          "output_type": "error",
          "ename": "KeyboardInterrupt",
          "evalue": "Interrupted by user",
          "traceback": [
            "\u001b[0;31m---------------------------------------------------------------------------\u001b[0m",
            "\u001b[0;31mKeyboardInterrupt\u001b[0m                         Traceback (most recent call last)",
            "\u001b[0;32m/tmp/ipython-input-6-3545228957.py\u001b[0m in \u001b[0;36m<cell line: 0>\u001b[0;34m()\u001b[0m\n\u001b[1;32m      1\u001b[0m \u001b[0mtemp\u001b[0m\u001b[0;34m=\u001b[0m\u001b[0;36m0\u001b[0m\u001b[0;34m\u001b[0m\u001b[0;34m\u001b[0m\u001b[0m\n\u001b[1;32m      2\u001b[0m \u001b[0;32mwhile\u001b[0m \u001b[0mtemp\u001b[0m\u001b[0;34m!=\u001b[0m\u001b[0;36m1000\u001b[0m\u001b[0;34m:\u001b[0m\u001b[0;34m\u001b[0m\u001b[0;34m\u001b[0m\u001b[0m\n\u001b[0;32m----> 3\u001b[0;31m   \u001b[0mtemp\u001b[0m\u001b[0;34m=\u001b[0m\u001b[0meval\u001b[0m\u001b[0;34m(\u001b[0m\u001b[0minput\u001b[0m\u001b[0;34m(\u001b[0m\u001b[0;34m'Bir derce giriniz:(-1000  to quit :)'\u001b[0m\u001b[0;34m)\u001b[0m\u001b[0;34m)\u001b[0m\u001b[0;34m\u001b[0m\u001b[0;34m\u001b[0m\u001b[0m\n\u001b[0m\u001b[1;32m      4\u001b[0m   \u001b[0mprint\u001b[0m\u001b[0;34m(\u001b[0m\u001b[0;34m'In fahreneit that is '\u001b[0m\u001b[0;34m,\u001b[0m\u001b[0;36m9\u001b[0m\u001b[0;34m/\u001b[0m\u001b[0;36m5\u001b[0m\u001b[0;34m*\u001b[0m\u001b[0mtemp\u001b[0m\u001b[0;34m+\u001b[0m\u001b[0;36m32\u001b[0m\u001b[0;34m)\u001b[0m\u001b[0;34m\u001b[0m\u001b[0;34m\u001b[0m\u001b[0m\n",
            "\u001b[0;32m/usr/local/lib/python3.11/dist-packages/ipykernel/kernelbase.py\u001b[0m in \u001b[0;36mraw_input\u001b[0;34m(self, prompt)\u001b[0m\n\u001b[1;32m   1175\u001b[0m                 \u001b[0;34m\"raw_input was called, but this frontend does not support input requests.\"\u001b[0m\u001b[0;34m\u001b[0m\u001b[0;34m\u001b[0m\u001b[0m\n\u001b[1;32m   1176\u001b[0m             )\n\u001b[0;32m-> 1177\u001b[0;31m         return self._input_request(\n\u001b[0m\u001b[1;32m   1178\u001b[0m             \u001b[0mstr\u001b[0m\u001b[0;34m(\u001b[0m\u001b[0mprompt\u001b[0m\u001b[0;34m)\u001b[0m\u001b[0;34m,\u001b[0m\u001b[0;34m\u001b[0m\u001b[0;34m\u001b[0m\u001b[0m\n\u001b[1;32m   1179\u001b[0m             \u001b[0mself\u001b[0m\u001b[0;34m.\u001b[0m\u001b[0m_parent_ident\u001b[0m\u001b[0;34m[\u001b[0m\u001b[0;34m\"shell\"\u001b[0m\u001b[0;34m]\u001b[0m\u001b[0;34m,\u001b[0m\u001b[0;34m\u001b[0m\u001b[0;34m\u001b[0m\u001b[0m\n",
            "\u001b[0;32m/usr/local/lib/python3.11/dist-packages/ipykernel/kernelbase.py\u001b[0m in \u001b[0;36m_input_request\u001b[0;34m(self, prompt, ident, parent, password)\u001b[0m\n\u001b[1;32m   1217\u001b[0m             \u001b[0;32mexcept\u001b[0m \u001b[0mKeyboardInterrupt\u001b[0m\u001b[0;34m:\u001b[0m\u001b[0;34m\u001b[0m\u001b[0;34m\u001b[0m\u001b[0m\n\u001b[1;32m   1218\u001b[0m                 \u001b[0;31m# re-raise KeyboardInterrupt, to truncate traceback\u001b[0m\u001b[0;34m\u001b[0m\u001b[0;34m\u001b[0m\u001b[0m\n\u001b[0;32m-> 1219\u001b[0;31m                 \u001b[0;32mraise\u001b[0m \u001b[0mKeyboardInterrupt\u001b[0m\u001b[0;34m(\u001b[0m\u001b[0;34m\"Interrupted by user\"\u001b[0m\u001b[0;34m)\u001b[0m \u001b[0;32mfrom\u001b[0m \u001b[0;32mNone\u001b[0m\u001b[0;34m\u001b[0m\u001b[0;34m\u001b[0m\u001b[0m\n\u001b[0m\u001b[1;32m   1220\u001b[0m             \u001b[0;32mexcept\u001b[0m \u001b[0mException\u001b[0m\u001b[0;34m:\u001b[0m\u001b[0;34m\u001b[0m\u001b[0;34m\u001b[0m\u001b[0m\n\u001b[1;32m   1221\u001b[0m                 \u001b[0mself\u001b[0m\u001b[0;34m.\u001b[0m\u001b[0mlog\u001b[0m\u001b[0;34m.\u001b[0m\u001b[0mwarning\u001b[0m\u001b[0;34m(\u001b[0m\u001b[0;34m\"Invalid Message:\"\u001b[0m\u001b[0;34m,\u001b[0m \u001b[0mexc_info\u001b[0m\u001b[0;34m=\u001b[0m\u001b[0;32mTrue\u001b[0m\u001b[0;34m)\u001b[0m\u001b[0;34m\u001b[0m\u001b[0;34m\u001b[0m\u001b[0m\n",
            "\u001b[0;31mKeyboardInterrupt\u001b[0m: Interrupted by user"
          ]
        }
      ]
    },
    {
      "cell_type": "code",
      "source": [
        "from random import randint\n",
        "secret_num=randint(1,10)\n",
        "num=0\n",
        "while num!=secret_num:\n",
        "  num=eval(input('Please guess a number between 1 and 10:'))\n"
      ],
      "metadata": {
        "colab": {
          "base_uri": "https://localhost:8080/"
        },
        "id": "GaoCYe0Hv31A",
        "outputId": "caea6535-372c-4b51-b77e-f5a3879ef888"
      },
      "execution_count": 11,
      "outputs": [
        {
          "name": "stdout",
          "output_type": "stream",
          "text": [
            "Please guess a number between 1 and 10:1\n",
            "Please guess a number between 1 and 10:2\n",
            "Please guess a number between 1 and 10:3\n",
            "Please guess a number between 1 and 10:4\n"
          ]
        }
      ]
    },
    {
      "cell_type": "code",
      "source": [
        "num==secret_num"
      ],
      "metadata": {
        "colab": {
          "base_uri": "https://localhost:8080/"
        },
        "id": "a5msGcQ8xu88",
        "outputId": "fa681ce9-4cbb-499c-a8d9-4b148b09b4ad"
      },
      "execution_count": 13,
      "outputs": [
        {
          "output_type": "execute_result",
          "data": {
            "text/plain": [
              "True"
            ]
          },
          "metadata": {},
          "execution_count": 13
        }
      ]
    },
    {
      "cell_type": "code",
      "source": [
        "num!=secret_num"
      ],
      "metadata": {
        "colab": {
          "base_uri": "https://localhost:8080/"
        },
        "id": "ma3L8PQmxz5E",
        "outputId": "51cbae1d-a90c-430a-929d-ed828777b95b"
      },
      "execution_count": 15,
      "outputs": [
        {
          "output_type": "execute_result",
          "data": {
            "text/plain": [
              "False"
            ]
          },
          "metadata": {},
          "execution_count": 15
        }
      ]
    },
    {
      "cell_type": "code",
      "source": [
        "for i in range(7):\n",
        "  print(i,end='')"
      ],
      "metadata": {
        "colab": {
          "base_uri": "https://localhost:8080/"
        },
        "id": "DiPyF1Thyw_W",
        "outputId": "ce93729a-2f84-4f5f-d7cb-a5aca9e639a3"
      },
      "execution_count": 17,
      "outputs": [
        {
          "output_type": "stream",
          "name": "stdout",
          "text": [
            "0123456"
          ]
        }
      ]
    },
    {
      "cell_type": "code",
      "source": [
        "i=0\n",
        "while i<7:\n",
        "  print(i,end='')\n",
        "  i+=1"
      ],
      "metadata": {
        "colab": {
          "base_uri": "https://localhost:8080/"
        },
        "id": "QkgppMfGx5zG",
        "outputId": "e4643f48-2972-4fa2-fa3b-84341b48acda"
      },
      "execution_count": 16,
      "outputs": [
        {
          "output_type": "stream",
          "name": "stdout",
          "text": [
            "0123456"
          ]
        }
      ]
    },
    {
      "cell_type": "code",
      "source": [
        "for i in range(5):\n",
        "  num=eval(input('Please enter a number:'))\n",
        "  if num < 0:\n",
        "    break"
      ],
      "metadata": {
        "colab": {
          "base_uri": "https://localhost:8080/"
        },
        "id": "YmB10nCWzIx8",
        "outputId": "9ca3df9e-8f0e-4e6b-f34e-6b8185b5b261"
      },
      "execution_count": 21,
      "outputs": [
        {
          "name": "stdout",
          "output_type": "stream",
          "text": [
            "Please enter a number:2\n",
            "Please enter a number:3\n",
            "Please enter a number:7\n",
            "Please enter a number:34\n",
            "Please enter a number:-4\n"
          ]
        }
      ]
    },
    {
      "cell_type": "code",
      "source": [
        "num=0\n",
        "while num>=0:\n",
        "  num=eval(input('Please enter a number:'))"
      ],
      "metadata": {
        "colab": {
          "base_uri": "https://localhost:8080/"
        },
        "id": "j_K-bbgR0YjK",
        "outputId": "e3bce617-2c99-4887-902b-e30ab701d597"
      },
      "execution_count": 22,
      "outputs": [
        {
          "name": "stdout",
          "output_type": "stream",
          "text": [
            "Please enter a number:2\n",
            "Please enter a number:3\n",
            "Please enter a number:-5\n"
          ]
        }
      ]
    },
    {
      "cell_type": "code",
      "source": [
        "for i in range(10):\n",
        "  num =eval(input('Please enter a number:'))\n",
        "  if num<0:\n",
        "    print('Stopped early')\n",
        "    break\n",
        "else:\n",
        "  print('User entered all ten value')\n",
        ""
      ],
      "metadata": {
        "colab": {
          "base_uri": "https://localhost:8080/"
        },
        "id": "aQJr-yaq04Dl",
        "outputId": "27e5d167-2fd1-4feb-e3f6-3e6121bc8f89"
      },
      "execution_count": 23,
      "outputs": [
        {
          "output_type": "stream",
          "name": "stdout",
          "text": [
            "Please enter a number:2\n",
            "Please enter a number:3\n",
            "Please enter a number:4\n",
            "Please enter a number:5\n",
            "Please enter a number:6\n",
            "Please enter a number:7\n",
            "Please enter a number:1\n",
            "Please enter a number:8\n",
            "Please enter a number:9\n",
            "Please enter a number:10\n",
            "User entered all ten value\n"
          ]
        }
      ]
    },
    {
      "cell_type": "code",
      "source": [
        "score=0\n",
        "L=[]\n",
        "while score >=0:\n",
        "  score=eval(input('Please enter your score:0-100'))\n",
        "  if score>=0:\n",
        "    L.append(score)\n",
        "print(L)\n",
        "# We don't need to remove -1 as it's not added to the list\n",
        "# L.remove(-1)\n",
        "# print(L)\n",
        "if L: # Check if the list is not empty before calculating average\n",
        "    print('Ortalama ='+str(sum(L)/len(L)))\n",
        "    # Count scores greater than 80 using a generator expression and sum\n",
        "    count = sum(1 for item in L if item > 80)\n",
        "    print('Toplam'+str(count)+' Kisi A almıştır')\n",
        "else:\n",
        "    print(\"No valid scores entered.\")"
      ],
      "metadata": {
        "colab": {
          "base_uri": "https://localhost:8080/"
        },
        "id": "_xWQ4k-M4ypl",
        "outputId": "552cb9ad-bde1-4c21-8b01-88afb633420f"
      },
      "execution_count": 25,
      "outputs": [
        {
          "output_type": "stream",
          "name": "stdout",
          "text": [
            "Please enter your score:0-10010\n",
            "Please enter your score:0-10020\n",
            "Please enter your score:0-10030\n",
            "Please enter your score:0-10040\n",
            "Please enter your score:0-100-1\n",
            "[10, 20, 30, 40]\n",
            "Ortalama =25.0\n",
            "Toplam0 Kisi A almıştır\n"
          ]
        }
      ]
    },
    {
      "cell_type": "code",
      "source": [
        "words = ['hello', 'world', 'python', 'clear', 'java']\n",
        "\n",
        "for item in words:\n",
        "    print(f\"\\nKelime: '{item}'\")\n",
        "    print(f\"  Uzunluk: {len(item)}\")\n",
        "\n",
        "    if len(item) > 4:\n",
        "        print(f\"  4. indeks (5. karakter): '{item[4]}'\")\n",
        "        if item[4] == 'o':\n",
        "            print(\"  ✅ KOŞUL SAĞLANDI: Uzunluk > 4 ve 5. karakter 'o'\")\n",
        "            print(\"  OK!\")\n",
        "        else:\n",
        "            print(f\"  ❌ 5. karakter 'o' değil: '{item[4]}'\")\n",
        "    else:\n",
        "        print(\"  ❌ Uzunluk 4 veya daha az\")\n",
        "\n",
        "print(\"\\n\" + \"=\"*40)\n",
        "print(\"=== SONUÇ ===\")\n",
        "print(\"Koşulu sağlayan kelimeler:\")\n",
        "print(\"- 'hello': 5 karakter, hello[4] = 'o' ✅\")\n",
        "print(\"- 'python': 6 karakter, python[4] = 'o' ✅\")\n",
        "print(\"Toplam 2 tane 'OK!' yazdırılır\")"
      ],
      "metadata": {
        "id": "ryXHI-x179R-"
      },
      "execution_count": null,
      "outputs": []
    },
    {
      "cell_type": "code",
      "source": [
        "sayi = 45.6743654\n",
        "print('Sayi = {:.6f}'.format(sayi))"
      ],
      "metadata": {
        "id": "nVYh_CL8JYKt",
        "outputId": "1ec484a7-fd4a-4dd4-b1ac-5ebf69739406",
        "colab": {
          "base_uri": "https://localhost:8080/"
        }
      },
      "execution_count": 26,
      "outputs": [
        {
          "output_type": "stream",
          "name": "stdout",
          "text": [
            "Sayi = 45.674365\n"
          ]
        }
      ]
    },
    {
      "cell_type": "code",
      "source": [
        "print('{:>5d}'.format(72))\n",
        "print('{:>5d}'.format(724))\n",
        "print('{:>5d}'.format(1172))\n",
        "\n",
        "print('{:,d}'.format(10000000))"
      ],
      "metadata": {
        "id": "S0NJZLpmK1UZ",
        "outputId": "7b90e609-c065-41f4-bccb-903a77849c92",
        "colab": {
          "base_uri": "https://localhost:8080/"
        }
      },
      "execution_count": 27,
      "outputs": [
        {
          "output_type": "stream",
          "name": "stdout",
          "text": [
            "   72\n",
            "  724\n",
            " 1172\n",
            "10,000,000\n"
          ]
        }
      ]
    },
    {
      "cell_type": "code",
      "source": [
        "print('{:>16s}'.format('Hi'))\n",
        "print('{:>16s}'.format('There'))"
      ],
      "metadata": {
        "id": "ylBoixnTLoM6",
        "outputId": "fb06a54a-0acd-42c4-da0b-676329bf1a84",
        "colab": {
          "base_uri": "https://localhost:8080/"
        }
      },
      "execution_count": 28,
      "outputs": [
        {
          "output_type": "stream",
          "name": "stdout",
          "text": [
            "              Hi\n",
            "           There\n"
          ]
        }
      ]
    },
    {
      "cell_type": "code",
      "source": [
        "name=\"Carol\"\n",
        "age=28\n",
        "print(\"My name is %s and I am %d yeard old\"%(name,age))\n"
      ],
      "metadata": {
        "id": "5G1v7JmELzu8",
        "outputId": "0a46e565-19dc-4dfd-d4a9-7bff0e805228",
        "colab": {
          "base_uri": "https://localhost:8080/"
        }
      },
      "execution_count": 30,
      "outputs": [
        {
          "output_type": "stream",
          "name": "stdout",
          "text": [
            "My name is Carol and I am 28 yeard old\n"
          ]
        }
      ]
    },
    {
      "cell_type": "code",
      "source": [
        "from pprint import pprint\n",
        "\n",
        "# List comprehension ile 10x10 çarpım tablosu\n",
        "table = [[i*j for j in range(1,11)] for i in range(1,11)]\n",
        "\n",
        "# pprint ile yazdır\n",
        "pprint(table)\n",
        "\n",
        "# Daha güzel formatlı yazdırma\n",
        "print(\"\\n=== Formatlı Çarpım Tablosu ===\")\n",
        "for row in table:\n",
        "    print(' '.join(f'{num:3d}' for num in row))"
      ],
      "metadata": {
        "id": "GXmMO4JUMVdT",
        "outputId": "3caebe76-4b1b-48df-caa4-b17f8edfbb51",
        "colab": {
          "base_uri": "https://localhost:8080/"
        }
      },
      "execution_count": 31,
      "outputs": [
        {
          "output_type": "stream",
          "name": "stdout",
          "text": [
            "[[1, 2, 3, 4, 5, 6, 7, 8, 9, 10],\n",
            " [2, 4, 6, 8, 10, 12, 14, 16, 18, 20],\n",
            " [3, 6, 9, 12, 15, 18, 21, 24, 27, 30],\n",
            " [4, 8, 12, 16, 20, 24, 28, 32, 36, 40],\n",
            " [5, 10, 15, 20, 25, 30, 35, 40, 45, 50],\n",
            " [6, 12, 18, 24, 30, 36, 42, 48, 54, 60],\n",
            " [7, 14, 21, 28, 35, 42, 49, 56, 63, 70],\n",
            " [8, 16, 24, 32, 40, 48, 56, 64, 72, 80],\n",
            " [9, 18, 27, 36, 45, 54, 63, 72, 81, 90],\n",
            " [10, 20, 30, 40, 50, 60, 70, 80, 90, 100]]\n",
            "\n",
            "=== Formatlı Çarpım Tablosu ===\n",
            "  1   2   3   4   5   6   7   8   9  10\n",
            "  2   4   6   8  10  12  14  16  18  20\n",
            "  3   6   9  12  15  18  21  24  27  30\n",
            "  4   8  12  16  20  24  28  32  36  40\n",
            "  5  10  15  20  25  30  35  40  45  50\n",
            "  6  12  18  24  30  36  42  48  54  60\n",
            "  7  14  21  28  35  42  49  56  63  70\n",
            "  8  16  24  32  40  48  56  64  72  80\n",
            "  9  18  27  36  45  54  63  72  81  90\n",
            " 10  20  30  40  50  60  70  80  90 100\n"
          ]
        }
      ]
    },
    {
      "cell_type": "code",
      "source": [],
      "metadata": {
        "id": "4-nT9eFtNBub"
      },
      "execution_count": 34,
      "outputs": []
    },
    {
      "cell_type": "code",
      "source": [],
      "metadata": {
        "id": "tAltl3ZoNxWS"
      },
      "execution_count": null,
      "outputs": []
    }
  ]
}