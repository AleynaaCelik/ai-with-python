{
  "nbformat": 4,
  "nbformat_minor": 0,
  "metadata": {
    "colab": {
      "provenance": []
    },
    "kernelspec": {
      "name": "python3",
      "display_name": "Python 3"
    },
    "language_info": {
      "name": "python"
    }
  },
  "cells": [
    {
      "cell_type": "code",
      "execution_count": null,
      "metadata": {
        "id": "7_RAJ9MgUC4F"
      },
      "outputs": [],
      "source": [
        "s1 = \"Merhaba Python!\"\n",
        "s2 = 'Machine Learning with Python'\n",
        "s3 = \"Ahmet'in kalemi\""
      ]
    },
    {
      "cell_type": "code",
      "source": [
        "print(s1)"
      ],
      "metadata": {
        "colab": {
          "base_uri": "https://localhost:8080/"
        },
        "id": "UQZj7sU3VP12",
        "outputId": "afd0684b-4274-4ed3-915b-f9dc1a30a6a6"
      },
      "execution_count": null,
      "outputs": [
        {
          "output_type": "stream",
          "name": "stdout",
          "text": [
            "Merhaba Python!\n"
          ]
        }
      ]
    },
    {
      "cell_type": "code",
      "source": [
        "print(s2)"
      ],
      "metadata": {
        "colab": {
          "base_uri": "https://localhost:8080/"
        },
        "id": "AsqtHnnjVTjT",
        "outputId": "374ce127-f065-46aa-ccb7-898de62bd0a9"
      },
      "execution_count": null,
      "outputs": [
        {
          "output_type": "stream",
          "name": "stdout",
          "text": [
            "Machine Learning with Python\n"
          ]
        }
      ]
    },
    {
      "cell_type": "code",
      "source": [
        "len(s1)"
      ],
      "metadata": {
        "colab": {
          "base_uri": "https://localhost:8080/"
        },
        "id": "o_ZNRBkQVXo6",
        "outputId": "f3d1d75f-fc15-4263-9034-a15001c2f92c"
      },
      "execution_count": null,
      "outputs": [
        {
          "output_type": "execute_result",
          "data": {
            "text/plain": [
              "15"
            ]
          },
          "metadata": {},
          "execution_count": 7
        }
      ]
    },
    {
      "cell_type": "code",
      "source": [
        "# ascii code\n",
        "print(s3)"
      ],
      "metadata": {
        "colab": {
          "base_uri": "https://localhost:8080/"
        },
        "id": "N8xDLG6kViwA",
        "outputId": "5ee8c502-936d-4797-d854-0d36fd1f9a7a"
      },
      "execution_count": null,
      "outputs": [
        {
          "output_type": "stream",
          "name": "stdout",
          "text": [
            "Ahmet'in kalemi\n"
          ]
        }
      ]
    },
    {
      "cell_type": "code",
      "source": [
        "len(s3)"
      ],
      "metadata": {
        "colab": {
          "base_uri": "https://localhost:8080/"
        },
        "id": "6Q_hMTQNWE6F",
        "outputId": "43a91399-f3c6-4939-efe4-b78e483c5471"
      },
      "execution_count": null,
      "outputs": [
        {
          "output_type": "execute_result",
          "data": {
            "text/plain": [
              "15"
            ]
          },
          "metadata": {},
          "execution_count": 10
        }
      ]
    },
    {
      "cell_type": "code",
      "source": [
        "ad = input('Adinizi giriniz: ')\n",
        "print('Bravo ' + ad)\n",
        "# string'lerde eval() kullanmaya gerek yok"
      ],
      "metadata": {
        "colab": {
          "base_uri": "https://localhost:8080/"
        },
        "id": "0PsxT3hTWLk-",
        "outputId": "d15f2cdb-7993-444b-b55b-073d92ec18da"
      },
      "execution_count": null,
      "outputs": [
        {
          "output_type": "stream",
          "name": "stdout",
          "text": [
            "Adinizi giriniz: Hatice\n",
            "Bravo Hatice\n"
          ]
        }
      ]
    },
    {
      "cell_type": "code",
      "source": [
        "s=''\n",
        "len(s)"
      ],
      "metadata": {
        "colab": {
          "base_uri": "https://localhost:8080/"
        },
        "id": "lTolQ6ePWw13",
        "outputId": "dbff59e1-2256-447d-a3b9-99ba92a04d81"
      },
      "execution_count": null,
      "outputs": [
        {
          "output_type": "execute_result",
          "data": {
            "text/plain": [
              "0"
            ]
          },
          "metadata": {},
          "execution_count": 14
        }
      ]
    },
    {
      "cell_type": "code",
      "source": [
        "s = 'XX' + 'Y'*6 + 'zx'*3 + str(24)  # casting\n",
        "print(s)"
      ],
      "metadata": {
        "colab": {
          "base_uri": "https://localhost:8080/"
        },
        "id": "LvamRpElWhvx",
        "outputId": "234a3a0a-6c83-476d-f3e6-e5092a9db2a6"
      },
      "execution_count": null,
      "outputs": [
        {
          "output_type": "stream",
          "name": "stdout",
          "text": [
            "XXYYYYYYzxzxzx24\n"
          ]
        }
      ]
    },
    {
      "cell_type": "code",
      "source": [
        "print('-'*100)"
      ],
      "metadata": {
        "colab": {
          "base_uri": "https://localhost:8080/"
        },
        "id": "Fm10HRCfXupB",
        "outputId": "bdd561d8-c740-4911-fef4-5f59fa0239b9"
      },
      "execution_count": null,
      "outputs": [
        {
          "output_type": "stream",
          "name": "stdout",
          "text": [
            "----------------------------------------------------------------------------------------------------\n"
          ]
        }
      ]
    },
    {
      "cell_type": "code",
      "source": [
        "s = ''\n",
        "for i in range(5):\n",
        "  harf = input('Bir harf giriniz: ')\n",
        "  if harf == 'a' or harf == 'e' or harf == 'i':\n",
        "    s = s + harf\n",
        "print(s)"
      ],
      "metadata": {
        "colab": {
          "base_uri": "https://localhost:8080/"
        },
        "id": "b62d0ydbYD1A",
        "outputId": "14f8eb80-86f9-465c-8ee6-b11a19b5f918"
      },
      "execution_count": null,
      "outputs": [
        {
          "output_type": "stream",
          "name": "stdout",
          "text": [
            "Bir harf giriniz: x\n",
            "Bir harf giriniz: \n",
            "Bir harf giriniz: x\n",
            "Bir harf giriniz: x\n",
            "Bir harf giriniz: x\n",
            "\n"
          ]
        }
      ]
    },
    {
      "cell_type": "code",
      "source": [
        "text = 'lorem ipsum dolor sit amet'\n",
        "char = 'sor'\n",
        "if char in text:\n",
        "  print('metin ilgili karakteri iceriyor')\n",
        "else:\n",
        "   print('metin ilgili karakteri icerMiyor')"
      ],
      "metadata": {
        "colab": {
          "base_uri": "https://localhost:8080/"
        },
        "id": "p0BKdcvYZIRo",
        "outputId": "ec7cc7d6-4e94-476c-c8f2-8de20ee35313"
      },
      "execution_count": null,
      "outputs": [
        {
          "output_type": "stream",
          "name": "stdout",
          "text": [
            "metin ilgili karakteri icerMiyor\n"
          ]
        }
      ]
    },
    {
      "cell_type": "code",
      "source": [
        "# ver. 2\n",
        "s = ''\n",
        "for i in range(5):\n",
        "  harf = input('Bir harf giriniz: ')\n",
        "  if harf in 'aei':  # kısaltilmis versiyon\n",
        "    s = s + harf\n",
        "print(s)"
      ],
      "metadata": {
        "colab": {
          "base_uri": "https://localhost:8080/"
        },
        "id": "-Wt4Trz_a9n1",
        "outputId": "a37a1888-80c5-47e7-fc5c-a6b3a5354f4f"
      },
      "execution_count": null,
      "outputs": [
        {
          "output_type": "stream",
          "name": "stdout",
          "text": [
            "Bir harf giriniz: e\n",
            "Bir harf giriniz: y\n",
            "Bir harf giriniz: a\n",
            "Bir harf giriniz: o\n",
            "Bir harf giriniz: p\n",
            "ea\n"
          ]
        }
      ]
    },
    {
      "cell_type": "code",
      "source": [
        "text = 'Merhaba Python!'\n",
        "# tum indisler sıfırdan baslar\n",
        "# negatif indexler gecerlidir\n",
        "text[len(text)-1]"
      ],
      "metadata": {
        "colab": {
          "base_uri": "https://localhost:8080/",
          "height": 35
        },
        "id": "X-1kdd9BbL1V",
        "outputId": "35bed433-5f1a-4046-f518-8a38712caf67"
      },
      "execution_count": null,
      "outputs": [
        {
          "output_type": "execute_result",
          "data": {
            "text/plain": [
              "'!'"
            ],
            "application/vnd.google.colaboratory.intrinsic+json": {
              "type": "string"
            }
          },
          "metadata": {},
          "execution_count": 47
        }
      ]
    },
    {
      "cell_type": "code",
      "source": [
        "text[-1]"
      ],
      "metadata": {
        "colab": {
          "base_uri": "https://localhost:8080/",
          "height": 35
        },
        "id": "cLXIYCJvcOC-",
        "outputId": "7184fa0f-4e2b-4dfe-bb13-1ecf70a0e418"
      },
      "execution_count": null,
      "outputs": [
        {
          "output_type": "execute_result",
          "data": {
            "text/plain": [
              "'!'"
            ],
            "application/vnd.google.colaboratory.intrinsic+json": {
              "type": "string"
            }
          },
          "metadata": {},
          "execution_count": 48
        }
      ]
    },
    {
      "cell_type": "code",
      "source": [
        "text[-2]"
      ],
      "metadata": {
        "colab": {
          "base_uri": "https://localhost:8080/",
          "height": 35
        },
        "id": "8jx65fkRcSJC",
        "outputId": "82a903af-ad5b-4e87-8b8e-4157f8054362"
      },
      "execution_count": null,
      "outputs": [
        {
          "output_type": "execute_result",
          "data": {
            "text/plain": [
              "'n'"
            ],
            "application/vnd.google.colaboratory.intrinsic+json": {
              "type": "string"
            }
          },
          "metadata": {},
          "execution_count": 49
        }
      ]
    },
    {
      "cell_type": "code",
      "source": [
        "text = \"abcdefghij\""
      ],
      "metadata": {
        "id": "MoNvMzO-dJRO"
      },
      "execution_count": null,
      "outputs": []
    },
    {
      "cell_type": "code",
      "source": [
        "text[::-1]"
      ],
      "metadata": {
        "colab": {
          "base_uri": "https://localhost:8080/",
          "height": 35
        },
        "id": "09nL5dSRiaC2",
        "outputId": "e95f15c5-365f-4fda-8d16-ab5fbfc6c613"
      },
      "execution_count": null,
      "outputs": [
        {
          "output_type": "execute_result",
          "data": {
            "text/plain": [
              "'jihgfedcba'"
            ],
            "application/vnd.google.colaboratory.intrinsic+json": {
              "type": "string"
            }
          },
          "metadata": {},
          "execution_count": 51
        }
      ]
    },
    {
      "cell_type": "code",
      "source": [
        "text[3:6]"
      ],
      "metadata": {
        "colab": {
          "base_uri": "https://localhost:8080/",
          "height": 35
        },
        "id": "WVBWNJhdibsy",
        "outputId": "7d66b1ac-be34-4582-8291-9f7c9e2fcaa9"
      },
      "execution_count": null,
      "outputs": [
        {
          "output_type": "execute_result",
          "data": {
            "text/plain": [
              "'def'"
            ],
            "application/vnd.google.colaboratory.intrinsic+json": {
              "type": "string"
            }
          },
          "metadata": {},
          "execution_count": 52
        }
      ]
    },
    {
      "cell_type": "code",
      "source": [
        "text[3::-2]    # 3'den basla sola dogru 2'li adimlarla sonuna kadar git"
      ],
      "metadata": {
        "colab": {
          "base_uri": "https://localhost:8080/",
          "height": 35
        },
        "id": "zWgQZ2sdirWP",
        "outputId": "469dad50-445d-40f6-be16-8c1f8830bac7"
      },
      "execution_count": null,
      "outputs": [
        {
          "output_type": "execute_result",
          "data": {
            "text/plain": [
              "'db'"
            ],
            "application/vnd.google.colaboratory.intrinsic+json": {
              "type": "string"
            }
          },
          "metadata": {},
          "execution_count": 54
        }
      ]
    },
    {
      "cell_type": "code",
      "source": [
        "text[1::-1]"
      ],
      "metadata": {
        "colab": {
          "base_uri": "https://localhost:8080/",
          "height": 35
        },
        "id": "xnFdZuKkjF0N",
        "outputId": "93436b32-8174-465f-8803-3f73e7dd3d1d"
      },
      "execution_count": null,
      "outputs": [
        {
          "output_type": "execute_result",
          "data": {
            "text/plain": [
              "'ba'"
            ],
            "application/vnd.google.colaboratory.intrinsic+json": {
              "type": "string"
            }
          },
          "metadata": {},
          "execution_count": 55
        }
      ]
    },
    {
      "cell_type": "code",
      "source": [
        "# alt alta yazdirma\n",
        "for i in range( len(text) ):\n",
        "  print(text[i:])"
      ],
      "metadata": {
        "colab": {
          "base_uri": "https://localhost:8080/"
        },
        "id": "NBIvyP1djobi",
        "outputId": "373987d7-b108-4ae4-e3a6-e33c928e461a"
      },
      "execution_count": null,
      "outputs": [
        {
          "output_type": "stream",
          "name": "stdout",
          "text": [
            "abcdefghij\n",
            "bcdefghij\n",
            "cdefghij\n",
            "defghij\n",
            "efghij\n",
            "fghij\n",
            "ghij\n",
            "hij\n",
            "ij\n",
            "j\n"
          ]
        }
      ]
    },
    {
      "cell_type": "code",
      "source": [
        "print(text[0])\n",
        "print(text[1])\n",
        "print(text[2])"
      ],
      "metadata": {
        "colab": {
          "base_uri": "https://localhost:8080/"
        },
        "id": "KiEz9KP8kYiT",
        "outputId": "6919b77d-c025-44e2-b2ea-e4165baaeba6"
      },
      "execution_count": null,
      "outputs": [
        {
          "output_type": "stream",
          "name": "stdout",
          "text": [
            "a\n",
            "b\n",
            "c\n"
          ]
        }
      ]
    },
    {
      "cell_type": "code",
      "source": [
        "for i in range( len(text) ):\n",
        "  print(text[-1-i::-1])"
      ],
      "metadata": {
        "colab": {
          "base_uri": "https://localhost:8080/"
        },
        "id": "xxwRiPOzkzHL",
        "outputId": "ea8f37ed-27a0-4cbd-cb45-46d5fc3a8d90"
      },
      "execution_count": null,
      "outputs": [
        {
          "output_type": "stream",
          "name": "stdout",
          "text": [
            "jihgfedcba\n",
            "ihgfedcba\n",
            "hgfedcba\n",
            "gfedcba\n",
            "fedcba\n",
            "edcba\n",
            "dcba\n",
            "cba\n",
            "ba\n",
            "a\n"
          ]
        }
      ]
    },
    {
      "cell_type": "code",
      "source": [
        "# text = 'abcdefghij'"
      ],
      "metadata": {
        "colab": {
          "base_uri": "https://localhost:8080/"
        },
        "id": "flZCCso1mPQe",
        "outputId": "72e23f0a-10f3-4a1b-9a04-f897e22da2cc"
      },
      "execution_count": null,
      "outputs": [
        {
          "output_type": "execute_result",
          "data": {
            "text/plain": [
              "10"
            ]
          },
          "metadata": {},
          "execution_count": 65
        }
      ]
    },
    {
      "cell_type": "code",
      "source": [
        "for i in range(10):\n",
        "  print(text[9-i::-1])"
      ],
      "metadata": {
        "colab": {
          "base_uri": "https://localhost:8080/"
        },
        "id": "cNQViMyUmgb5",
        "outputId": "16c09016-eb4e-4765-fcd2-e8e0c7444927"
      },
      "execution_count": null,
      "outputs": [
        {
          "output_type": "stream",
          "name": "stdout",
          "text": [
            "jihgfedcba\n",
            "ihgfedcba\n",
            "hgfedcba\n",
            "gfedcba\n",
            "fedcba\n",
            "edcba\n",
            "dcba\n",
            "cba\n",
            "ba\n",
            "a\n"
          ]
        }
      ]
    },
    {
      "cell_type": "code",
      "source": [
        "text[:4] + 'X' + text[4:]"
      ],
      "metadata": {
        "colab": {
          "base_uri": "https://localhost:8080/",
          "height": 35
        },
        "id": "a1JtiOsMnfoI",
        "outputId": "72db22d2-eb0e-4482-9990-6a69514ed77e"
      },
      "execution_count": null,
      "outputs": [
        {
          "output_type": "execute_result",
          "data": {
            "text/plain": [
              "'abcdXefghij'"
            ],
            "application/vnd.google.colaboratory.intrinsic+json": {
              "type": "string"
            }
          },
          "metadata": {},
          "execution_count": 75
        }
      ]
    },
    {
      "cell_type": "code",
      "source": [
        "for i in range(len(text)):\n",
        "  print(text[i])"
      ],
      "metadata": {
        "colab": {
          "base_uri": "https://localhost:8080/"
        },
        "id": "Niohy2eUobXi",
        "outputId": "7a2f6752-4377-4ba6-ef3e-3884830d56fc"
      },
      "execution_count": null,
      "outputs": [
        {
          "output_type": "stream",
          "name": "stdout",
          "text": [
            "a\n",
            "b\n",
            "c\n",
            "d\n",
            "e\n",
            "f\n",
            "g\n",
            "h\n",
            "i\n",
            "j\n"
          ]
        }
      ]
    },
    {
      "cell_type": "code",
      "source": [
        "for char in text:\n",
        "  print(char)"
      ],
      "metadata": {
        "colab": {
          "base_uri": "https://localhost:8080/"
        },
        "id": "siE3eOZ2pTYv",
        "outputId": "afe6d747-272f-41ae-b629-7aea3f8618f8"
      },
      "execution_count": null,
      "outputs": [
        {
          "output_type": "stream",
          "name": "stdout",
          "text": [
            "a\n",
            "b\n",
            "c\n",
            "d\n",
            "e\n",
            "f\n",
            "g\n",
            "h\n",
            "i\n",
            "j\n"
          ]
        }
      ]
    },
    {
      "cell_type": "code",
      "source": [
        "for char in text[::-1]:\n",
        "  print(char)"
      ],
      "metadata": {
        "colab": {
          "base_uri": "https://localhost:8080/"
        },
        "id": "YyzYvOBypaKn",
        "outputId": "38131ee1-fe19-44d9-a076-f4957cb895ef"
      },
      "execution_count": null,
      "outputs": [
        {
          "output_type": "stream",
          "name": "stdout",
          "text": [
            "j\n",
            "i\n",
            "h\n",
            "g\n",
            "f\n",
            "e\n",
            "d\n",
            "c\n",
            "b\n",
            "a\n"
          ]
        }
      ]
    },
    {
      "cell_type": "code",
      "source": [
        "for i in range(len(text) - 1):\n",
        "    print(text[i] + text[i+1])"
      ],
      "metadata": {
        "colab": {
          "base_uri": "https://localhost:8080/"
        },
        "id": "JdiAVjS2vq_Y",
        "outputId": "e2521714-2ad7-4595-a033-a9f9306da324"
      },
      "execution_count": null,
      "outputs": [
        {
          "output_type": "stream",
          "name": "stdout",
          "text": [
            "ab\n",
            "bc\n",
            "cd\n",
            "de\n",
            "ef\n",
            "fg\n",
            "gh\n",
            "hi\n",
            "ij\n"
          ]
        }
      ]
    },
    {
      "cell_type": "code",
      "source": [
        "text = text[::-1]\n",
        "for i in range(len(text) - 1):\n",
        "   print(text[i:i+2])"
      ],
      "metadata": {
        "colab": {
          "base_uri": "https://localhost:8080/"
        },
        "id": "CUIPJOHwvrYo",
        "outputId": "81a2efcc-27f9-44b7-8be3-d90fa4dc27e5"
      },
      "execution_count": null,
      "outputs": [
        {
          "output_type": "stream",
          "name": "stdout",
          "text": [
            "ji\n",
            "ih\n",
            "hg\n",
            "gf\n",
            "fe\n",
            "ed\n",
            "dc\n",
            "cb\n",
            "ba\n"
          ]
        }
      ]
    },
    {
      "cell_type": "code",
      "source": [
        "text = 'lorem iPSum dOLOR siT aMeT'   # bosluklar alpha karakter sayilmaz\n",
        "print(text.lower())\n",
        "print(text.upper())\n",
        "print(text.replace('O','x'))\n",
        "print(text.count('O'))\n",
        "print(text.index('e'))\n"
      ],
      "metadata": {
        "colab": {
          "base_uri": "https://localhost:8080/"
        },
        "id": "7V8RB9KCvuMe",
        "outputId": "a535ab72-4ed0-4f45-d2d0-773071e6c20b"
      },
      "execution_count": null,
      "outputs": [
        {
          "output_type": "stream",
          "name": "stdout",
          "text": [
            "lorem ipsum dolor sit amet\n",
            "LOREM IPSUM DOLOR SIT AMET\n",
            "lorem iPSum dxLxR siT aMeT\n",
            "2\n",
            "3\n",
            "False\n"
          ]
        }
      ]
    },
    {
      "cell_type": "code",
      "source": [
        "s = 'jsgfgdhfgodeh'   # tamamen karakterlerden olusuyor\n",
        "print(s.isalpha())\n",
        "\n",
        "# alpha: {a, b, ..., z, A, B, ..., Z}"
      ],
      "metadata": {
        "colab": {
          "base_uri": "https://localhost:8080/"
        },
        "id": "fLzh9eQgwbrM",
        "outputId": "ee098de9-79b8-4039-fd7e-b04998e1611f"
      },
      "execution_count": null,
      "outputs": [
        {
          "output_type": "stream",
          "name": "stdout",
          "text": [
            "False\n"
          ]
        }
      ]
    },
    {
      "cell_type": "code",
      "source": [
        "print('Hi\\n\\nthere!')"
      ],
      "metadata": {
        "colab": {
          "base_uri": "https://localhost:8080/"
        },
        "id": "zFD2T5Ldxm51",
        "outputId": "a09fef37-b2cd-4dc1-fb33-9eb02a27e289"
      },
      "execution_count": null,
      "outputs": [
        {
          "output_type": "stream",
          "name": "stdout",
          "text": [
            "Hi\n",
            "\n",
            "there!\n"
          ]
        }
      ]
    },
    {
      "cell_type": "code",
      "source": [
        "print(\"I can't go\")"
      ],
      "metadata": {
        "colab": {
          "base_uri": "https://localhost:8080/"
        },
        "id": "yYXtKD9oyX95",
        "outputId": "1277b236-2528-4593-c062-ea4102b179ce"
      },
      "execution_count": null,
      "outputs": [
        {
          "output_type": "stream",
          "name": "stdout",
          "text": [
            "I can't go\n"
          ]
        }
      ]
    },
    {
      "cell_type": "code",
      "source": [
        "url = 'www.python.org\\\\tutorial'\n",
        "print(url)"
      ],
      "metadata": {
        "colab": {
          "base_uri": "https://localhost:8080/"
        },
        "id": "TPaCFtrmyjYN",
        "outputId": "81b57e4f-a0e8-4dd1-e79a-dd923cd491c6"
      },
      "execution_count": null,
      "outputs": [
        {
          "output_type": "stream",
          "name": "stdout",
          "text": [
            "www.python.org\\tutorial\n"
          ]
        }
      ]
    },
    {
      "cell_type": "code",
      "source": [
        "print('Merhaba\\tDunya\\tBugun\\\\Nasilsin?')"
      ],
      "metadata": {
        "colab": {
          "base_uri": "https://localhost:8080/"
        },
        "id": "2licyhBtyyT6",
        "outputId": "aec0ad31-f9eb-4808-e58e-5e2ed2cea5b1"
      },
      "execution_count": null,
      "outputs": [
        {
          "output_type": "stream",
          "name": "stdout",
          "text": [
            "Merhaba\tDunya\tBugun\\Nasilsin?\n"
          ]
        }
      ]
    },
    {
      "cell_type": "code",
      "source": [
        "print('2\\\\5=2.5')"
      ],
      "metadata": {
        "colab": {
          "base_uri": "https://localhost:8080/"
        },
        "id": "R3oOvKnfzF7w",
        "outputId": "136cd6d3-1582-4ab2-af54-fbefc685c53c"
      },
      "execution_count": null,
      "outputs": [
        {
          "output_type": "stream",
          "name": "stdout",
          "text": [
            "2\\5=2.5\n"
          ]
        }
      ]
    },
    {
      "cell_type": "code",
      "source": [
        "name = input('Enter your name: ')\n",
        "for i in range(len(name)):\n",
        "  print(name[:i+1], end = '\\t')\n"
      ],
      "metadata": {
        "colab": {
          "base_uri": "https://localhost:8080/"
        },
        "id": "QO9O57tgzO6J",
        "outputId": "14b1fafa-a2f4-4378-c14f-a0464322f0c7"
      },
      "execution_count": null,
      "outputs": [
        {
          "output_type": "stream",
          "name": "stdout",
          "text": [
            "Enter your name: Hakan\n",
            "H\tHa\tHak\tHaka\tHakan\t"
          ]
        }
      ]
    },
    {
      "cell_type": "code",
      "source": [
        "s = 'chssuıfokj;jghd:jgshgf! pkdıfj?? kjshdjfg! '\n",
        "for c in '!?,:-;':\n",
        "  s = s.replace(c,'')\n",
        "print(s)"
      ],
      "metadata": {
        "colab": {
          "base_uri": "https://localhost:8080/"
        },
        "id": "lEP_n34_1Cno",
        "outputId": "1fc8dde3-350e-4f86-b94a-98313a9ce44b"
      },
      "execution_count": null,
      "outputs": [
        {
          "output_type": "stream",
          "name": "stdout",
          "text": [
            "chssuıfokjjghdjgshgf pkdıfj kjshdjfg \n"
          ]
        }
      ]
    },
    {
      "cell_type": "code",
      "source": [
        "x = 'lorem ipsum dolor sit amet'\n",
        "x = x[::-1].replace(c, '')\n",
        "print(x)"
      ],
      "metadata": {
        "colab": {
          "base_uri": "https://localhost:8080/"
        },
        "id": "Rak4-3lq2TT3",
        "outputId": "d1e51edb-e678-465f-f2a5-24190bdd5677"
      },
      "execution_count": null,
      "outputs": [
        {
          "output_type": "stream",
          "name": "stdout",
          "text": [
            "tematisrolodmuspimerol\n"
          ]
        }
      ]
    },
    {
      "cell_type": "code",
      "source": [
        "x = 'kelet'\n",
        "if x == x[::-1]:\n",
        "  print('metin polindromdur')\n",
        "else:\n",
        "  print('metin polindrom degildir')"
      ],
      "metadata": {
        "colab": {
          "base_uri": "https://localhost:8080/"
        },
        "id": "oAdYFPV923VV",
        "outputId": "d61f9996-9fc3-4f7a-9040-3e19bbb60d8d"
      },
      "execution_count": null,
      "outputs": [
        {
          "output_type": "stream",
          "name": "stdout",
          "text": [
            "metin polindrom degildir\n"
          ]
        }
      ]
    },
    {
      "cell_type": "code",
      "source": [
        "text = \"abcdefg\"\n",
        "for char in reversed(text):\n",
        "    print(char)"
      ],
      "metadata": {
        "colab": {
          "base_uri": "https://localhost:8080/"
        },
        "id": "HZDIdXXq3LCC",
        "outputId": "7e108f4a-66db-47ed-f9eb-5bf86a7ee24b"
      },
      "execution_count": null,
      "outputs": [
        {
          "output_type": "stream",
          "name": "stdout",
          "text": [
            "g\n",
            "f\n",
            "e\n",
            "d\n",
            "c\n",
            "b\n",
            "a\n"
          ]
        }
      ]
    },
    {
      "cell_type": "code",
      "source": [],
      "metadata": {
        "colab": {
          "base_uri": "https://localhost:8080/"
        },
        "id": "jcefPduZ4pzq",
        "outputId": "4b208080-3c79-43a3-fab5-0261c8b2c76e"
      },
      "execution_count": null,
      "outputs": [
        {
          "output_type": "stream",
          "name": "stdout",
          "text": [
            "<reversed object at 0x7df04c08f490>\n"
          ]
        }
      ]
    },
    {
      "cell_type": "code",
      "source": [
        "for c in \"jksahfjdhgjdhg\":\n",
        "  print(c)"
      ],
      "metadata": {
        "colab": {
          "base_uri": "https://localhost:8080/"
        },
        "id": "S9U719cp4sR6",
        "outputId": "1a44d733-b5d6-4ba2-d431-c98d9c55b3af"
      },
      "execution_count": null,
      "outputs": [
        {
          "output_type": "stream",
          "name": "stdout",
          "text": [
            "j\n",
            "k\n",
            "s\n",
            "a\n",
            "h\n",
            "f\n",
            "j\n",
            "d\n",
            "h\n",
            "g\n",
            "j\n",
            "d\n",
            "h\n",
            "g\n"
          ]
        }
      ]
    },
    {
      "cell_type": "code",
      "source": [
        "print(\"\")"
      ],
      "metadata": {
        "colab": {
          "base_uri": "https://localhost:8080/"
        },
        "id": "hD8u6yHU5dsD",
        "outputId": "53b78f49-2361-4f35-b5c3-3db872e49224"
      },
      "execution_count": null,
      "outputs": [
        {
          "output_type": "stream",
          "name": "stdout",
          "text": [
            "\n"
          ]
        }
      ]
    },
    {
      "cell_type": "code",
      "source": [],
      "metadata": {
        "id": "5BauqOoT5kmH"
      },
      "execution_count": null,
      "outputs": []
    }
  ]
}