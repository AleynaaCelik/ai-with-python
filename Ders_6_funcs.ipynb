{
  "nbformat": 4,
  "nbformat_minor": 0,
  "metadata": {
    "colab": {
      "provenance": []
    },
    "kernelspec": {
      "name": "python3",
      "display_name": "Python 3"
    },
    "language_info": {
      "name": "python"
    }
  },
  "cells": [
    {
      "cell_type": "code",
      "execution_count": 3,
      "metadata": {
        "colab": {
          "base_uri": "https://localhost:8080/"
        },
        "id": "f22PsAyo2RWA",
        "outputId": "b5a04976-0252-4131-d79b-3a50adbac8f3"
      },
      "outputs": [
        {
          "output_type": "stream",
          "name": "stdout",
          "text": [
            "==========\n",
            "=        =\n",
            "=        =\n",
            "==========\n"
          ]
        }
      ],
      "source": [
        "print('='*10)\n",
        "print('='+' '*8+'=')\n",
        "print('='+' '*8+'=')\n",
        "print('='*10)"
      ]
    },
    {
      "cell_type": "code",
      "source": [
        "print('='*10)\n",
        "print('='+' '*8+'=')\n",
        "print('='+' '*8+'=')\n",
        "print('='*10)"
      ],
      "metadata": {
        "colab": {
          "base_uri": "https://localhost:8080/"
        },
        "id": "Bo3M3xWG2bq2",
        "outputId": "b92c988f-a464-4779-82a1-893d1008d582"
      },
      "execution_count": 4,
      "outputs": [
        {
          "output_type": "stream",
          "name": "stdout",
          "text": [
            "==========\n",
            "=        =\n",
            "=        =\n",
            "==========\n"
          ]
        }
      ]
    },
    {
      "cell_type": "code",
      "source": [
        "print('='*10)\n",
        "print('='+' '*8+'=')\n",
        "print('='+' '*8+'=')\n",
        "print('='*10)"
      ],
      "metadata": {
        "colab": {
          "base_uri": "https://localhost:8080/"
        },
        "id": "vEXZQBik2qrc",
        "outputId": "ac483b7f-c745-4f44-9054-03c014cf3fbf"
      },
      "execution_count": 5,
      "outputs": [
        {
          "output_type": "stream",
          "name": "stdout",
          "text": [
            "==========\n",
            "=        =\n",
            "=        =\n",
            "==========\n"
          ]
        }
      ]
    },
    {
      "cell_type": "code",
      "source": [
        "# custom function\n",
        "def drawRectangle():\n",
        "  print('='*10)\n",
        "  print('='+' '*8+'=')\n",
        "  print('='+' '*8+'=')\n",
        "  print('='*10)"
      ],
      "metadata": {
        "id": "bgvXEdSh2rPM"
      },
      "execution_count": 7,
      "outputs": []
    },
    {
      "cell_type": "code",
      "source": [
        "for i in range(5):\n",
        "  drawRectangle()"
      ],
      "metadata": {
        "colab": {
          "base_uri": "https://localhost:8080/"
        },
        "id": "4JpRA7OX25Ez",
        "outputId": "60246f85-907f-4bd2-da85-593f8bb5a39c"
      },
      "execution_count": 9,
      "outputs": [
        {
          "output_type": "stream",
          "name": "stdout",
          "text": [
            "==========\n",
            "=        =\n",
            "=        =\n",
            "==========\n",
            "==========\n",
            "=        =\n",
            "=        =\n",
            "==========\n",
            "==========\n",
            "=        =\n",
            "=        =\n",
            "==========\n",
            "==========\n",
            "=        =\n",
            "=        =\n",
            "==========\n",
            "==========\n",
            "=        =\n",
            "=        =\n",
            "==========\n"
          ]
        }
      ]
    },
    {
      "cell_type": "code",
      "source": [
        "def drawRectangle2(width):\n",
        "  print('='*width)\n",
        "  print('='+' '*(width-2)+'=')\n",
        "  print('='+' '*(width-2)+'=')\n",
        "  print('='*width)"
      ],
      "metadata": {
        "id": "B3oc6joH3CZr"
      },
      "execution_count": 12,
      "outputs": []
    },
    {
      "cell_type": "code",
      "source": [
        "drawRectangle2(23)"
      ],
      "metadata": {
        "colab": {
          "base_uri": "https://localhost:8080/"
        },
        "id": "QE1c7NRL3dzB",
        "outputId": "77838c02-4d3e-4e1f-d477-3d0a60f06f44"
      },
      "execution_count": 15,
      "outputs": [
        {
          "output_type": "stream",
          "name": "stdout",
          "text": [
            "=======================\n",
            "=                     =\n",
            "=                     =\n",
            "=======================\n"
          ]
        }
      ]
    },
    {
      "cell_type": "code",
      "source": [
        "def drawRectangle3(width=10, height=4):  # default width and height arguments\n",
        "  print('='*width)\n",
        "  for i in range(height-2):\n",
        "    print('='+' '*(width-2)+'=')\n",
        "  print('='*width)"
      ],
      "metadata": {
        "id": "pUs5OUCN3gZR"
      },
      "execution_count": 28,
      "outputs": []
    },
    {
      "cell_type": "code",
      "source": [
        "drawRectangle3(16,7)"
      ],
      "metadata": {
        "colab": {
          "base_uri": "https://localhost:8080/"
        },
        "id": "Src_lw643-7o",
        "outputId": "975217ca-ad00-4aa1-cd67-aeb4e22c1f2a"
      },
      "execution_count": 24,
      "outputs": [
        {
          "output_type": "stream",
          "name": "stdout",
          "text": [
            "================\n",
            "=              =\n",
            "=              =\n",
            "=              =\n",
            "=              =\n",
            "=              =\n",
            "================\n"
          ]
        }
      ]
    },
    {
      "cell_type": "code",
      "source": [
        "drawRectangle3(19,12)"
      ],
      "metadata": {
        "colab": {
          "base_uri": "https://localhost:8080/"
        },
        "id": "N0ZenCZA4D6A",
        "outputId": "fdc7c231-1e71-4384-ae82-d5c21cfd5265"
      },
      "execution_count": 26,
      "outputs": [
        {
          "output_type": "stream",
          "name": "stdout",
          "text": [
            "===================\n",
            "=                 =\n",
            "=                 =\n",
            "=                 =\n",
            "=                 =\n",
            "=                 =\n",
            "=                 =\n",
            "=                 =\n",
            "=                 =\n",
            "=                 =\n",
            "=                 =\n",
            "===================\n"
          ]
        }
      ]
    },
    {
      "cell_type": "code",
      "source": [
        "drawRectangle3(19)"
      ],
      "metadata": {
        "colab": {
          "base_uri": "https://localhost:8080/"
        },
        "id": "xcBUzdgC4U0o",
        "outputId": "3bc6d5af-e56d-46ea-8a15-fca1c17d150c"
      },
      "execution_count": 27,
      "outputs": [
        {
          "output_type": "stream",
          "name": "stdout",
          "text": [
            "===================\n",
            "=                 =\n",
            "=                 =\n",
            "===================\n"
          ]
        }
      ]
    },
    {
      "cell_type": "code",
      "source": [
        "drawRectangle3()"
      ],
      "metadata": {
        "colab": {
          "base_uri": "https://localhost:8080/"
        },
        "id": "YD5Pq6Rx4j_f",
        "outputId": "14397c01-8a5f-4442-da74-595d757c664b"
      },
      "execution_count": 30,
      "outputs": [
        {
          "output_type": "stream",
          "name": "stdout",
          "text": [
            "==========\n",
            "=        =\n",
            "=        =\n",
            "==========\n"
          ]
        }
      ]
    },
    {
      "cell_type": "code",
      "source": [],
      "metadata": {
        "colab": {
          "base_uri": "https://localhost:8080/",
          "height": 141
        },
        "id": "0bfaT2el4xuu",
        "outputId": "366485e7-3483-443e-e67b-85074c7e014d"
      },
      "execution_count": 33,
      "outputs": [
        {
          "output_type": "error",
          "ename": "TypeError",
          "evalue": "drawRectangle() takes 0 positional arguments but 1 was given",
          "traceback": [
            "\u001b[0;31m---------------------------------------------------------------------------\u001b[0m",
            "\u001b[0;31mTypeError\u001b[0m                                 Traceback (most recent call last)",
            "\u001b[0;32m/tmp/ipython-input-33-849687697.py\u001b[0m in \u001b[0;36m<cell line: 0>\u001b[0;34m()\u001b[0m\n\u001b[0;32m----> 1\u001b[0;31m \u001b[0mdrawRectangle\u001b[0m\u001b[0;34m(\u001b[0m\u001b[0;36m8\u001b[0m\u001b[0;34m)\u001b[0m\u001b[0;34m\u001b[0m\u001b[0;34m\u001b[0m\u001b[0m\n\u001b[0m",
            "\u001b[0;31mTypeError\u001b[0m: drawRectangle() takes 0 positional arguments but 1 was given"
          ]
        }
      ]
    },
    {
      "cell_type": "code",
      "source": [
        "def birArttir(L):     # 1 input argument, 1 return value\n",
        "  L1 = [item+1 for item in L]\n",
        "  return L1"
      ],
      "metadata": {
        "id": "uByGQQKL4_Qe"
      },
      "execution_count": 39,
      "outputs": []
    },
    {
      "cell_type": "code",
      "source": [
        "myList = list(range(1,11))"
      ],
      "metadata": {
        "id": "hSdM5HXH6YNr"
      },
      "execution_count": 40,
      "outputs": []
    },
    {
      "cell_type": "code",
      "source": [
        "myList"
      ],
      "metadata": {
        "colab": {
          "base_uri": "https://localhost:8080/"
        },
        "id": "Zn796XZV6cHB",
        "outputId": "49ef5296-c76e-42e6-acb7-dbf42f7d6962"
      },
      "execution_count": 41,
      "outputs": [
        {
          "output_type": "execute_result",
          "data": {
            "text/plain": [
              "[1, 2, 3, 4, 5, 6, 7, 8, 9, 10]"
            ]
          },
          "metadata": {},
          "execution_count": 41
        }
      ]
    },
    {
      "cell_type": "code",
      "source": [
        "LL = birArttir(myList)\n",
        "# LL is global BUT L1 is local"
      ],
      "metadata": {
        "id": "6gJKEzzQ6c5q"
      },
      "execution_count": 44,
      "outputs": []
    },
    {
      "cell_type": "code",
      "source": [
        "print(LL)"
      ],
      "metadata": {
        "colab": {
          "base_uri": "https://localhost:8080/"
        },
        "id": "suD_2McT6e9J",
        "outputId": "1867d1ce-8b64-43a7-85cb-3756c9b478a2"
      },
      "execution_count": 45,
      "outputs": [
        {
          "output_type": "stream",
          "name": "stdout",
          "text": [
            "[2, 3, 4, 5, 6, 7, 8, 9, 10, 11]\n"
          ]
        }
      ]
    },
    {
      "cell_type": "code",
      "source": [
        "isim = 'Osman'\n",
        "\n",
        "def ayarla():\n",
        "  global isim\n",
        "  isim = isim +' hgdsfjdjfh'\n",
        "  LLL = \"\""
      ],
      "metadata": {
        "id": "3HSmsxL_6kwB"
      },
      "execution_count": 68,
      "outputs": []
    },
    {
      "cell_type": "code",
      "source": [
        "ayarla()"
      ],
      "metadata": {
        "id": "eWI-peF67lZ6"
      },
      "execution_count": 69,
      "outputs": []
    },
    {
      "cell_type": "code",
      "source": [
        "isim"
      ],
      "metadata": {
        "colab": {
          "base_uri": "https://localhost:8080/",
          "height": 35
        },
        "id": "neb8Iht67oGR",
        "outputId": "e055a8a2-50fc-4b10-b1e7-382fd44de75f"
      },
      "execution_count": 57,
      "outputs": [
        {
          "output_type": "execute_result",
          "data": {
            "text/plain": [
              "'Osman hgdsfjdjfh'"
            ],
            "application/vnd.google.colaboratory.intrinsic+json": {
              "type": "string"
            }
          },
          "metadata": {},
          "execution_count": 57
        }
      ]
    },
    {
      "cell_type": "code",
      "source": [
        "def sum_digits(num):\n",
        "  num = str( num )\n",
        "  return sum( [int(digit) for digit in num] )"
      ],
      "metadata": {
        "id": "J3CqoM987tf3"
      },
      "execution_count": 79,
      "outputs": []
    },
    {
      "cell_type": "code",
      "source": [
        "sum_digits(67386)"
      ],
      "metadata": {
        "colab": {
          "base_uri": "https://localhost:8080/"
        },
        "id": "ImhICdYw-LdG",
        "outputId": "bcc19265-13dc-4d4c-f6be-3fc433a4793d"
      },
      "execution_count": 80,
      "outputs": [
        {
          "output_type": "execute_result",
          "data": {
            "text/plain": [
              "30"
            ]
          },
          "metadata": {},
          "execution_count": 80
        }
      ]
    },
    {
      "cell_type": "code",
      "source": [
        "def first_diff(str1, str2):\n",
        "  for i in range(min(len(str1), len(str2))):\n",
        "    if str1[i] == str2[i]:\n",
        "      return i\n",
        "  return -1"
      ],
      "metadata": {
        "id": "t7OZFGSA-Npn"
      },
      "execution_count": 87,
      "outputs": []
    },
    {
      "cell_type": "code",
      "source": [
        "first_diff('jsahfjdghf', 'yeurdookşşlşlp')"
      ],
      "metadata": {
        "colab": {
          "base_uri": "https://localhost:8080/"
        },
        "id": "5J_B0Ton_RN-",
        "outputId": "c6d013d9-b94a-4d3e-cecb-433402cda3ee"
      },
      "execution_count": 85,
      "outputs": [
        {
          "output_type": "execute_result",
          "data": {
            "text/plain": [
              "-1"
            ]
          },
          "metadata": {},
          "execution_count": 85
        }
      ]
    },
    {
      "cell_type": "code",
      "source": [],
      "metadata": {
        "id": "JOnxteDE_V1e"
      },
      "execution_count": null,
      "outputs": []
    }
  ]
}