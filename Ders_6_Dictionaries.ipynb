{
  "nbformat": 4,
  "nbformat_minor": 0,
  "metadata": {
    "colab": {
      "provenance": []
    },
    "kernelspec": {
      "name": "python3",
      "display_name": "Python 3"
    },
    "language_info": {
      "name": "python"
    }
  },
  "cells": [
    {
      "cell_type": "code",
      "execution_count": 1,
      "metadata": {
        "id": "scoCvKY4Z9A2"
      },
      "outputs": [],
      "source": [
        "days = {\"January\": 31, \"February\":28, \"March\":31, \"April\":30,\n",
        "    \"May\": 31, \"June\": 30, \"July\": 31, \"August\": 31, \"September\": 30,\n",
        "    \"October\": 31, \"November\": 30, \"December\": 31\n",
        "}\n"
      ]
    },
    {
      "cell_type": "code",
      "source": [
        "days['November']"
      ],
      "metadata": {
        "colab": {
          "base_uri": "https://localhost:8080/"
        },
        "id": "0ZC1dlKCcXdQ",
        "outputId": "c8913926-255a-4e71-8bd1-158e6e4f7975"
      },
      "execution_count": 6,
      "outputs": [
        {
          "output_type": "execute_result",
          "data": {
            "text/plain": [
              "30"
            ]
          },
          "metadata": {},
          "execution_count": 6
        }
      ]
    },
    {
      "cell_type": "code",
      "source": [
        "days[\"July\"]"
      ],
      "metadata": {
        "colab": {
          "base_uri": "https://localhost:8080/"
        },
        "id": "ghektPM7cdXw",
        "outputId": "95d95a09-3d06-4a13-ebc6-55384c1f4959"
      },
      "execution_count": 9,
      "outputs": [
        {
          "output_type": "execute_result",
          "data": {
            "text/plain": [
              "31"
            ]
          },
          "metadata": {},
          "execution_count": 9
        }
      ]
    },
    {
      "cell_type": "code",
      "source": [
        "d = {'a':100, 'b':400, 't':600}"
      ],
      "metadata": {
        "id": "qOwAlCISczEl"
      },
      "execution_count": 10,
      "outputs": []
    },
    {
      "cell_type": "code",
      "source": [
        "len(d)"
      ],
      "metadata": {
        "colab": {
          "base_uri": "https://localhost:8080/"
        },
        "id": "3_3L4Tngdonb",
        "outputId": "f972540d-59fe-4360-9f5e-1ffdbdd50a66"
      },
      "execution_count": 11,
      "outputs": [
        {
          "output_type": "execute_result",
          "data": {
            "text/plain": [
              "3"
            ]
          },
          "metadata": {},
          "execution_count": 11
        }
      ]
    },
    {
      "cell_type": "code",
      "source": [
        "d['k']=200"
      ],
      "metadata": {
        "id": "-5HxbzuQdqg0"
      },
      "execution_count": 12,
      "outputs": []
    },
    {
      "cell_type": "code",
      "source": [
        "print(d)"
      ],
      "metadata": {
        "colab": {
          "base_uri": "https://localhost:8080/"
        },
        "id": "isAfTMJRd1g7",
        "outputId": "18821787-2a13-4952-fd90-17f307426b09"
      },
      "execution_count": 14,
      "outputs": [
        {
          "output_type": "stream",
          "name": "stdout",
          "text": [
            "{'a': 100, 'b': 400, 't': 600, 'k': 200}\n"
          ]
        }
      ]
    },
    {
      "cell_type": "code",
      "source": [
        "d['t'] = 350"
      ],
      "metadata": {
        "id": "fukYZvq-d2I8"
      },
      "execution_count": 16,
      "outputs": []
    },
    {
      "cell_type": "code",
      "source": [
        "d"
      ],
      "metadata": {
        "colab": {
          "base_uri": "https://localhost:8080/"
        },
        "id": "3psUi9eteBGC",
        "outputId": "68c01e91-784e-4a9c-e14a-6dbf623cbbc9"
      },
      "execution_count": 17,
      "outputs": [
        {
          "output_type": "execute_result",
          "data": {
            "text/plain": [
              "{'a': 100, 'b': 400, 't': 350, 'k': 200}"
            ]
          },
          "metadata": {},
          "execution_count": 17
        }
      ]
    },
    {
      "cell_type": "code",
      "source": [
        "del d['b']"
      ],
      "metadata": {
        "id": "pW5-P-KaeDWz"
      },
      "execution_count": 18,
      "outputs": []
    },
    {
      "cell_type": "code",
      "source": [
        "d"
      ],
      "metadata": {
        "colab": {
          "base_uri": "https://localhost:8080/"
        },
        "id": "CsPACNcEeZrR",
        "outputId": "b84f9733-e3c0-462f-b83c-981fdfea751e"
      },
      "execution_count": 19,
      "outputs": [
        {
          "output_type": "execute_result",
          "data": {
            "text/plain": [
              "{'a': 100, 't': 350, 'k': 200}"
            ]
          },
          "metadata": {},
          "execution_count": 19
        }
      ]
    },
    {
      "cell_type": "code",
      "source": [
        "points = {\n",
        "    'A': 1, 'B': 3, 'C': 3, 'D': 2,\n",
        "    'E': 1, 'F': 4, 'G': 2, 'H': 4,\n",
        "    'I': 1, 'J': 8, 'K': 5, 'L': 1,\n",
        "    'M': 3, 'N': 1, 'O': 1, 'P': 3,\n",
        "    'Q': 10,'R': 1, 'S': 1, 'T': 1,\n",
        "    'U': 1, 'V': 4, 'W': 4, 'X': 8,\n",
        "    'Y': 4, 'Z': 10\n",
        "}\n"
      ],
      "metadata": {
        "id": "ZWFewj2neaxJ"
      },
      "execution_count": 23,
      "outputs": []
    },
    {
      "cell_type": "code",
      "source": [
        "points['Q']"
      ],
      "metadata": {
        "colab": {
          "base_uri": "https://localhost:8080/"
        },
        "id": "ew14Kj9CesyR",
        "outputId": "c57ae58b-c4c1-41d5-e2df-68a294059b93"
      },
      "execution_count": 24,
      "outputs": [
        {
          "output_type": "execute_result",
          "data": {
            "text/plain": [
              "10"
            ]
          },
          "metadata": {},
          "execution_count": 24
        }
      ]
    },
    {
      "cell_type": "code",
      "source": [
        "word = 'Hello'"
      ],
      "metadata": {
        "id": "CdHb56oEf4bf"
      },
      "execution_count": 26,
      "outputs": []
    },
    {
      "cell_type": "code",
      "source": [
        "word = word.upper()"
      ],
      "metadata": {
        "id": "AVm5CYm3f809"
      },
      "execution_count": 30,
      "outputs": []
    },
    {
      "cell_type": "code",
      "source": [
        "word"
      ],
      "metadata": {
        "colab": {
          "base_uri": "https://localhost:8080/",
          "height": 35
        },
        "id": "SflWffCTgBIm",
        "outputId": "13fc8d92-0b28-4106-d2ec-d29c710781df"
      },
      "execution_count": 31,
      "outputs": [
        {
          "output_type": "execute_result",
          "data": {
            "text/plain": [
              "'HELLO'"
            ],
            "application/vnd.google.colaboratory.intrinsic+json": {
              "type": "string"
            }
          },
          "metadata": {},
          "execution_count": 31
        }
      ]
    },
    {
      "cell_type": "code",
      "source": [
        "score = sum( [points[item] for item in word] )\n",
        "print(score)"
      ],
      "metadata": {
        "colab": {
          "base_uri": "https://localhost:8080/"
        },
        "id": "r9NarBq6gHcH",
        "outputId": "9a966d74-ab28-4aab-f560-af7508894363"
      },
      "execution_count": 35,
      "outputs": [
        {
          "output_type": "stream",
          "name": "stdout",
          "text": [
            "8\n"
          ]
        }
      ]
    },
    {
      "cell_type": "code",
      "source": [
        "deck = [{'value':i, 'suit':c} for c in ['spades', 'clubs', 'hearts', 'diamonds'] for i in range(2,15)]"
      ],
      "metadata": {
        "id": "3-RqXUT4goML"
      },
      "execution_count": 36,
      "outputs": []
    },
    {
      "cell_type": "code",
      "source": [
        "deck"
      ],
      "metadata": {
        "colab": {
          "base_uri": "https://localhost:8080/"
        },
        "id": "VLa20nXtiH6Z",
        "outputId": "77ccda17-e5fe-45b4-b726-5e2a416c6a6e"
      },
      "execution_count": 37,
      "outputs": [
        {
          "output_type": "execute_result",
          "data": {
            "text/plain": [
              "[{'value': 2, 'suit': 'spades'},\n",
              " {'value': 3, 'suit': 'spades'},\n",
              " {'value': 4, 'suit': 'spades'},\n",
              " {'value': 5, 'suit': 'spades'},\n",
              " {'value': 6, 'suit': 'spades'},\n",
              " {'value': 7, 'suit': 'spades'},\n",
              " {'value': 8, 'suit': 'spades'},\n",
              " {'value': 9, 'suit': 'spades'},\n",
              " {'value': 10, 'suit': 'spades'},\n",
              " {'value': 11, 'suit': 'spades'},\n",
              " {'value': 12, 'suit': 'spades'},\n",
              " {'value': 13, 'suit': 'spades'},\n",
              " {'value': 14, 'suit': 'spades'},\n",
              " {'value': 2, 'suit': 'clubs'},\n",
              " {'value': 3, 'suit': 'clubs'},\n",
              " {'value': 4, 'suit': 'clubs'},\n",
              " {'value': 5, 'suit': 'clubs'},\n",
              " {'value': 6, 'suit': 'clubs'},\n",
              " {'value': 7, 'suit': 'clubs'},\n",
              " {'value': 8, 'suit': 'clubs'},\n",
              " {'value': 9, 'suit': 'clubs'},\n",
              " {'value': 10, 'suit': 'clubs'},\n",
              " {'value': 11, 'suit': 'clubs'},\n",
              " {'value': 12, 'suit': 'clubs'},\n",
              " {'value': 13, 'suit': 'clubs'},\n",
              " {'value': 14, 'suit': 'clubs'},\n",
              " {'value': 2, 'suit': 'hearts'},\n",
              " {'value': 3, 'suit': 'hearts'},\n",
              " {'value': 4, 'suit': 'hearts'},\n",
              " {'value': 5, 'suit': 'hearts'},\n",
              " {'value': 6, 'suit': 'hearts'},\n",
              " {'value': 7, 'suit': 'hearts'},\n",
              " {'value': 8, 'suit': 'hearts'},\n",
              " {'value': 9, 'suit': 'hearts'},\n",
              " {'value': 10, 'suit': 'hearts'},\n",
              " {'value': 11, 'suit': 'hearts'},\n",
              " {'value': 12, 'suit': 'hearts'},\n",
              " {'value': 13, 'suit': 'hearts'},\n",
              " {'value': 14, 'suit': 'hearts'},\n",
              " {'value': 2, 'suit': 'diamonds'},\n",
              " {'value': 3, 'suit': 'diamonds'},\n",
              " {'value': 4, 'suit': 'diamonds'},\n",
              " {'value': 5, 'suit': 'diamonds'},\n",
              " {'value': 6, 'suit': 'diamonds'},\n",
              " {'value': 7, 'suit': 'diamonds'},\n",
              " {'value': 8, 'suit': 'diamonds'},\n",
              " {'value': 9, 'suit': 'diamonds'},\n",
              " {'value': 10, 'suit': 'diamonds'},\n",
              " {'value': 11, 'suit': 'diamonds'},\n",
              " {'value': 12, 'suit': 'diamonds'},\n",
              " {'value': 13, 'suit': 'diamonds'},\n",
              " {'value': 14, 'suit': 'diamonds'}]"
            ]
          },
          "metadata": {},
          "execution_count": 37
        }
      ]
    },
    {
      "cell_type": "code",
      "source": [
        "len(deck)"
      ],
      "metadata": {
        "colab": {
          "base_uri": "https://localhost:8080/"
        },
        "id": "JkGjvGwhiI4b",
        "outputId": "001450a5-6e38-4bd1-aa73-84d2854e2e9a"
      },
      "execution_count": 38,
      "outputs": [
        {
          "output_type": "execute_result",
          "data": {
            "text/plain": [
              "52"
            ]
          },
          "metadata": {},
          "execution_count": 38
        }
      ]
    },
    {
      "cell_type": "code",
      "source": [
        "type(deck)"
      ],
      "metadata": {
        "colab": {
          "base_uri": "https://localhost:8080/"
        },
        "id": "DfxTr2vniSDI",
        "outputId": "a188179a-c624-4205-b9ed-cab02ee8e0a1"
      },
      "execution_count": 39,
      "outputs": [
        {
          "output_type": "execute_result",
          "data": {
            "text/plain": [
              "list"
            ]
          },
          "metadata": {},
          "execution_count": 39
        }
      ]
    },
    {
      "cell_type": "code",
      "source": [
        "deck[26]"
      ],
      "metadata": {
        "colab": {
          "base_uri": "https://localhost:8080/"
        },
        "id": "msqri0C1iTc0",
        "outputId": "24ad891f-2c53-44f2-c0a8-1a922d5ccf16"
      },
      "execution_count": 40,
      "outputs": [
        {
          "output_type": "execute_result",
          "data": {
            "text/plain": [
              "{'value': 2, 'suit': 'hearts'}"
            ]
          },
          "metadata": {},
          "execution_count": 40
        }
      ]
    },
    {
      "cell_type": "code",
      "source": [
        "deck[26]['value']"
      ],
      "metadata": {
        "colab": {
          "base_uri": "https://localhost:8080/"
        },
        "id": "F14rjlrcif-w",
        "outputId": "515f4aad-d396-4f60-e3c8-7e5eb66aa156"
      },
      "execution_count": 41,
      "outputs": [
        {
          "output_type": "execute_result",
          "data": {
            "text/plain": [
              "2"
            ]
          },
          "metadata": {},
          "execution_count": 41
        }
      ]
    },
    {
      "cell_type": "code",
      "source": [
        "deck[26]['suit']"
      ],
      "metadata": {
        "colab": {
          "base_uri": "https://localhost:8080/",
          "height": 35
        },
        "id": "64JSW1Vsijww",
        "outputId": "903d4c90-1a96-480e-9efc-d4a06c127e10"
      },
      "execution_count": 42,
      "outputs": [
        {
          "output_type": "execute_result",
          "data": {
            "text/plain": [
              "'hearts'"
            ],
            "application/vnd.google.colaboratory.intrinsic+json": {
              "type": "string"
            }
          },
          "metadata": {},
          "execution_count": 42
        }
      ]
    },
    {
      "cell_type": "code",
      "source": [
        "deck"
      ],
      "metadata": {
        "colab": {
          "base_uri": "https://localhost:8080/"
        },
        "id": "5vA5I91BioBX",
        "outputId": "b7f603da-00c0-4e56-bed1-a2266a108948"
      },
      "execution_count": 43,
      "outputs": [
        {
          "output_type": "execute_result",
          "data": {
            "text/plain": [
              "[{'value': 2, 'suit': 'spades'},\n",
              " {'value': 3, 'suit': 'spades'},\n",
              " {'value': 4, 'suit': 'spades'},\n",
              " {'value': 5, 'suit': 'spades'},\n",
              " {'value': 6, 'suit': 'spades'},\n",
              " {'value': 7, 'suit': 'spades'},\n",
              " {'value': 8, 'suit': 'spades'},\n",
              " {'value': 9, 'suit': 'spades'},\n",
              " {'value': 10, 'suit': 'spades'},\n",
              " {'value': 11, 'suit': 'spades'},\n",
              " {'value': 12, 'suit': 'spades'},\n",
              " {'value': 13, 'suit': 'spades'},\n",
              " {'value': 14, 'suit': 'spades'},\n",
              " {'value': 2, 'suit': 'clubs'},\n",
              " {'value': 3, 'suit': 'clubs'},\n",
              " {'value': 4, 'suit': 'clubs'},\n",
              " {'value': 5, 'suit': 'clubs'},\n",
              " {'value': 6, 'suit': 'clubs'},\n",
              " {'value': 7, 'suit': 'clubs'},\n",
              " {'value': 8, 'suit': 'clubs'},\n",
              " {'value': 9, 'suit': 'clubs'},\n",
              " {'value': 10, 'suit': 'clubs'},\n",
              " {'value': 11, 'suit': 'clubs'},\n",
              " {'value': 12, 'suit': 'clubs'},\n",
              " {'value': 13, 'suit': 'clubs'},\n",
              " {'value': 14, 'suit': 'clubs'},\n",
              " {'value': 2, 'suit': 'hearts'},\n",
              " {'value': 3, 'suit': 'hearts'},\n",
              " {'value': 4, 'suit': 'hearts'},\n",
              " {'value': 5, 'suit': 'hearts'},\n",
              " {'value': 6, 'suit': 'hearts'},\n",
              " {'value': 7, 'suit': 'hearts'},\n",
              " {'value': 8, 'suit': 'hearts'},\n",
              " {'value': 9, 'suit': 'hearts'},\n",
              " {'value': 10, 'suit': 'hearts'},\n",
              " {'value': 11, 'suit': 'hearts'},\n",
              " {'value': 12, 'suit': 'hearts'},\n",
              " {'value': 13, 'suit': 'hearts'},\n",
              " {'value': 14, 'suit': 'hearts'},\n",
              " {'value': 2, 'suit': 'diamonds'},\n",
              " {'value': 3, 'suit': 'diamonds'},\n",
              " {'value': 4, 'suit': 'diamonds'},\n",
              " {'value': 5, 'suit': 'diamonds'},\n",
              " {'value': 6, 'suit': 'diamonds'},\n",
              " {'value': 7, 'suit': 'diamonds'},\n",
              " {'value': 8, 'suit': 'diamonds'},\n",
              " {'value': 9, 'suit': 'diamonds'},\n",
              " {'value': 10, 'suit': 'diamonds'},\n",
              " {'value': 11, 'suit': 'diamonds'},\n",
              " {'value': 12, 'suit': 'diamonds'},\n",
              " {'value': 13, 'suit': 'diamonds'},\n",
              " {'value': 14, 'suit': 'diamonds'}]"
            ]
          },
          "metadata": {},
          "execution_count": 43
        }
      ]
    },
    {
      "cell_type": "code",
      "source": [
        "from random import shuffle\n",
        "shuffle(deck)"
      ],
      "metadata": {
        "id": "cXKCqy3titF3"
      },
      "execution_count": 46,
      "outputs": []
    },
    {
      "cell_type": "code",
      "source": [
        "deck"
      ],
      "metadata": {
        "colab": {
          "base_uri": "https://localhost:8080/"
        },
        "id": "YtdaZEMCiwkY",
        "outputId": "13b4ca70-898b-423a-99eb-5fd48a22a8ce"
      },
      "execution_count": 47,
      "outputs": [
        {
          "output_type": "execute_result",
          "data": {
            "text/plain": [
              "[{'value': 11, 'suit': 'hearts'},\n",
              " {'value': 9, 'suit': 'clubs'},\n",
              " {'value': 6, 'suit': 'hearts'},\n",
              " {'value': 10, 'suit': 'clubs'},\n",
              " {'value': 13, 'suit': 'spades'},\n",
              " {'value': 5, 'suit': 'diamonds'},\n",
              " {'value': 13, 'suit': 'diamonds'},\n",
              " {'value': 4, 'suit': 'diamonds'},\n",
              " {'value': 8, 'suit': 'hearts'},\n",
              " {'value': 3, 'suit': 'diamonds'},\n",
              " {'value': 3, 'suit': 'hearts'},\n",
              " {'value': 3, 'suit': 'spades'},\n",
              " {'value': 7, 'suit': 'hearts'},\n",
              " {'value': 10, 'suit': 'hearts'},\n",
              " {'value': 7, 'suit': 'diamonds'},\n",
              " {'value': 6, 'suit': 'diamonds'},\n",
              " {'value': 9, 'suit': 'diamonds'},\n",
              " {'value': 6, 'suit': 'spades'},\n",
              " {'value': 14, 'suit': 'clubs'},\n",
              " {'value': 12, 'suit': 'clubs'},\n",
              " {'value': 9, 'suit': 'hearts'},\n",
              " {'value': 9, 'suit': 'spades'},\n",
              " {'value': 11, 'suit': 'diamonds'},\n",
              " {'value': 5, 'suit': 'hearts'},\n",
              " {'value': 11, 'suit': 'spades'},\n",
              " {'value': 12, 'suit': 'diamonds'},\n",
              " {'value': 6, 'suit': 'clubs'},\n",
              " {'value': 5, 'suit': 'clubs'},\n",
              " {'value': 7, 'suit': 'clubs'},\n",
              " {'value': 3, 'suit': 'clubs'},\n",
              " {'value': 14, 'suit': 'spades'},\n",
              " {'value': 10, 'suit': 'spades'},\n",
              " {'value': 8, 'suit': 'diamonds'},\n",
              " {'value': 13, 'suit': 'clubs'},\n",
              " {'value': 4, 'suit': 'hearts'},\n",
              " {'value': 12, 'suit': 'hearts'},\n",
              " {'value': 13, 'suit': 'hearts'},\n",
              " {'value': 8, 'suit': 'clubs'},\n",
              " {'value': 7, 'suit': 'spades'},\n",
              " {'value': 4, 'suit': 'spades'},\n",
              " {'value': 4, 'suit': 'clubs'},\n",
              " {'value': 5, 'suit': 'spades'},\n",
              " {'value': 8, 'suit': 'spades'},\n",
              " {'value': 10, 'suit': 'diamonds'},\n",
              " {'value': 2, 'suit': 'spades'},\n",
              " {'value': 12, 'suit': 'spades'},\n",
              " {'value': 11, 'suit': 'clubs'},\n",
              " {'value': 2, 'suit': 'diamonds'},\n",
              " {'value': 2, 'suit': 'hearts'},\n",
              " {'value': 14, 'suit': 'hearts'},\n",
              " {'value': 2, 'suit': 'clubs'},\n",
              " {'value': 14, 'suit': 'diamonds'}]"
            ]
          },
          "metadata": {},
          "execution_count": 47
        }
      ]
    },
    {
      "cell_type": "code",
      "source": [
        "dd = deck"
      ],
      "metadata": {
        "id": "nkLd6oAzi9MQ"
      },
      "execution_count": 48,
      "outputs": []
    },
    {
      "cell_type": "code",
      "source": [
        "dd"
      ],
      "metadata": {
        "colab": {
          "base_uri": "https://localhost:8080/"
        },
        "id": "EKBQExlAjJGO",
        "outputId": "1075adc9-5457-47c8-f601-5e9a20b19450"
      },
      "execution_count": 49,
      "outputs": [
        {
          "output_type": "execute_result",
          "data": {
            "text/plain": [
              "[{'value': 11, 'suit': 'hearts'},\n",
              " {'value': 9, 'suit': 'clubs'},\n",
              " {'value': 6, 'suit': 'hearts'},\n",
              " {'value': 10, 'suit': 'clubs'},\n",
              " {'value': 13, 'suit': 'spades'},\n",
              " {'value': 5, 'suit': 'diamonds'},\n",
              " {'value': 13, 'suit': 'diamonds'},\n",
              " {'value': 4, 'suit': 'diamonds'},\n",
              " {'value': 8, 'suit': 'hearts'},\n",
              " {'value': 3, 'suit': 'diamonds'},\n",
              " {'value': 3, 'suit': 'hearts'},\n",
              " {'value': 3, 'suit': 'spades'},\n",
              " {'value': 7, 'suit': 'hearts'},\n",
              " {'value': 10, 'suit': 'hearts'},\n",
              " {'value': 7, 'suit': 'diamonds'},\n",
              " {'value': 6, 'suit': 'diamonds'},\n",
              " {'value': 9, 'suit': 'diamonds'},\n",
              " {'value': 6, 'suit': 'spades'},\n",
              " {'value': 14, 'suit': 'clubs'},\n",
              " {'value': 12, 'suit': 'clubs'},\n",
              " {'value': 9, 'suit': 'hearts'},\n",
              " {'value': 9, 'suit': 'spades'},\n",
              " {'value': 11, 'suit': 'diamonds'},\n",
              " {'value': 5, 'suit': 'hearts'},\n",
              " {'value': 11, 'suit': 'spades'},\n",
              " {'value': 12, 'suit': 'diamonds'},\n",
              " {'value': 6, 'suit': 'clubs'},\n",
              " {'value': 5, 'suit': 'clubs'},\n",
              " {'value': 7, 'suit': 'clubs'},\n",
              " {'value': 3, 'suit': 'clubs'},\n",
              " {'value': 14, 'suit': 'spades'},\n",
              " {'value': 10, 'suit': 'spades'},\n",
              " {'value': 8, 'suit': 'diamonds'},\n",
              " {'value': 13, 'suit': 'clubs'},\n",
              " {'value': 4, 'suit': 'hearts'},\n",
              " {'value': 12, 'suit': 'hearts'},\n",
              " {'value': 13, 'suit': 'hearts'},\n",
              " {'value': 8, 'suit': 'clubs'},\n",
              " {'value': 7, 'suit': 'spades'},\n",
              " {'value': 4, 'suit': 'spades'},\n",
              " {'value': 4, 'suit': 'clubs'},\n",
              " {'value': 5, 'suit': 'spades'},\n",
              " {'value': 8, 'suit': 'spades'},\n",
              " {'value': 10, 'suit': 'diamonds'},\n",
              " {'value': 2, 'suit': 'spades'},\n",
              " {'value': 12, 'suit': 'spades'},\n",
              " {'value': 11, 'suit': 'clubs'},\n",
              " {'value': 2, 'suit': 'diamonds'},\n",
              " {'value': 2, 'suit': 'hearts'},\n",
              " {'value': 14, 'suit': 'hearts'},\n",
              " {'value': 2, 'suit': 'clubs'},\n",
              " {'value': 14, 'suit': 'diamonds'}]"
            ]
          },
          "metadata": {},
          "execution_count": 49
        }
      ]
    },
    {
      "cell_type": "code",
      "source": [
        "dd = deck.copy()"
      ],
      "metadata": {
        "id": "RpsLKHwJjKE3"
      },
      "execution_count": 50,
      "outputs": []
    },
    {
      "cell_type": "code",
      "source": [
        "dd"
      ],
      "metadata": {
        "colab": {
          "base_uri": "https://localhost:8080/"
        },
        "id": "lL_oPXEsjO1m",
        "outputId": "dc168fac-3b76-421a-ada6-c3f3c19b1164"
      },
      "execution_count": 51,
      "outputs": [
        {
          "output_type": "execute_result",
          "data": {
            "text/plain": [
              "[{'value': 11, 'suit': 'hearts'},\n",
              " {'value': 9, 'suit': 'clubs'},\n",
              " {'value': 6, 'suit': 'hearts'},\n",
              " {'value': 10, 'suit': 'clubs'},\n",
              " {'value': 13, 'suit': 'spades'},\n",
              " {'value': 5, 'suit': 'diamonds'},\n",
              " {'value': 13, 'suit': 'diamonds'},\n",
              " {'value': 4, 'suit': 'diamonds'},\n",
              " {'value': 8, 'suit': 'hearts'},\n",
              " {'value': 3, 'suit': 'diamonds'},\n",
              " {'value': 3, 'suit': 'hearts'},\n",
              " {'value': 3, 'suit': 'spades'},\n",
              " {'value': 7, 'suit': 'hearts'},\n",
              " {'value': 10, 'suit': 'hearts'},\n",
              " {'value': 7, 'suit': 'diamonds'},\n",
              " {'value': 6, 'suit': 'diamonds'},\n",
              " {'value': 9, 'suit': 'diamonds'},\n",
              " {'value': 6, 'suit': 'spades'},\n",
              " {'value': 14, 'suit': 'clubs'},\n",
              " {'value': 12, 'suit': 'clubs'},\n",
              " {'value': 9, 'suit': 'hearts'},\n",
              " {'value': 9, 'suit': 'spades'},\n",
              " {'value': 11, 'suit': 'diamonds'},\n",
              " {'value': 5, 'suit': 'hearts'},\n",
              " {'value': 11, 'suit': 'spades'},\n",
              " {'value': 12, 'suit': 'diamonds'},\n",
              " {'value': 6, 'suit': 'clubs'},\n",
              " {'value': 5, 'suit': 'clubs'},\n",
              " {'value': 7, 'suit': 'clubs'},\n",
              " {'value': 3, 'suit': 'clubs'},\n",
              " {'value': 14, 'suit': 'spades'},\n",
              " {'value': 10, 'suit': 'spades'},\n",
              " {'value': 8, 'suit': 'diamonds'},\n",
              " {'value': 13, 'suit': 'clubs'},\n",
              " {'value': 4, 'suit': 'hearts'},\n",
              " {'value': 12, 'suit': 'hearts'},\n",
              " {'value': 13, 'suit': 'hearts'},\n",
              " {'value': 8, 'suit': 'clubs'},\n",
              " {'value': 7, 'suit': 'spades'},\n",
              " {'value': 4, 'suit': 'spades'},\n",
              " {'value': 4, 'suit': 'clubs'},\n",
              " {'value': 5, 'suit': 'spades'},\n",
              " {'value': 8, 'suit': 'spades'},\n",
              " {'value': 10, 'suit': 'diamonds'},\n",
              " {'value': 2, 'suit': 'spades'},\n",
              " {'value': 12, 'suit': 'spades'},\n",
              " {'value': 11, 'suit': 'clubs'},\n",
              " {'value': 2, 'suit': 'diamonds'},\n",
              " {'value': 2, 'suit': 'hearts'},\n",
              " {'value': 14, 'suit': 'hearts'},\n",
              " {'value': 2, 'suit': 'clubs'},\n",
              " {'value': 14, 'suit': 'diamonds'}]"
            ]
          },
          "metadata": {},
          "execution_count": 51
        }
      ]
    },
    {
      "cell_type": "code",
      "source": [
        "print(d)"
      ],
      "metadata": {
        "colab": {
          "base_uri": "https://localhost:8080/"
        },
        "id": "KI-xT863jQOO",
        "outputId": "61ea34e0-c107-46ca-b987-3b8bffb04c75"
      },
      "execution_count": 52,
      "outputs": [
        {
          "output_type": "stream",
          "name": "stdout",
          "text": [
            "{'a': 100, 't': 350, 'k': 200}\n"
          ]
        }
      ]
    },
    {
      "cell_type": "code",
      "source": [
        "item = input('Enter a single character: ')\n",
        "\n",
        "if item in d:\n",
        "  print(d[item])\n",
        "else:\n",
        "  print('not found')"
      ],
      "metadata": {
        "colab": {
          "base_uri": "https://localhost:8080/"
        },
        "id": "y4e6FFFZjc_u",
        "outputId": "6114f716-92a5-4a0c-caa3-2fe442ab3b75"
      },
      "execution_count": 57,
      "outputs": [
        {
          "output_type": "stream",
          "name": "stdout",
          "text": [
            "Enter a single character: q\n",
            "not found\n"
          ]
        }
      ]
    },
    {
      "cell_type": "code",
      "source": [
        "print(d)"
      ],
      "metadata": {
        "colab": {
          "base_uri": "https://localhost:8080/"
        },
        "id": "CpUMMcAkjffV",
        "outputId": "375fef04-9b0e-443d-8daa-d21307dff479"
      },
      "execution_count": 58,
      "outputs": [
        {
          "output_type": "stream",
          "name": "stdout",
          "text": [
            "{'a': 100, 't': 350, 'k': 200}\n"
          ]
        }
      ]
    },
    {
      "cell_type": "code",
      "source": [
        "list(d)"
      ],
      "metadata": {
        "colab": {
          "base_uri": "https://localhost:8080/"
        },
        "id": "FRXRwoj0n7NF",
        "outputId": "50491023-4959-40b5-e153-bd1b55472609"
      },
      "execution_count": 59,
      "outputs": [
        {
          "output_type": "execute_result",
          "data": {
            "text/plain": [
              "['a', 't', 'k']"
            ]
          },
          "metadata": {},
          "execution_count": 59
        }
      ]
    },
    {
      "cell_type": "code",
      "source": [
        "sum( list( d.values() ) )"
      ],
      "metadata": {
        "colab": {
          "base_uri": "https://localhost:8080/"
        },
        "id": "wTgq_9lGn9fc",
        "outputId": "01d580a6-3f36-431c-ff8f-ec33344b7e33"
      },
      "execution_count": 64,
      "outputs": [
        {
          "output_type": "execute_result",
          "data": {
            "text/plain": [
              "650"
            ]
          },
          "metadata": {},
          "execution_count": 64
        }
      ]
    },
    {
      "cell_type": "code",
      "source": [
        "xx = list( d.items() )"
      ],
      "metadata": {
        "id": "6o8pS6hToCHM"
      },
      "execution_count": 67,
      "outputs": []
    },
    {
      "cell_type": "code",
      "source": [
        "type(xx)"
      ],
      "metadata": {
        "colab": {
          "base_uri": "https://localhost:8080/"
        },
        "id": "t_fWgDzsoPGb",
        "outputId": "e4ea84a6-9719-4d81-8b7f-25c6a7f48002"
      },
      "execution_count": 68,
      "outputs": [
        {
          "output_type": "execute_result",
          "data": {
            "text/plain": [
              "list"
            ]
          },
          "metadata": {},
          "execution_count": 68
        }
      ]
    },
    {
      "cell_type": "code",
      "source": [
        "xx[0]"
      ],
      "metadata": {
        "colab": {
          "base_uri": "https://localhost:8080/"
        },
        "id": "UWJITsAkoWr9",
        "outputId": "e6527d34-c651-4620-bfc7-ab43d20bceba"
      },
      "execution_count": 69,
      "outputs": [
        {
          "output_type": "execute_result",
          "data": {
            "text/plain": [
              "('a', 100)"
            ]
          },
          "metadata": {},
          "execution_count": 69
        }
      ]
    },
    {
      "cell_type": "code",
      "source": [
        "type(xx[0])"
      ],
      "metadata": {
        "colab": {
          "base_uri": "https://localhost:8080/"
        },
        "id": "6ynL2MaAoX_7",
        "outputId": "f86f8ede-f6fa-4196-f528-5d14e7b2e327"
      },
      "execution_count": 70,
      "outputs": [
        {
          "output_type": "execute_result",
          "data": {
            "text/plain": [
              "tuple"
            ]
          },
          "metadata": {},
          "execution_count": 70
        }
      ]
    },
    {
      "cell_type": "code",
      "source": [
        "for item in d.items():\n",
        "  print(list(item)[1])"
      ],
      "metadata": {
        "colab": {
          "base_uri": "https://localhost:8080/"
        },
        "id": "0VUvCB6UoaXj",
        "outputId": "340174c7-ac11-436a-b967-3941e3b14bb9"
      },
      "execution_count": 75,
      "outputs": [
        {
          "output_type": "stream",
          "name": "stdout",
          "text": [
            "100\n",
            "350\n",
            "200\n"
          ]
        }
      ]
    },
    {
      "cell_type": "code",
      "source": [
        "sum( [list(item)[1] for item in d.items() ] )"
      ],
      "metadata": {
        "colab": {
          "base_uri": "https://localhost:8080/"
        },
        "id": "VpKdgp9pop-T",
        "outputId": "99e14233-8570-4a1f-bba3-b55463ef310c"
      },
      "execution_count": 80,
      "outputs": [
        {
          "output_type": "execute_result",
          "data": {
            "text/plain": [
              "650"
            ]
          },
          "metadata": {},
          "execution_count": 80
        }
      ]
    },
    {
      "cell_type": "code",
      "source": [
        "sum( list( d.values() ) )"
      ],
      "metadata": {
        "colab": {
          "base_uri": "https://localhost:8080/"
        },
        "id": "3F-r-VZipK4B",
        "outputId": "bb8730ef-acd1-466b-9df3-89c135a5263f"
      },
      "execution_count": 82,
      "outputs": [
        {
          "output_type": "execute_result",
          "data": {
            "text/plain": [
              "650"
            ]
          },
          "metadata": {},
          "execution_count": 82
        }
      ]
    },
    {
      "cell_type": "code",
      "source": [
        "dict1 = {'a':100, 'b':200, 'c':300}\n",
        "dict2 = [('a',100), ('b',200), ('c',300)]"
      ],
      "metadata": {
        "id": "ifx15GJ5ptAA"
      },
      "execution_count": 84,
      "outputs": []
    },
    {
      "cell_type": "code",
      "source": [
        "type(dict1)"
      ],
      "metadata": {
        "colab": {
          "base_uri": "https://localhost:8080/"
        },
        "id": "V2EWzy7UqFYQ",
        "outputId": "3333fc07-425f-45ae-8f22-809a15318aff"
      },
      "execution_count": 85,
      "outputs": [
        {
          "output_type": "execute_result",
          "data": {
            "text/plain": [
              "dict"
            ]
          },
          "metadata": {},
          "execution_count": 85
        }
      ]
    },
    {
      "cell_type": "code",
      "source": [
        "type(dict2)"
      ],
      "metadata": {
        "colab": {
          "base_uri": "https://localhost:8080/"
        },
        "id": "4ChsE2wOqOvR",
        "outputId": "4771b6b6-5380-42f1-9f19-91b2f70189a4"
      },
      "execution_count": 86,
      "outputs": [
        {
          "output_type": "execute_result",
          "data": {
            "text/plain": [
              "list"
            ]
          },
          "metadata": {},
          "execution_count": 86
        }
      ]
    },
    {
      "cell_type": "code",
      "source": [
        "dict2 = dict(dict2)"
      ],
      "metadata": {
        "id": "pXOpDZ8NqQkP"
      },
      "execution_count": 87,
      "outputs": []
    },
    {
      "cell_type": "code",
      "source": [
        "type(dict2)"
      ],
      "metadata": {
        "colab": {
          "base_uri": "https://localhost:8080/"
        },
        "id": "ytBaHhJ1qZ9x",
        "outputId": "047150d6-a481-4759-e684-d4882957d7b0"
      },
      "execution_count": 88,
      "outputs": [
        {
          "output_type": "execute_result",
          "data": {
            "text/plain": [
              "dict"
            ]
          },
          "metadata": {},
          "execution_count": 88
        }
      ]
    },
    {
      "cell_type": "code",
      "source": [
        "dict2"
      ],
      "metadata": {
        "colab": {
          "base_uri": "https://localhost:8080/"
        },
        "id": "d1-9bOiXqba4",
        "outputId": "edc6399c-f4aa-49d2-a0a3-f7ccd436d91f"
      },
      "execution_count": 89,
      "outputs": [
        {
          "output_type": "execute_result",
          "data": {
            "text/plain": [
              "{'a': 100, 'b': 200, 'c': 300}"
            ]
          },
          "metadata": {},
          "execution_count": 89
        }
      ]
    },
    {
      "cell_type": "code",
      "source": [
        "dict2['b']"
      ],
      "metadata": {
        "colab": {
          "base_uri": "https://localhost:8080/"
        },
        "id": "1fCDvItUqfae",
        "outputId": "d82b8586-ddb4-4fd4-e965-c8649429dc22"
      },
      "execution_count": 90,
      "outputs": [
        {
          "output_type": "execute_result",
          "data": {
            "text/plain": [
              "200"
            ]
          },
          "metadata": {},
          "execution_count": 90
        }
      ]
    },
    {
      "cell_type": "code",
      "source": [
        "list(dict2)"
      ],
      "metadata": {
        "colab": {
          "base_uri": "https://localhost:8080/"
        },
        "id": "WQSuOx9wqhGP",
        "outputId": "5aeb4e96-ed79-45fd-cd92-48caddd2748e"
      },
      "execution_count": 91,
      "outputs": [
        {
          "output_type": "execute_result",
          "data": {
            "text/plain": [
              "['a', 'b', 'c']"
            ]
          },
          "metadata": {},
          "execution_count": 91
        }
      ]
    },
    {
      "cell_type": "code",
      "source": [
        "list( dict2.values() )"
      ],
      "metadata": {
        "colab": {
          "base_uri": "https://localhost:8080/"
        },
        "id": "w6WjcpCmqj-0",
        "outputId": "1eb1217f-1f36-434b-987b-921d9f9de954"
      },
      "execution_count": 92,
      "outputs": [
        {
          "output_type": "execute_result",
          "data": {
            "text/plain": [
              "[100, 200, 300]"
            ]
          },
          "metadata": {},
          "execution_count": 92
        }
      ]
    },
    {
      "cell_type": "code",
      "source": [
        "list(dict2.items())"
      ],
      "metadata": {
        "colab": {
          "base_uri": "https://localhost:8080/"
        },
        "id": "l-JbTI6DqoD_",
        "outputId": "878a8a8c-818a-4abb-c79d-65060494afe1"
      },
      "execution_count": 93,
      "outputs": [
        {
          "output_type": "execute_result",
          "data": {
            "text/plain": [
              "[('a', 100), ('b', 200), ('c', 300)]"
            ]
          },
          "metadata": {},
          "execution_count": 93
        }
      ]
    },
    {
      "cell_type": "code",
      "source": [
        "text = 'lorem ipsum dolor sit amet confutatis maledictis flammis acribus addictis'\n",
        "words = text.split(' ')\n",
        "print(words)"
      ],
      "metadata": {
        "colab": {
          "base_uri": "https://localhost:8080/"
        },
        "id": "IRGQBjeKqqeH",
        "outputId": "22a0b987-1d6f-42f8-8172-e61c44f2ab00"
      },
      "execution_count": 96,
      "outputs": [
        {
          "output_type": "stream",
          "name": "stdout",
          "text": [
            "['lorem', 'ipsum', 'dolor', 'sit', 'amet', 'confutatis', 'maledictis', 'flammis', 'acribus', 'addictis']\n"
          ]
        }
      ]
    },
    {
      "cell_type": "code",
      "source": [
        "ddd = { item:len(item) for item in words}\n",
        "print(ddd)"
      ],
      "metadata": {
        "colab": {
          "base_uri": "https://localhost:8080/"
        },
        "id": "eAVHysBprSsO",
        "outputId": "b079946a-33b7-467c-daf1-e40f788aa35a"
      },
      "execution_count": 97,
      "outputs": [
        {
          "output_type": "stream",
          "name": "stdout",
          "text": [
            "{'lorem': 5, 'ipsum': 5, 'dolor': 5, 'sit': 3, 'amet': 4, 'confutatis': 10, 'maledictis': 10, 'flammis': 7, 'acribus': 7, 'addictis': 8}\n"
          ]
        }
      ]
    },
    {
      "cell_type": "code",
      "source": [
        "sum( list( ddd.values() ) )"
      ],
      "metadata": {
        "colab": {
          "base_uri": "https://localhost:8080/"
        },
        "id": "EScy89BBrnm3",
        "outputId": "404997ba-9186-4757-9148-7942474b99a2"
      },
      "execution_count": 99,
      "outputs": [
        {
          "output_type": "execute_result",
          "data": {
            "text/plain": [
              "64"
            ]
          },
          "metadata": {},
          "execution_count": 99
        }
      ]
    },
    {
      "cell_type": "code",
      "source": [],
      "metadata": {
        "id": "Xp1jmdBPrvrO"
      },
      "execution_count": null,
      "outputs": []
    }
  ]
}