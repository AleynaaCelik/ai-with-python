{
  "nbformat": 4,
  "nbformat_minor": 0,
  "metadata": {
    "colab": {
      "provenance": []
    },
    "kernelspec": {
      "name": "python3",
      "display_name": "Python 3"
    },
    "language_info": {
      "name": "python"
    }
  },
  "cells": [
    {
      "cell_type": "code",
      "execution_count": null,
      "metadata": {
        "id": "1E18ag8Rz4_B"
      },
      "outputs": [],
      "source": []
    },
    {
      "cell_type": "markdown",
      "source": [
        "Soru1\n"
      ],
      "metadata": {
        "id": "456NtE6N0ADM"
      }
    },
    {
      "cell_type": "code",
      "source": [
        "for i in range (100):\n",
        "  print('Aleyna')\n"
      ],
      "metadata": {
        "colab": {
          "base_uri": "https://localhost:8080/"
        },
        "id": "LTBSxN410FGP",
        "outputId": "8dcffe9b-a38c-4697-ff46-3a3791b4dc89"
      },
      "execution_count": 2,
      "outputs": [
        {
          "output_type": "stream",
          "name": "stdout",
          "text": [
            "Aleyna\n",
            "Aleyna\n",
            "Aleyna\n",
            "Aleyna\n",
            "Aleyna\n",
            "Aleyna\n",
            "Aleyna\n",
            "Aleyna\n",
            "Aleyna\n",
            "Aleyna\n",
            "Aleyna\n",
            "Aleyna\n",
            "Aleyna\n",
            "Aleyna\n",
            "Aleyna\n",
            "Aleyna\n",
            "Aleyna\n",
            "Aleyna\n",
            "Aleyna\n",
            "Aleyna\n",
            "Aleyna\n",
            "Aleyna\n",
            "Aleyna\n",
            "Aleyna\n",
            "Aleyna\n",
            "Aleyna\n",
            "Aleyna\n",
            "Aleyna\n",
            "Aleyna\n",
            "Aleyna\n",
            "Aleyna\n",
            "Aleyna\n",
            "Aleyna\n",
            "Aleyna\n",
            "Aleyna\n",
            "Aleyna\n",
            "Aleyna\n",
            "Aleyna\n",
            "Aleyna\n",
            "Aleyna\n",
            "Aleyna\n",
            "Aleyna\n",
            "Aleyna\n",
            "Aleyna\n",
            "Aleyna\n",
            "Aleyna\n",
            "Aleyna\n",
            "Aleyna\n",
            "Aleyna\n",
            "Aleyna\n",
            "Aleyna\n",
            "Aleyna\n",
            "Aleyna\n",
            "Aleyna\n",
            "Aleyna\n",
            "Aleyna\n",
            "Aleyna\n",
            "Aleyna\n",
            "Aleyna\n",
            "Aleyna\n",
            "Aleyna\n",
            "Aleyna\n",
            "Aleyna\n",
            "Aleyna\n",
            "Aleyna\n",
            "Aleyna\n",
            "Aleyna\n",
            "Aleyna\n",
            "Aleyna\n",
            "Aleyna\n",
            "Aleyna\n",
            "Aleyna\n",
            "Aleyna\n",
            "Aleyna\n",
            "Aleyna\n",
            "Aleyna\n",
            "Aleyna\n",
            "Aleyna\n",
            "Aleyna\n",
            "Aleyna\n",
            "Aleyna\n",
            "Aleyna\n",
            "Aleyna\n",
            "Aleyna\n",
            "Aleyna\n",
            "Aleyna\n",
            "Aleyna\n",
            "Aleyna\n",
            "Aleyna\n",
            "Aleyna\n",
            "Aleyna\n",
            "Aleyna\n",
            "Aleyna\n",
            "Aleyna\n",
            "Aleyna\n",
            "Aleyna\n",
            "Aleyna\n",
            "Aleyna\n",
            "Aleyna\n",
            "Aleyna\n"
          ]
        }
      ]
    },
    {
      "cell_type": "markdown",
      "source": [
        "Soru 2\n"
      ],
      "metadata": {
        "id": "tjpgphF30pdv"
      }
    },
    {
      "cell_type": "code",
      "source": [
        "print('Aleyna', end='-----')\n",
        "print('Aleyna', end='-----')\n",
        "print('Aleyna', end='-----')\n",
        "print('Aleyna')\n",
        "print('Aleyna')\n",
        "print('Aleyna')\n",
        "print('Aleyna')\n",
        "print('Aleyna')\n",
        "print('Aleyna')\n",
        "print('Aleyna')\n",
        "print('Aleyna')\n",
        "print('Aleyna', end='-----')\n",
        "print('Aleyna', end='-----')\n",
        "print('Aleyna', end='-----')"
      ],
      "metadata": {
        "colab": {
          "base_uri": "https://localhost:8080/"
        },
        "id": "HHa7ymi10r8W",
        "outputId": "81ae48f4-e8eb-41fa-8a2e-24dff3b5c467"
      },
      "execution_count": 8,
      "outputs": [
        {
          "output_type": "stream",
          "name": "stdout",
          "text": [
            "Aleyna-----Aleyna-----Aleyna-----Aleyna\n",
            "Aleyna\n",
            "Aleyna\n",
            "Aleyna\n",
            "Aleyna\n",
            "Aleyna\n",
            "Aleyna\n",
            "Aleyna\n",
            "Aleyna-----Aleyna-----Aleyna-----"
          ]
        }
      ]
    },
    {
      "cell_type": "markdown",
      "source": [
        "Soru 3"
      ],
      "metadata": {
        "id": "PRbMkz0_1PTj"
      }
    },
    {
      "cell_type": "code",
      "source": [
        "for i in range (1,101):\n",
        "  print(i, '.', 'Aleyna',sep='')"
      ],
      "metadata": {
        "colab": {
          "base_uri": "https://localhost:8080/"
        },
        "id": "sLZV9SUC1Rdn",
        "outputId": "519fa892-799a-4e95-b1a9-d96d3efe8d02"
      },
      "execution_count": 10,
      "outputs": [
        {
          "output_type": "stream",
          "name": "stdout",
          "text": [
            "1.Aleyna\n",
            "2.Aleyna\n",
            "3.Aleyna\n",
            "4.Aleyna\n",
            "5.Aleyna\n",
            "6.Aleyna\n",
            "7.Aleyna\n",
            "8.Aleyna\n",
            "9.Aleyna\n",
            "10.Aleyna\n",
            "11.Aleyna\n",
            "12.Aleyna\n",
            "13.Aleyna\n",
            "14.Aleyna\n",
            "15.Aleyna\n",
            "16.Aleyna\n",
            "17.Aleyna\n",
            "18.Aleyna\n",
            "19.Aleyna\n",
            "20.Aleyna\n",
            "21.Aleyna\n",
            "22.Aleyna\n",
            "23.Aleyna\n",
            "24.Aleyna\n",
            "25.Aleyna\n",
            "26.Aleyna\n",
            "27.Aleyna\n",
            "28.Aleyna\n",
            "29.Aleyna\n",
            "30.Aleyna\n",
            "31.Aleyna\n",
            "32.Aleyna\n",
            "33.Aleyna\n",
            "34.Aleyna\n",
            "35.Aleyna\n",
            "36.Aleyna\n",
            "37.Aleyna\n",
            "38.Aleyna\n",
            "39.Aleyna\n",
            "40.Aleyna\n",
            "41.Aleyna\n",
            "42.Aleyna\n",
            "43.Aleyna\n",
            "44.Aleyna\n",
            "45.Aleyna\n",
            "46.Aleyna\n",
            "47.Aleyna\n",
            "48.Aleyna\n",
            "49.Aleyna\n",
            "50.Aleyna\n",
            "51.Aleyna\n",
            "52.Aleyna\n",
            "53.Aleyna\n",
            "54.Aleyna\n",
            "55.Aleyna\n",
            "56.Aleyna\n",
            "57.Aleyna\n",
            "58.Aleyna\n",
            "59.Aleyna\n",
            "60.Aleyna\n",
            "61.Aleyna\n",
            "62.Aleyna\n",
            "63.Aleyna\n",
            "64.Aleyna\n",
            "65.Aleyna\n",
            "66.Aleyna\n",
            "67.Aleyna\n",
            "68.Aleyna\n",
            "69.Aleyna\n",
            "70.Aleyna\n",
            "71.Aleyna\n",
            "72.Aleyna\n",
            "73.Aleyna\n",
            "74.Aleyna\n",
            "75.Aleyna\n",
            "76.Aleyna\n",
            "77.Aleyna\n",
            "78.Aleyna\n",
            "79.Aleyna\n",
            "80.Aleyna\n",
            "81.Aleyna\n",
            "82.Aleyna\n",
            "83.Aleyna\n",
            "84.Aleyna\n",
            "85.Aleyna\n",
            "86.Aleyna\n",
            "87.Aleyna\n",
            "88.Aleyna\n",
            "89.Aleyna\n",
            "90.Aleyna\n",
            "91.Aleyna\n",
            "92.Aleyna\n",
            "93.Aleyna\n",
            "94.Aleyna\n",
            "95.Aleyna\n",
            "96.Aleyna\n",
            "97.Aleyna\n",
            "98.Aleyna\n",
            "99.Aleyna\n",
            "100.Aleyna\n"
          ]
        }
      ]
    },
    {
      "cell_type": "markdown",
      "source": [
        "Soru 4\n"
      ],
      "metadata": {
        "id": "VCQH5n_52Rtp"
      }
    },
    {
      "cell_type": "code",
      "source": [
        "for i in range (21):\n",
        "  print(i, '', (i ** 2),sep='-----')\n"
      ],
      "metadata": {
        "colab": {
          "base_uri": "https://localhost:8080/"
        },
        "id": "LKbRZ1pU2TtC",
        "outputId": "a3f955b4-6a25-4036-cbcf-ab89f66373e7"
      },
      "execution_count": 14,
      "outputs": [
        {
          "output_type": "stream",
          "name": "stdout",
          "text": [
            "0----------0\n",
            "1----------1\n",
            "2----------4\n",
            "3----------9\n",
            "4----------16\n",
            "5----------25\n",
            "6----------36\n",
            "7----------49\n",
            "8----------64\n",
            "9----------81\n",
            "10----------100\n",
            "11----------121\n",
            "12----------144\n",
            "13----------169\n",
            "14----------196\n",
            "15----------225\n",
            "16----------256\n",
            "17----------289\n",
            "18----------324\n",
            "19----------361\n",
            "20----------400\n"
          ]
        }
      ]
    },
    {
      "cell_type": "markdown",
      "source": [
        "Soru 5"
      ],
      "metadata": {
        "id": "Ix-tCUBj3Elt"
      }
    },
    {
      "cell_type": "code",
      "source": [
        "for i in range(8, 90, 3):\n",
        "  print(i, '', end='')"
      ],
      "metadata": {
        "colab": {
          "base_uri": "https://localhost:8080/"
        },
        "id": "3Erk9qMm3GE1",
        "outputId": "5bca0da1-a8f2-4ae8-c798-44ab2e33e764"
      },
      "execution_count": 15,
      "outputs": [
        {
          "output_type": "stream",
          "name": "stdout",
          "text": [
            "8 11 14 17 20 23 26 29 32 35 38 41 44 47 50 53 56 59 62 65 68 71 74 77 80 83 86 89 "
          ]
        }
      ]
    },
    {
      "cell_type": "markdown",
      "source": [
        "Soru 6\n"
      ],
      "metadata": {
        "id": "pSnw3f1D-FHG"
      }
    },
    {
      "cell_type": "code",
      "source": [
        "for  i in range(100, 0, -2):\n",
        "  print(i, '', end='')"
      ],
      "metadata": {
        "colab": {
          "base_uri": "https://localhost:8080/"
        },
        "id": "lD3IQkP_8S69",
        "outputId": "3be96487-ff16-4522-d3cd-d54ab9cd3d78"
      },
      "execution_count": 18,
      "outputs": [
        {
          "output_type": "stream",
          "name": "stdout",
          "text": [
            "100 98 96 94 92 90 88 86 84 82 80 78 76 74 72 70 68 66 64 62 60 58 56 54 52 50 48 46 44 42 40 38 36 34 32 30 28 26 24 22 20 18 16 14 12 10 8 6 4 2 "
          ]
        }
      ]
    },
    {
      "cell_type": "markdown",
      "source": [
        "Soru 7"
      ],
      "metadata": {
        "id": "WHD8TDJs-HTK"
      }
    },
    {
      "cell_type": "code",
      "source": [
        "for i in range(11):\n",
        "  print('A')\n",
        "for i in range(8):\n",
        "  print('B')\n",
        "for i in range(4):\n",
        "  print('C')\n",
        "  print('D')\n",
        "for i in range(8):\n",
        "  print('E')"
      ],
      "metadata": {
        "colab": {
          "base_uri": "https://localhost:8080/"
        },
        "id": "iMllgiY39bUi",
        "outputId": "3b2bc170-8bff-40c2-9fb0-c71bf40ca5eb"
      },
      "execution_count": 20,
      "outputs": [
        {
          "output_type": "stream",
          "name": "stdout",
          "text": [
            "A\n",
            "A\n",
            "A\n",
            "A\n",
            "A\n",
            "A\n",
            "A\n",
            "A\n",
            "A\n",
            "A\n",
            "A\n",
            "B\n",
            "B\n",
            "B\n",
            "B\n",
            "B\n",
            "B\n",
            "B\n",
            "B\n",
            "C\n",
            "D\n",
            "C\n",
            "D\n",
            "C\n",
            "D\n",
            "C\n",
            "D\n",
            "E\n",
            "E\n",
            "E\n",
            "E\n",
            "E\n",
            "E\n",
            "E\n",
            "E\n"
          ]
        }
      ]
    },
    {
      "cell_type": "markdown",
      "source": [
        "Soru 12"
      ],
      "metadata": {
        "id": "VWM7tT4yBAtF"
      }
    },
    {
      "cell_type": "code",
      "source": [
        "for i in range(1, 11):\n",
        "  print('*'*i)\n",
        "\n"
      ],
      "metadata": {
        "colab": {
          "base_uri": "https://localhost:8080/"
        },
        "id": "MADfuvyGAW3t",
        "outputId": "d0e195f7-a804-4ef2-fac9-b6d8adc2d153"
      },
      "execution_count": 24,
      "outputs": [
        {
          "output_type": "stream",
          "name": "stdout",
          "text": [
            "*\n",
            "**\n",
            "***\n",
            "****\n",
            "*****\n",
            "******\n",
            "*******\n",
            "********\n",
            "*********\n",
            "**********\n"
          ]
        }
      ]
    },
    {
      "cell_type": "markdown",
      "source": [
        "Soru 10"
      ],
      "metadata": {
        "id": "Tct-SgESWIr9"
      }
    },
    {
      "cell_type": "code",
      "source": [
        "width=eval(input('Birinci sayıyı giriniz: '))\n",
        "heght=eval(input('İkinci sayıyı giriniz: '))\n",
        "for i in range(heght):\n",
        "  print('*'*width)\n"
      ],
      "metadata": {
        "colab": {
          "base_uri": "https://localhost:8080/"
        },
        "id": "zja5MIHcVzuC",
        "outputId": "cd339e6a-c9fc-47e7-8f25-eab4e9084e65"
      },
      "execution_count": 25,
      "outputs": [
        {
          "output_type": "stream",
          "name": "stdout",
          "text": [
            "Birinci sayıyı giriniz: 3\n",
            "İkinci sayıyı giriniz: 4\n",
            "***\n",
            "***\n",
            "***\n",
            "***\n"
          ]
        }
      ]
    },
    {
      "cell_type": "markdown",
      "source": [
        "Soru 11"
      ],
      "metadata": {
        "id": "AD3AJVViWq8Z"
      }
    },
    {
      "cell_type": "code",
      "source": [
        "print('**********')\n",
        "print('*        *')\n",
        "print('**********')"
      ],
      "metadata": {
        "colab": {
          "base_uri": "https://localhost:8080/"
        },
        "id": "RYuE9ahtWiK1",
        "outputId": "fdc32bc3-fed0-499b-bb45-69bf9bd7022e"
      },
      "execution_count": 26,
      "outputs": [
        {
          "output_type": "stream",
          "name": "stdout",
          "text": [
            "**********\n",
            "*        *\n",
            "**********\n"
          ]
        }
      ]
    },
    {
      "cell_type": "markdown",
      "source": [
        "Soru 13"
      ],
      "metadata": {
        "id": "hHQp_YrMYI8w"
      }
    },
    {
      "cell_type": "code",
      "source": [
        "for i in range(4, 0, -1):  # 4, 3, 2, 1\n",
        "    print('*' * i)"
      ],
      "metadata": {
        "colab": {
          "base_uri": "https://localhost:8080/"
        },
        "id": "gD8Xl-wvX3Fk",
        "outputId": "f5c33b32-12a3-42be-8a7d-8d9c08d5ead5"
      },
      "execution_count": 27,
      "outputs": [
        {
          "output_type": "stream",
          "name": "stdout",
          "text": [
            "****\n",
            "***\n",
            "**\n",
            "*\n"
          ]
        }
      ]
    },
    {
      "cell_type": "code",
      "source": [],
      "metadata": {
        "id": "fs7E_OLnYLf8"
      },
      "execution_count": null,
      "outputs": []
    }
  ]
}