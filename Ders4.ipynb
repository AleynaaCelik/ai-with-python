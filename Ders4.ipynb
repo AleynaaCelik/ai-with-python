{
  "nbformat": 4,
  "nbformat_minor": 0,
  "metadata": {
    "colab": {
      "provenance": []
    },
    "kernelspec": {
      "name": "python3",
      "display_name": "Python 3"
    },
    "language_info": {
      "name": "python"
    }
  },
  "cells": [
    {
      "cell_type": "markdown",
      "source": [
        "Pythonda arraylare göre çok daha esnek yapıya sahip daha kolay yönetilebilir özeelliklere sahip olan listelere sahiptir"
      ],
      "metadata": {
        "id": "ENbNKcRMXBR0"
      }
    },
    {
      "cell_type": "code",
      "source": [
        "L=4\n",
        "print(L)\n",
        "type(L)"
      ],
      "metadata": {
        "colab": {
          "base_uri": "https://localhost:8080/"
        },
        "id": "5lyoppVNXKkB",
        "outputId": "ad90e6ea-5e71-4151-9bc5-66080e1ae4aa"
      },
      "execution_count": 3,
      "outputs": [
        {
          "output_type": "stream",
          "name": "stdout",
          "text": [
            "4\n"
          ]
        },
        {
          "output_type": "execute_result",
          "data": {
            "text/plain": [
              "int"
            ]
          },
          "metadata": {},
          "execution_count": 3
        }
      ]
    },
    {
      "cell_type": "code",
      "source": [
        "L=[1,2,8.7]\n",
        "print(L)\n",
        "type(L)"
      ],
      "metadata": {
        "colab": {
          "base_uri": "https://localhost:8080/"
        },
        "id": "SiX1MpfPW0R4",
        "outputId": "8f522d51-c9ef-45ba-a8f1-380c6104c9c9"
      },
      "execution_count": 4,
      "outputs": [
        {
          "output_type": "stream",
          "name": "stdout",
          "text": [
            "[1, 2, 8.7]\n"
          ]
        },
        {
          "output_type": "execute_result",
          "data": {
            "text/plain": [
              "list"
            ]
          },
          "metadata": {},
          "execution_count": 4
        }
      ]
    },
    {
      "cell_type": "markdown",
      "source": [
        "Stringler birer listedir"
      ],
      "metadata": {
        "id": "o-3r0umBXoaP"
      }
    },
    {
      "cell_type": "code",
      "source": [
        "L[0]"
      ],
      "metadata": {
        "colab": {
          "base_uri": "https://localhost:8080/"
        },
        "id": "cd8WLV4EXrWF",
        "outputId": "d6ed6451-b726-44e9-97db-28e20e00dfc5"
      },
      "execution_count": 5,
      "outputs": [
        {
          "output_type": "execute_result",
          "data": {
            "text/plain": [
              "1"
            ]
          },
          "metadata": {},
          "execution_count": 5
        }
      ]
    },
    {
      "cell_type": "code",
      "source": [
        "L[-1]"
      ],
      "metadata": {
        "colab": {
          "base_uri": "https://localhost:8080/"
        },
        "id": "o4lx0-ATXu4W",
        "outputId": "601ead0e-8e4e-477b-e34d-1666cf996941"
      },
      "execution_count": 6,
      "outputs": [
        {
          "output_type": "execute_result",
          "data": {
            "text/plain": [
              "8.7"
            ]
          },
          "metadata": {},
          "execution_count": 6
        }
      ]
    },
    {
      "cell_type": "code",
      "source": [
        "L[:len(L)-1]"
      ],
      "metadata": {
        "colab": {
          "base_uri": "https://localhost:8080/"
        },
        "id": "AQuFVI7-X5ge",
        "outputId": "beca63f9-7321-442b-958f-59f33e43de57"
      },
      "execution_count": 7,
      "outputs": [
        {
          "output_type": "execute_result",
          "data": {
            "text/plain": [
              "[1, 2]"
            ]
          },
          "metadata": {},
          "execution_count": 7
        }
      ]
    },
    {
      "cell_type": "code",
      "source": [
        "L[::-1]"
      ],
      "metadata": {
        "colab": {
          "base_uri": "https://localhost:8080/"
        },
        "id": "e3vbDjOkX-uH",
        "outputId": "15c4f225-c91e-4f34-cbb6-2ab811b63374"
      },
      "execution_count": 8,
      "outputs": [
        {
          "output_type": "execute_result",
          "data": {
            "text/plain": [
              "[8.7, 2, 1]"
            ]
          },
          "metadata": {},
          "execution_count": 8
        }
      ]
    },
    {
      "cell_type": "code",
      "source": [
        "num=list(range(41))\n",
        "print(num)"
      ],
      "metadata": {
        "colab": {
          "base_uri": "https://localhost:8080/"
        },
        "id": "2kwP2_rnYB4i",
        "outputId": "1c5ff5d7-1260-40b5-9133-f6ab3b47d4ed"
      },
      "execution_count": 10,
      "outputs": [
        {
          "output_type": "stream",
          "name": "stdout",
          "text": [
            "[0, 1, 2, 3, 4, 5, 6, 7, 8, 9, 10, 11, 12, 13, 14, 15, 16, 17, 18, 19, 20, 21, 22, 23, 24, 25, 26, 27, 28, 29, 30, 31, 32, 33, 34, 35, 36, 37, 38, 39, 40]\n"
          ]
        }
      ]
    },
    {
      "cell_type": "code",
      "source": [
        "L=list(eval(input('Enter a list: ')))\n",
        "print(L)"
      ],
      "metadata": {
        "colab": {
          "base_uri": "https://localhost:8080/"
        },
        "id": "wZfeNGErYXF0",
        "outputId": "e0dea67a-d7e9-42c9-ced0-fbcf3e84845c"
      },
      "execution_count": 14,
      "outputs": [
        {
          "output_type": "stream",
          "name": "stdout",
          "text": [
            "Enter a list: 3,6,5\n",
            "[3, 6, 5]\n"
          ]
        }
      ]
    },
    {
      "cell_type": "code",
      "source": [
        "type(L)"
      ],
      "metadata": {
        "colab": {
          "base_uri": "https://localhost:8080/"
        },
        "id": "QEKbIW4OY_OM",
        "outputId": "5269aa95-57ce-4079-b461-59562dc267bf"
      },
      "execution_count": 13,
      "outputs": [
        {
          "output_type": "execute_result",
          "data": {
            "text/plain": [
              "tuple"
            ]
          },
          "metadata": {},
          "execution_count": 13
        }
      ]
    },
    {
      "cell_type": "code",
      "source": [
        "L=[1,2.178,'abc',[5,6,7]]\n",
        "print(L)\n",
        "#listeler birden fazla  veri tipi bulundurabilir"
      ],
      "metadata": {
        "colab": {
          "base_uri": "https://localhost:8080/"
        },
        "id": "d_JNDU5CZOAP",
        "outputId": "b5c45e45-b8f6-44da-b729-cec691eddee0"
      },
      "execution_count": 15,
      "outputs": [
        {
          "output_type": "stream",
          "name": "stdout",
          "text": [
            "[1, 2.178, 'abc', [5, 6, 7]]\n"
          ]
        }
      ]
    },
    {
      "cell_type": "code",
      "source": [
        "myList=[3.14,'aleyna',[3,5,7,9],24,list(range(1,5))]\n",
        "type(myList)\n"
      ],
      "metadata": {
        "colab": {
          "base_uri": "https://localhost:8080/"
        },
        "id": "pAm92zREaEVb",
        "outputId": "eb4858e7-e046-4a30-9eb2-14425c93befa"
      },
      "execution_count": 23,
      "outputs": [
        {
          "output_type": "execute_result",
          "data": {
            "text/plain": [
              "list"
            ]
          },
          "metadata": {},
          "execution_count": 23
        }
      ]
    },
    {
      "cell_type": "code",
      "source": [
        "print(myList)"
      ],
      "metadata": {
        "colab": {
          "base_uri": "https://localhost:8080/"
        },
        "id": "XoD-vppkag2T",
        "outputId": "56341644-4eab-44c2-d0eb-f390cd226e23"
      },
      "execution_count": 22,
      "outputs": [
        {
          "output_type": "stream",
          "name": "stdout",
          "text": [
            "[3.14, 'aleyna', [3, 5, 7, 9], 24, [1, 2, 3, 4]]\n"
          ]
        }
      ]
    },
    {
      "cell_type": "code",
      "source": [
        "len(myList)"
      ],
      "metadata": {
        "id": "K6RU0fWPawiq"
      },
      "execution_count": null,
      "outputs": []
    },
    {
      "cell_type": "code",
      "source": [
        "for element in myList:  #mylist'in içindeki elemanları sırasıyla getir\n",
        "  print(element)"
      ],
      "metadata": {
        "colab": {
          "base_uri": "https://localhost:8080/"
        },
        "id": "TUd0HW5Ma1O9",
        "outputId": "0c8ae7ab-471a-43d1-ad92-3795e13951dc"
      },
      "execution_count": 21,
      "outputs": [
        {
          "output_type": "stream",
          "name": "stdout",
          "text": [
            "3.14\n",
            "aleyna\n",
            "[3, 5, 7, 9]\n",
            "24\n",
            "[1, 2, 3, 4]\n"
          ]
        }
      ]
    },
    {
      "cell_type": "code",
      "source": [
        "if 3.14 in myList:\n",
        "  print('True')\n",
        "else:\n",
        "  print('False')"
      ],
      "metadata": {
        "colab": {
          "base_uri": "https://localhost:8080/"
        },
        "id": "D0i4dyZebZW4",
        "outputId": "d0d5a7cc-b3ca-4681-9b7e-33dc4fb01b77"
      },
      "execution_count": 24,
      "outputs": [
        {
          "output_type": "stream",
          "name": "stdout",
          "text": [
            "True\n"
          ]
        }
      ]
    },
    {
      "cell_type": "code",
      "source": [
        "str1='Merhaba'\n",
        "str2='Dünya'\n",
        "str1+ '' +str2"
      ],
      "metadata": {
        "colab": {
          "base_uri": "https://localhost:8080/",
          "height": 36
        },
        "id": "HfdBa1qccCb0",
        "outputId": "392072cd-f578-4bf9-efc3-b2c5bd300c7c"
      },
      "execution_count": 26,
      "outputs": [
        {
          "output_type": "execute_result",
          "data": {
            "text/plain": [
              "'MerhabaDünya'"
            ],
            "application/vnd.google.colaboratory.intrinsic+json": {
              "type": "string"
            }
          },
          "metadata": {},
          "execution_count": 26
        }
      ]
    },
    {
      "cell_type": "code",
      "source": [
        "list1=['x',6,'zat']\n",
        "list2=['lorem',67,41]\n",
        "sonuc=list1+list2\n",
        "len(sonuc)\n"
      ],
      "metadata": {
        "colab": {
          "base_uri": "https://localhost:8080/"
        },
        "id": "7gyENlfWcPsk",
        "outputId": "3d81c66c-99e9-4be6-b99d-a43e74374387"
      },
      "execution_count": 29,
      "outputs": [
        {
          "output_type": "execute_result",
          "data": {
            "text/plain": [
              "6"
            ]
          },
          "metadata": {},
          "execution_count": 29
        }
      ]
    },
    {
      "cell_type": "markdown",
      "source": [
        "len sayısı\n",
        "sum toplam\n",
        "min max\n",
        "sum sayısal değerler içeren listeler için geçerli"
      ],
      "metadata": {
        "id": "xSD4qNrjdRP8"
      }
    },
    {
      "cell_type": "code",
      "source": [
        "xx=[4,5,9,6.8]\n",
        "sum(xx)"
      ],
      "metadata": {
        "colab": {
          "base_uri": "https://localhost:8080/"
        },
        "id": "AaYNug2Acm9F",
        "outputId": "7dfa204c-9713-4665-edf1-7ad8994025a8"
      },
      "execution_count": 30,
      "outputs": [
        {
          "output_type": "execute_result",
          "data": {
            "text/plain": [
              "24.8"
            ]
          },
          "metadata": {},
          "execution_count": 30
        }
      ]
    },
    {
      "cell_type": "code",
      "source": [
        "min(xx)"
      ],
      "metadata": {
        "colab": {
          "base_uri": "https://localhost:8080/"
        },
        "id": "MWZRWR8Gd8BW",
        "outputId": "f035ed61-e300-4b24-c610-78647b304ca2"
      },
      "execution_count": 31,
      "outputs": [
        {
          "output_type": "execute_result",
          "data": {
            "text/plain": [
              "4"
            ]
          },
          "metadata": {},
          "execution_count": 31
        }
      ]
    },
    {
      "cell_type": "code",
      "source": [
        "max(xx)"
      ],
      "metadata": {
        "colab": {
          "base_uri": "https://localhost:8080/"
        },
        "id": "kPKsa40Cd9gi",
        "outputId": "035c6749-114d-4c77-fa1e-b3cae41176ea"
      },
      "execution_count": 32,
      "outputs": [
        {
          "output_type": "execute_result",
          "data": {
            "text/plain": [
              "9"
            ]
          },
          "metadata": {},
          "execution_count": 32
        }
      ]
    },
    {
      "cell_type": "code",
      "source": [
        "ortalama=sum(xx)/len(xx)\n",
        "print(ortalama)"
      ],
      "metadata": {
        "colab": {
          "base_uri": "https://localhost:8080/"
        },
        "id": "PDOnKv_0d-8D",
        "outputId": "c5fda948-d089-4d68-bcbe-920847df513f"
      },
      "execution_count": 33,
      "outputs": [
        {
          "output_type": "stream",
          "name": "stdout",
          "text": [
            "6.2\n"
          ]
        }
      ]
    },
    {
      "cell_type": "code",
      "source": [
        "list1.extend(list2)\n",
        "print(list1)"
      ],
      "metadata": {
        "colab": {
          "base_uri": "https://localhost:8080/"
        },
        "id": "W56-bVU7eFtF",
        "outputId": "7f3b0371-1f68-4748-a67c-c0a1fac1882e"
      },
      "execution_count": 35,
      "outputs": [
        {
          "output_type": "stream",
          "name": "stdout",
          "text": [
            "['x', 6, 'zat', 'lorem', 67, 41]\n"
          ]
        }
      ]
    },
    {
      "cell_type": "code",
      "source": [
        "list1.append(25)\n",
        "print(list1)"
      ],
      "metadata": {
        "colab": {
          "base_uri": "https://localhost:8080/"
        },
        "id": "GNJjwIhVeW4n",
        "outputId": "4e5b7cbd-91e9-486d-e808-7f0aaa516236"
      },
      "execution_count": 36,
      "outputs": [
        {
          "output_type": "stream",
          "name": "stdout",
          "text": [
            "['x', 6, 'zat', 'lorem', 67, 41, 25]\n"
          ]
        }
      ]
    },
    {
      "cell_type": "code",
      "source": [
        "yy=[4,5,9,6.8]\n",
        "yy.sort()\n",
        "print(yy[::-1])\n",
        "#"
      ],
      "metadata": {
        "colab": {
          "base_uri": "https://localhost:8080/"
        },
        "id": "A4IXajp7fwTO",
        "outputId": "11b11090-e008-4930-8e88-1a1b811aa74c"
      },
      "execution_count": 40,
      "outputs": [
        {
          "output_type": "stream",
          "name": "stdout",
          "text": [
            "[9, 6.8, 5, 4]\n"
          ]
        }
      ]
    },
    {
      "cell_type": "code",
      "source": [
        "yy.index(9)"
      ],
      "metadata": {
        "colab": {
          "base_uri": "https://localhost:8080/"
        },
        "id": "epeKkev4fyvl",
        "outputId": "90aee8e9-f826-4c87-fa03-0eab3f5b82d9"
      },
      "execution_count": 42,
      "outputs": [
        {
          "output_type": "execute_result",
          "data": {
            "text/plain": [
              "3"
            ]
          },
          "metadata": {},
          "execution_count": 42
        }
      ]
    },
    {
      "cell_type": "code",
      "source": [
        "yy.reverse()\n",
        "print(yy)\n"
      ],
      "metadata": {
        "colab": {
          "base_uri": "https://localhost:8080/"
        },
        "id": "O4cGJVkogg5H",
        "outputId": "2df13a5c-389b-407e-9c20-15921fc5462f"
      },
      "execution_count": 43,
      "outputs": [
        {
          "output_type": "stream",
          "name": "stdout",
          "text": [
            "[9, 6.8, 5, 4]\n"
          ]
        }
      ]
    },
    {
      "cell_type": "code",
      "source": [
        "yy.remove(4)\n",
        "print(yy)\n"
      ],
      "metadata": {
        "colab": {
          "base_uri": "https://localhost:8080/"
        },
        "id": "HntQXfykgq2z",
        "outputId": "d2f08e58-6de5-46a1-cd85-2d36aaadfd2b"
      },
      "execution_count": 44,
      "outputs": [
        {
          "output_type": "stream",
          "name": "stdout",
          "text": [
            "[9, 6.8, 5]\n"
          ]
        }
      ]
    },
    {
      "cell_type": "code",
      "source": [
        "yy.pop(2)\n",
        "print(yy)"
      ],
      "metadata": {
        "colab": {
          "base_uri": "https://localhost:8080/"
        },
        "id": "DeVnJ1O4gv2b",
        "outputId": "c61ef052-3946-496a-95ae-161d94ce1e72"
      },
      "execution_count": 45,
      "outputs": [
        {
          "output_type": "stream",
          "name": "stdout",
          "text": [
            "[9, 6.8]\n"
          ]
        }
      ]
    },
    {
      "cell_type": "code",
      "source": [
        "yy.insert(2,4)\n",
        "print(yy)"
      ],
      "metadata": {
        "colab": {
          "base_uri": "https://localhost:8080/"
        },
        "id": "tOk3j3l6g7IB",
        "outputId": "11e157a2-90dd-43b3-d023-b4cf83a6b975"
      },
      "execution_count": 46,
      "outputs": [
        {
          "output_type": "stream",
          "name": "stdout",
          "text": [
            "[9, 6.8, 4]\n"
          ]
        }
      ]
    },
    {
      "cell_type": "code",
      "source": [
        "yy.remove(4)\n",
        "print(yy)"
      ],
      "metadata": {
        "colab": {
          "base_uri": "https://localhost:8080/"
        },
        "id": "U96mn8tghFdD",
        "outputId": "6119b697-5d04-40a3-d9d5-b8a4b300fbea"
      },
      "execution_count": 47,
      "outputs": [
        {
          "output_type": "stream",
          "name": "stdout",
          "text": [
            "[9, 6.8]\n"
          ]
        }
      ]
    },
    {
      "cell_type": "code",
      "source": [
        "my_string=('Merhaba dünya')\n",
        "print(my_string)"
      ],
      "metadata": {
        "colab": {
          "base_uri": "https://localhost:8080/"
        },
        "id": "AuloQBsUhhTU",
        "outputId": "db26deb7-a96e-4ace-b297-bec01d005895"
      },
      "execution_count": 94,
      "outputs": [
        {
          "output_type": "stream",
          "name": "stdout",
          "text": [
            "Merhaba dünya\n"
          ]
        }
      ]
    },
    {
      "cell_type": "markdown",
      "source": [
        "listelerde sort var stiringlerde yok"
      ],
      "metadata": {
        "id": "3wOf93l0hpjj"
      }
    },
    {
      "cell_type": "code",
      "source": [
        "from random import *"
      ],
      "metadata": {
        "id": "g2CBF1_nhmcH"
      },
      "execution_count": 50,
      "outputs": []
    },
    {
      "cell_type": "code",
      "source": [
        "names=['Dilek','Aleyna','Ali','Veli']"
      ],
      "metadata": {
        "id": "h2bmbXKvnbfa"
      },
      "execution_count": 53,
      "outputs": []
    },
    {
      "cell_type": "code",
      "source": [
        "choice(names)"
      ],
      "metadata": {
        "colab": {
          "base_uri": "https://localhost:8080/",
          "height": 36
        },
        "id": "Et6dYaeXn5UK",
        "outputId": "941e50a1-f977-4266-e685-2d94932d480a"
      },
      "execution_count": 54,
      "outputs": [
        {
          "output_type": "execute_result",
          "data": {
            "text/plain": [
              "'Veli'"
            ],
            "application/vnd.google.colaboratory.intrinsic+json": {
              "type": "string"
            }
          },
          "metadata": {},
          "execution_count": 54
        }
      ]
    },
    {
      "cell_type": "code",
      "source": [
        "sample(names,2)"
      ],
      "metadata": {
        "colab": {
          "base_uri": "https://localhost:8080/"
        },
        "id": "5RjBH9DDn9iD",
        "outputId": "c9def65e-3970-459c-ad30-f2a3b5c19860"
      },
      "execution_count": 55,
      "outputs": [
        {
          "output_type": "execute_result",
          "data": {
            "text/plain": [
              "['Aleyna', 'Ali']"
            ]
          },
          "metadata": {},
          "execution_count": 55
        }
      ]
    },
    {
      "cell_type": "code",
      "source": [
        "shuffle(names)\n",
        "print(names)"
      ],
      "metadata": {
        "colab": {
          "base_uri": "https://localhost:8080/"
        },
        "id": "NoG-7WDMoKxx",
        "outputId": "654218f5-db49-4039-f8ec-3cc844bd454d"
      },
      "execution_count": 56,
      "outputs": [
        {
          "output_type": "stream",
          "name": "stdout",
          "text": [
            "['Aleyna', 'Ali', 'Dilek', 'Veli']\n"
          ]
        }
      ]
    },
    {
      "cell_type": "code",
      "source": [
        "\n",
        "s='abcdfklfhgjeg82ryrkfjdvjwrhşlkfkgjrfjkfguwefpl123*='\n",
        "for i in range (1000):\n",
        "  print(choice(s),end='')"
      ],
      "metadata": {
        "colab": {
          "base_uri": "https://localhost:8080/"
        },
        "id": "HCyDa9kRoOF5",
        "outputId": "69f6464a-c1f8-4851-e1b2-6566986bf763"
      },
      "execution_count": 58,
      "outputs": [
        {
          "output_type": "stream",
          "name": "stdout",
          "text": [
            "şvrfrlhdwukrk88rşfgfjfwrrfff1cwfch1wfdfkj2wjdkcelrkagfffjfejg2jy8alc*jhjkjkrfffcwr22lprş=k2j=fgf8k2u=gplhfr1rllrlkd1k3leuvkffpr**gjgvkjhkf3hjf=kkajdhgfekpffplrb2hbjklrfaphrrkfwa*bbjjvwchc3g=jwyjwhyhkkkrfrgrhklrfj8gkwffwfpw8kfb1cjffk2jekvf1flrddgffgkwjgcrkjk1fjguglhlgvgcgfar=3kdbk3fş22e2jyllajrc228gcrv2yjjfkwjkdky2f3y=gkffk2ghgefwlfjfdecvkhgjf*ffucşfvl2dkj3gr3kş3bfbk1dpujefklgfvwwhlrrgşrgfcfujucgjgşffgjruff88lfjlfffhwj=vrfjerbrhjwflfarcjevfhfrw2ggd=hp8f1f2fwefjl*glubjrhrhfdupkjefdfffk12lbbhpf*3wrdvgk=81rş==afgcljfjdkbd*ghrg2ffadhyafbpg8r2rgkkgrkf=wgff2wjfrrlpr2rrj2egflrpdr*jlfjhcdrfrş3şkjrprlfkul=y2frphwkwjj1ggşkf*j1k83l2yjgafewgjj2şf1jlblrfllkj83jblrbhjkh=ebpgşaf2jdf*kkarj1rrdvpgrrddhg=pfa=gjfw8ff*2wrg3hgpkwrkydl1j3jşgkggr1kk3hukrfckeffeurwpu*k=gjş1ffgdc8ffjhrp2r8şk1fl2*wfgbgpgfgrkdyr2lgfeffdvf3h2dk=df1krl=kfdjfj32j*jhwwj1fjggwdafljkfrwşhhjkd21bvpglygfef*kkgf3dkrrew3bhhgvujffjkkfkygjhlgf8gfkkf8y22fcfkl*g3kkgşerc=crgvjwra8a2wjk2l3jfkjkblf3leljf3ffkfrşjkhwjkkfr3kjjargawvrueşflywfcwjgghgk"
          ]
        }
      ]
    },
    {
      "cell_type": "code",
      "source": [
        "s='Merhaba benim adım Aleyna'\n",
        "print(s.split())\n",
        "#split bölmek istediğin karaktere default olarak boşluğa"
      ],
      "metadata": {
        "colab": {
          "base_uri": "https://localhost:8080/"
        },
        "id": "JL8xauQzon74",
        "outputId": "d13257bd-dda6-4561-a54e-09bc474800ef"
      },
      "execution_count": 59,
      "outputs": [
        {
          "output_type": "stream",
          "name": "stdout",
          "text": [
            "['Merhaba', 'benim', 'adım', 'Aleyna']\n"
          ]
        }
      ]
    },
    {
      "cell_type": "code",
      "source": [
        "from string import punctuation\n",
        "print(punctuation)"
      ],
      "metadata": {
        "colab": {
          "base_uri": "https://localhost:8080/"
        },
        "id": "CDxiPEt-pcz0",
        "outputId": "72d197f9-5db1-422a-db28-fc487b5e5361"
      },
      "execution_count": 63,
      "outputs": [
        {
          "output_type": "stream",
          "name": "stdout",
          "text": [
            "!\"#$%&'()*+,-./:;<=>?@[\\]^_`{|}~\n"
          ]
        }
      ]
    },
    {
      "cell_type": "code",
      "source": [
        "#str='sjjdjfjdkj;;.!+'\n",
        "for c in punctuation:\n",
        "  str=str.replace(c,'')\n",
        "print(str)\n"
      ],
      "metadata": {
        "colab": {
          "base_uri": "https://localhost:8080/"
        },
        "id": "S9xoHYMEp7wC",
        "outputId": "2724f5c9-cfa4-4988-ceb8-946edaee7915"
      },
      "execution_count": 64,
      "outputs": [
        {
          "output_type": "stream",
          "name": "stdout",
          "text": [
            "sjjdjfjdkj\n"
          ]
        }
      ]
    },
    {
      "cell_type": "code",
      "source": [
        "#join splitin tam tersi\n",
        "L=['Merhaba','Dünya']\n",
        "print(' '.join(L))"
      ],
      "metadata": {
        "colab": {
          "base_uri": "https://localhost:8080/"
        },
        "id": "NlBI9kExqWPC",
        "outputId": "4a5bc6a2-7624-4ced-b4c9-9f9aa02519ef"
      },
      "execution_count": 65,
      "outputs": [
        {
          "output_type": "stream",
          "name": "stdout",
          "text": [
            "Merhaba Dünya\n"
          ]
        }
      ]
    },
    {
      "cell_type": "code",
      "source": [
        "L=[i**2for i in range(5)]\n",
        "print(L)"
      ],
      "metadata": {
        "colab": {
          "base_uri": "https://localhost:8080/"
        },
        "id": "G45pHSoyqs62",
        "outputId": "b4c3af99-715d-45c4-f61e-d55c91b8f25c"
      },
      "execution_count": 70,
      "outputs": [
        {
          "output_type": "stream",
          "name": "stdout",
          "text": [
            "[0, 1, 4, 9, 16]\n"
          ]
        },
        {
          "output_type": "stream",
          "name": "stderr",
          "text": [
            "<>:1: SyntaxWarning: invalid decimal literal\n",
            "<>:1: SyntaxWarning: invalid decimal literal\n",
            "/tmp/ipython-input-70-4088891909.py:1: SyntaxWarning: invalid decimal literal\n",
            "  L=[i**2for i in range(5)]\n"
          ]
        }
      ]
    },
    {
      "cell_type": "code",
      "source": [
        "del str  # Eğer str değişkeni varsa sil\n",
        "for i in range(3):\n",
        "  for j in range(4):\n",
        "    print(str(i)+','+str(j))"
      ],
      "metadata": {
        "colab": {
          "base_uri": "https://localhost:8080/"
        },
        "id": "GqPEsW_zrmYo",
        "outputId": "e0c1fef8-8ee1-44f5-bc7d-c440b2553313"
      },
      "execution_count": 73,
      "outputs": [
        {
          "output_type": "stream",
          "name": "stdout",
          "text": [
            "0,0\n",
            "0,1\n",
            "0,2\n",
            "0,3\n",
            "1,0\n",
            "1,1\n",
            "1,2\n",
            "1,3\n",
            "2,0\n",
            "2,1\n",
            "2,2\n",
            "2,3\n"
          ]
        }
      ]
    },
    {
      "cell_type": "code",
      "source": [
        "x=3\n",
        "y=5\n",
        "x,y=y,x"
      ],
      "metadata": {
        "id": "tkNAntHXugFc"
      },
      "execution_count": 74,
      "outputs": []
    },
    {
      "cell_type": "code",
      "source": [
        "print(x)\n",
        "print(y)"
      ],
      "metadata": {
        "colab": {
          "base_uri": "https://localhost:8080/"
        },
        "id": "fn6Dq52zz_rz",
        "outputId": "ea5c033d-cb20-4709-bc72-8fa1ba226272"
      },
      "execution_count": 75,
      "outputs": [
        {
          "output_type": "stream",
          "name": "stdout",
          "text": [
            "5\n",
            "3\n"
          ]
        }
      ]
    },
    {
      "cell_type": "code",
      "source": [
        "L=[[1,2],[3,4],[5,6]]\n",
        "M=[[y,x]for x,y in L]\n",
        "print(M)"
      ],
      "metadata": {
        "colab": {
          "base_uri": "https://localhost:8080/"
        },
        "id": "IXrOOwOy0Ejm",
        "outputId": "764b8ac8-aa25-4e22-d0e3-8debd75d439c"
      },
      "execution_count": 77,
      "outputs": [
        {
          "output_type": "stream",
          "name": "stdout",
          "text": [
            "[[2, 1], [4, 3], [6, 5]]\n"
          ]
        }
      ]
    },
    {
      "cell_type": "code",
      "source": [
        "from random import randint"
      ],
      "metadata": {
        "id": "iugFwC6C0T0P"
      },
      "execution_count": 78,
      "outputs": []
    },
    {
      "cell_type": "code",
      "source": [
        "L1 = [[randint(1,10), randint(1,30)] for i in range(5) for j in range(7)]\n",
        "print(L1)"
      ],
      "metadata": {
        "colab": {
          "base_uri": "https://localhost:8080/"
        },
        "id": "BGcIh3sP1IrY",
        "outputId": "9853b7b2-5bd5-42fe-caef-b49231b01d43"
      },
      "execution_count": 79,
      "outputs": [
        {
          "output_type": "stream",
          "name": "stdout",
          "text": [
            "[[3, 17], [3, 24], [1, 20], [6, 3], [6, 9], [7, 27], [5, 24], [7, 13], [8, 21], [1, 17], [10, 8], [7, 29], [9, 21], [3, 16], [3, 1], [9, 24], [10, 4], [9, 20], [8, 1], [5, 8], [5, 12], [9, 21], [3, 20], [5, 18], [7, 10], [4, 6], [2, 8], [8, 13], [6, 14], [8, 29], [4, 11], [2, 16], [4, 26], [5, 6], [6, 24]]\n"
          ]
        }
      ]
    },
    {
      "cell_type": "code",
      "source": [
        "len(L1)"
      ],
      "metadata": {
        "colab": {
          "base_uri": "https://localhost:8080/"
        },
        "id": "swSUDhkZ19JZ",
        "outputId": "2f469cf0-5b4f-422b-e1a3-986465f3d261"
      },
      "execution_count": 80,
      "outputs": [
        {
          "output_type": "execute_result",
          "data": {
            "text/plain": [
              "35"
            ]
          },
          "metadata": {},
          "execution_count": 80
        }
      ]
    },
    {
      "cell_type": "code",
      "source": [
        "L=[[1,2,3],[4,5,6],[7,8,9]]\n",
        "print(L)"
      ],
      "metadata": {
        "colab": {
          "base_uri": "https://localhost:8080/"
        },
        "id": "ZQu86Bnr1_HT",
        "outputId": "df2ea35f-15cd-408f-a764-fb1790aec9c9"
      },
      "execution_count": 81,
      "outputs": [
        {
          "output_type": "stream",
          "name": "stdout",
          "text": [
            "[[1, 2, 3], [4, 5, 6], [7, 8, 9]]\n"
          ]
        }
      ]
    },
    {
      "cell_type": "code",
      "source": [
        "L[1][2]"
      ],
      "metadata": {
        "colab": {
          "base_uri": "https://localhost:8080/"
        },
        "id": "9HDr1qFY3Xfj",
        "outputId": "c6fec133-4128-43bf-ac8d-b94dd5852946"
      },
      "execution_count": 84,
      "outputs": [
        {
          "output_type": "execute_result",
          "data": {
            "text/plain": [
              "6"
            ]
          },
          "metadata": {},
          "execution_count": 84
        }
      ]
    },
    {
      "cell_type": "code",
      "source": [
        "type(L[1])"
      ],
      "metadata": {
        "colab": {
          "base_uri": "https://localhost:8080/"
        },
        "id": "aZ6JyK6k2eMV",
        "outputId": "6567c421-4d57-49d4-8159-75799b151a90"
      },
      "execution_count": 82,
      "outputs": [
        {
          "output_type": "execute_result",
          "data": {
            "text/plain": [
              "list"
            ]
          },
          "metadata": {},
          "execution_count": 82
        }
      ]
    },
    {
      "cell_type": "code",
      "source": [
        "from pprint import pprint\n",
        "pprint(L)"
      ],
      "metadata": {
        "colab": {
          "base_uri": "https://localhost:8080/"
        },
        "id": "53ZF705K2hGY",
        "outputId": "1efe2dae-f071-4834-f1ff-f6f82d9037f8"
      },
      "execution_count": 83,
      "outputs": [
        {
          "output_type": "stream",
          "name": "stdout",
          "text": [
            "[[1, 2, 3], [4, 5, 6], [7, 8, 9]]\n"
          ]
        }
      ]
    },
    {
      "cell_type": "code",
      "source": [
        "import pprint"
      ],
      "metadata": {
        "id": "yU06JG2v2q-R"
      },
      "execution_count": 85,
      "outputs": []
    },
    {
      "cell_type": "code",
      "source": [
        "pprint.pp(L)"
      ],
      "metadata": {
        "colab": {
          "base_uri": "https://localhost:8080/"
        },
        "id": "lwUaHLSX5M72",
        "outputId": "d9987696-1521-48a9-ee62-1b7c048c9e61"
      },
      "execution_count": 86,
      "outputs": [
        {
          "output_type": "stream",
          "name": "stdout",
          "text": [
            "[[1, 2, 3], [4, 5, 6], [7, 8, 9]]\n"
          ]
        }
      ]
    },
    {
      "cell_type": "code",
      "source": [
        "L1=[[0]*20 for i in range(15)]\n",
        "pprint.pp(L1)"
      ],
      "metadata": {
        "colab": {
          "base_uri": "https://localhost:8080/"
        },
        "id": "bWEaTp1I5QWW",
        "outputId": "7f14ca65-0363-4c9d-e738-6b95778f0177"
      },
      "execution_count": 87,
      "outputs": [
        {
          "output_type": "stream",
          "name": "stdout",
          "text": [
            "[[0, 0, 0, 0, 0, 0, 0, 0, 0, 0, 0, 0, 0, 0, 0, 0, 0, 0, 0, 0],\n",
            " [0, 0, 0, 0, 0, 0, 0, 0, 0, 0, 0, 0, 0, 0, 0, 0, 0, 0, 0, 0],\n",
            " [0, 0, 0, 0, 0, 0, 0, 0, 0, 0, 0, 0, 0, 0, 0, 0, 0, 0, 0, 0],\n",
            " [0, 0, 0, 0, 0, 0, 0, 0, 0, 0, 0, 0, 0, 0, 0, 0, 0, 0, 0, 0],\n",
            " [0, 0, 0, 0, 0, 0, 0, 0, 0, 0, 0, 0, 0, 0, 0, 0, 0, 0, 0, 0],\n",
            " [0, 0, 0, 0, 0, 0, 0, 0, 0, 0, 0, 0, 0, 0, 0, 0, 0, 0, 0, 0],\n",
            " [0, 0, 0, 0, 0, 0, 0, 0, 0, 0, 0, 0, 0, 0, 0, 0, 0, 0, 0, 0],\n",
            " [0, 0, 0, 0, 0, 0, 0, 0, 0, 0, 0, 0, 0, 0, 0, 0, 0, 0, 0, 0],\n",
            " [0, 0, 0, 0, 0, 0, 0, 0, 0, 0, 0, 0, 0, 0, 0, 0, 0, 0, 0, 0],\n",
            " [0, 0, 0, 0, 0, 0, 0, 0, 0, 0, 0, 0, 0, 0, 0, 0, 0, 0, 0, 0],\n",
            " [0, 0, 0, 0, 0, 0, 0, 0, 0, 0, 0, 0, 0, 0, 0, 0, 0, 0, 0, 0],\n",
            " [0, 0, 0, 0, 0, 0, 0, 0, 0, 0, 0, 0, 0, 0, 0, 0, 0, 0, 0, 0],\n",
            " [0, 0, 0, 0, 0, 0, 0, 0, 0, 0, 0, 0, 0, 0, 0, 0, 0, 0, 0, 0],\n",
            " [0, 0, 0, 0, 0, 0, 0, 0, 0, 0, 0, 0, 0, 0, 0, 0, 0, 0, 0, 0],\n",
            " [0, 0, 0, 0, 0, 0, 0, 0, 0, 0, 0, 0, 0, 0, 0, 0, 0, 0, 0, 0]]\n"
          ]
        }
      ]
    },
    {
      "cell_type": "code",
      "source": [
        "print('rows:' +str(len(L1)))\n",
        "print('cols:'+str(len(L1[0])))"
      ],
      "metadata": {
        "colab": {
          "base_uri": "https://localhost:8080/"
        },
        "id": "LduVzm-B5eEn",
        "outputId": "01bd166d-70c3-4d00-a641-a9d46b19c754"
      },
      "execution_count": 88,
      "outputs": [
        {
          "output_type": "stream",
          "name": "stdout",
          "text": [
            "rows:15\n",
            "cols:20\n"
          ]
        }
      ]
    },
    {
      "cell_type": "code",
      "source": [
        "L=[[i,i+1,i+2]for i in range(1,11,3)]\n",
        "pprint.pp(L)\n"
      ],
      "metadata": {
        "colab": {
          "base_uri": "https://localhost:8080/"
        },
        "id": "ATZuN-7f5zwm",
        "outputId": "8fc5a882-da4b-4590-f407-7410410ceed9"
      },
      "execution_count": 89,
      "outputs": [
        {
          "output_type": "stream",
          "name": "stdout",
          "text": [
            "[[1, 2, 3], [4, 5, 6], [7, 8, 9], [10, 11, 12]]\n"
          ]
        }
      ]
    },
    {
      "cell_type": "code",
      "source": [
        "len(L)"
      ],
      "metadata": {
        "colab": {
          "base_uri": "https://localhost:8080/"
        },
        "id": "JCp5oh6K62bl",
        "outputId": "d2013235-d638-4b61-fdff-eea7a69981a4"
      },
      "execution_count": 90,
      "outputs": [
        {
          "output_type": "execute_result",
          "data": {
            "text/plain": [
              "4"
            ]
          },
          "metadata": {},
          "execution_count": 90
        }
      ]
    },
    {
      "cell_type": "code",
      "source": [
        "L_flat = [L[r][c] for r in range(len(L)) for c in range(len(L[r]))]\n",
        "print(L_flat)"
      ],
      "metadata": {
        "colab": {
          "base_uri": "https://localhost:8080/"
        },
        "id": "ZaL4_v-37Am4",
        "outputId": "e2e6e6dd-0584-47d0-a0db-1a70b167985c"
      },
      "execution_count": 91,
      "outputs": [
        {
          "output_type": "stream",
          "name": "stdout",
          "text": [
            "[1, 2, 3, 4, 5, 6, 7, 8, 9, 10, 11, 12]\n"
          ]
        }
      ]
    },
    {
      "cell_type": "code",
      "source": [
        "L_flat=[j for i in L for j in i]\n",
        "print(L_flat)"
      ],
      "metadata": {
        "colab": {
          "base_uri": "https://localhost:8080/"
        },
        "id": "1W8DxIjy79M0",
        "outputId": "d2384def-4841-446b-fe97-830564749348"
      },
      "execution_count": 95,
      "outputs": [
        {
          "output_type": "stream",
          "name": "stdout",
          "text": [
            "[1, 2, 3, 4, 5, 6, 7, 8, 9, 10, 11, 12]\n"
          ]
        }
      ]
    },
    {
      "cell_type": "code",
      "source": [],
      "metadata": {
        "id": "HuIbGndw8dgu"
      },
      "execution_count": null,
      "outputs": []
    }
  ]
}