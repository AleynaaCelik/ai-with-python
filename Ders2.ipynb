{
  "nbformat": 4,
  "nbformat_minor": 0,
  "metadata": {
    "colab": {
      "provenance": []
    },
    "kernelspec": {
      "name": "python3",
      "display_name": "Python 3"
    },
    "language_info": {
      "name": "python"
    }
  },
  "cells": [
    {
      "cell_type": "code",
      "execution_count": null,
      "metadata": {
        "colab": {
          "base_uri": "https://localhost:8080/"
        },
        "id": "M4b-KQyQitSO",
        "outputId": "6639ba93-f837-4294-904a-715e75ab6518"
      },
      "outputs": [
        {
          "output_type": "execute_result",
          "data": {
            "text/plain": [
              "9"
            ]
          },
          "metadata": {},
          "execution_count": 1
        }
      ],
      "source": [
        "3**2"
      ]
    },
    {
      "cell_type": "code",
      "source": [
        "3/4"
      ],
      "metadata": {
        "colab": {
          "base_uri": "https://localhost:8080/"
        },
        "id": "czP4gX9NmTOU",
        "outputId": "6e4f3a70-43c3-4844-b734-3bdc9f8e4154"
      },
      "execution_count": null,
      "outputs": [
        {
          "output_type": "execute_result",
          "data": {
            "text/plain": [
              "0.75"
            ]
          },
          "metadata": {},
          "execution_count": 2
        }
      ]
    },
    {
      "cell_type": "code",
      "source": [
        "13//4\n",
        "#integer division"
      ],
      "metadata": {
        "colab": {
          "base_uri": "https://localhost:8080/"
        },
        "id": "qLO0H7xGmcsU",
        "outputId": "f11004e0-92ea-4b62-de9e-96a8e25c7413"
      },
      "execution_count": null,
      "outputs": [
        {
          "output_type": "execute_result",
          "data": {
            "text/plain": [
              "3"
            ]
          },
          "metadata": {},
          "execution_count": 4
        }
      ]
    },
    {
      "cell_type": "code",
      "source": [
        "24%5"
      ],
      "metadata": {
        "colab": {
          "base_uri": "https://localhost:8080/"
        },
        "id": "yacmmfnfmlgD",
        "outputId": "0f0efd23-2377-4553-c3c8-0b88eaa4dbd5"
      },
      "execution_count": null,
      "outputs": [
        {
          "output_type": "execute_result",
          "data": {
            "text/plain": [
              "4"
            ]
          },
          "metadata": {},
          "execution_count": 6
        }
      ]
    },
    {
      "cell_type": "code",
      "source": [
        "32.4%2.1"
      ],
      "metadata": {
        "colab": {
          "base_uri": "https://localhost:8080/"
        },
        "id": "_z6SfAGmnCi8",
        "outputId": "5662b48b-9efc-4b64-e578-5e9899f9f554"
      },
      "execution_count": null,
      "outputs": [
        {
          "output_type": "execute_result",
          "data": {
            "text/plain": [
              "0.8999999999999972"
            ]
          },
          "metadata": {},
          "execution_count": 7
        }
      ]
    },
    {
      "cell_type": "code",
      "source": [
        "2.1*15 +0.9"
      ],
      "metadata": {
        "colab": {
          "base_uri": "https://localhost:8080/"
        },
        "id": "nyUwOG2OoE-J",
        "outputId": "becfd07a-7781-4d4b-b6e3-cee483b89a56"
      },
      "execution_count": null,
      "outputs": [
        {
          "output_type": "execute_result",
          "data": {
            "text/plain": [
              "32.4"
            ]
          },
          "metadata": {},
          "execution_count": 8
        }
      ]
    },
    {
      "cell_type": "code",
      "source": [
        "sayi=eval(input(\"bir tam sayi giriniz\"))\n",
        "if sayi%2==0:\n",
        "    print(\"sayi cifttir\")\n",
        "else:\n",
        "    print(\"sayi tektir\")"
      ],
      "metadata": {
        "colab": {
          "base_uri": "https://localhost:8080/"
        },
        "id": "FjXKBpfSoUzZ",
        "outputId": "7b91081e-c3fd-44a8-a3dc-f8853bcb79ef"
      },
      "execution_count": null,
      "outputs": [
        {
          "output_type": "stream",
          "name": "stdout",
          "text": [
            "bir tam sayi giriniz7\n",
            "sayi tektir\n"
          ]
        }
      ]
    },
    {
      "cell_type": "code",
      "source": [
        "#random sayı üretme\n",
        "from random import randint\n",
        "for i in range(10):\n",
        "  sayi=randint(1,100)\n",
        "  #print('Sayı 1 ile 100 arasında :',sayi)\n",
        "  print(str(i+1) + ' .sayi='+str(sayi))"
      ],
      "metadata": {
        "colab": {
          "base_uri": "https://localhost:8080/"
        },
        "id": "zUqNVauipC5A",
        "outputId": "513ff6d9-75cd-4aa9-87aa-8e5fd19e5a33"
      },
      "execution_count": null,
      "outputs": [
        {
          "output_type": "stream",
          "name": "stdout",
          "text": [
            "1 .sayi=43\n",
            "2 .sayi=5\n",
            "3 .sayi=58\n",
            "4 .sayi=77\n",
            "5 .sayi=85\n",
            "6 .sayi=77\n",
            "7 .sayi=2\n",
            "8 .sayi=14\n",
            "9 .sayi=75\n",
            "10 .sayi=25\n"
          ]
        }
      ]
    },
    {
      "cell_type": "code",
      "source": [
        "import random\n",
        "x=7*random.random()\n",
        "print(x)"
      ],
      "metadata": {
        "colab": {
          "base_uri": "https://localhost:8080/"
        },
        "id": "pOVEI0OwsCaU",
        "outputId": "3b207a14-30ff-4ee5-f36f-134f24b7f924"
      },
      "execution_count": null,
      "outputs": [
        {
          "output_type": "stream",
          "name": "stdout",
          "text": [
            "1.1277585240645105\n"
          ]
        }
      ]
    },
    {
      "cell_type": "code",
      "source": [
        "#3 ile 14 arasında ondaıklı sayı üretme\n",
        "x=random.randrange(3,15)\n",
        "print(x)"
      ],
      "metadata": {
        "colab": {
          "base_uri": "https://localhost:8080/"
        },
        "id": "RrPBoD-vsVW_",
        "outputId": "996e015e-f965-4a3a-897c-a14cfa096292"
      },
      "execution_count": null,
      "outputs": [
        {
          "output_type": "stream",
          "name": "stdout",
          "text": [
            "6\n"
          ]
        }
      ]
    },
    {
      "cell_type": "code",
      "source": [
        "#3 ile 14 arasında ondaıklı sayı üretme\n",
        "x=(14-3)*random.random()+3.0\n",
        "print(x)\n",
        "#[a,b] arasında ondalıklı sayı\n",
        "#(b-a)*random.random()+a\n",
        "type(x)"
      ],
      "metadata": {
        "colab": {
          "base_uri": "https://localhost:8080/"
        },
        "id": "dH3sIoUhtLVi",
        "outputId": "ceadb90d-2db1-433d-f9d4-c8c46f038a38"
      },
      "execution_count": null,
      "outputs": [
        {
          "output_type": "stream",
          "name": "stdout",
          "text": [
            "4.420902963663504\n"
          ]
        },
        {
          "output_type": "execute_result",
          "data": {
            "text/plain": [
              "float"
            ]
          },
          "metadata": {},
          "execution_count": 28
        }
      ]
    },
    {
      "cell_type": "code",
      "source": [
        "from math import sin,pi\n",
        "print(sin(pi/2))\n",
        "print(sin(0))"
      ],
      "metadata": {
        "colab": {
          "base_uri": "https://localhost:8080/"
        },
        "id": "myTsBYjQtuLc",
        "outputId": "c6cea763-9852-4372-8c3d-73295b8af5aa"
      },
      "execution_count": null,
      "outputs": [
        {
          "output_type": "stream",
          "name": "stdout",
          "text": [
            "1.0\n",
            "0.0\n"
          ]
        }
      ]
    },
    {
      "cell_type": "code",
      "source": [
        "print(round(3.336,2))#yuvarlama virgülden sağa\n",
        "print(round(345.2,-1))"
      ],
      "metadata": {
        "colab": {
          "base_uri": "https://localhost:8080/"
        },
        "id": "ZaUKm-oTvBJF",
        "outputId": "b1ad7b5d-00fa-4ae0-9a73-9e2b02cdf2e0"
      },
      "execution_count": null,
      "outputs": [
        {
          "output_type": "stream",
          "name": "stdout",
          "text": [
            "3.34\n",
            "350.0\n"
          ]
        }
      ]
    },
    {
      "cell_type": "code",
      "source": [
        "x=46732.48327\n",
        "print(round(x))\n",
        "print(round(x,0))\n",
        "print(round(x,1))\n",
        "print(round(x,2))\n",
        "print(round(x,-1))\n",
        "print(round(x,-2))\n",
        "print(round(x,-3))"
      ],
      "metadata": {
        "colab": {
          "base_uri": "https://localhost:8080/"
        },
        "id": "1wk6JnqDvR6x",
        "outputId": "410b453c-048c-4c47-9a59-274fc1ff4a80"
      },
      "execution_count": null,
      "outputs": [
        {
          "output_type": "stream",
          "name": "stdout",
          "text": [
            "46732\n",
            "46732.0\n",
            "46732.5\n",
            "46732.48\n",
            "46730.0\n",
            "46700.0\n",
            "47000.0\n"
          ]
        }
      ]
    },
    {
      "cell_type": "code",
      "source": [
        "from math import *"
      ],
      "metadata": {
        "id": "yok5lfL3wbzV"
      },
      "execution_count": null,
      "outputs": []
    },
    {
      "cell_type": "code",
      "source": [
        "import math\n",
        "dir(math)"
      ],
      "metadata": {
        "colab": {
          "base_uri": "https://localhost:8080/"
        },
        "id": "eYiqzjrkzTkz",
        "outputId": "b2ba8706-07e9-4b37-e616-fc7598d4cfa9"
      },
      "execution_count": null,
      "outputs": [
        {
          "output_type": "execute_result",
          "data": {
            "text/plain": [
              "['__doc__',\n",
              " '__loader__',\n",
              " '__name__',\n",
              " '__package__',\n",
              " '__spec__',\n",
              " 'acos',\n",
              " 'acosh',\n",
              " 'asin',\n",
              " 'asinh',\n",
              " 'atan',\n",
              " 'atan2',\n",
              " 'atanh',\n",
              " 'cbrt',\n",
              " 'ceil',\n",
              " 'comb',\n",
              " 'copysign',\n",
              " 'cos',\n",
              " 'cosh',\n",
              " 'degrees',\n",
              " 'dist',\n",
              " 'e',\n",
              " 'erf',\n",
              " 'erfc',\n",
              " 'exp',\n",
              " 'exp2',\n",
              " 'expm1',\n",
              " 'fabs',\n",
              " 'factorial',\n",
              " 'floor',\n",
              " 'fmod',\n",
              " 'frexp',\n",
              " 'fsum',\n",
              " 'gamma',\n",
              " 'gcd',\n",
              " 'hypot',\n",
              " 'inf',\n",
              " 'isclose',\n",
              " 'isfinite',\n",
              " 'isinf',\n",
              " 'isnan',\n",
              " 'isqrt',\n",
              " 'lcm',\n",
              " 'ldexp',\n",
              " 'lgamma',\n",
              " 'log',\n",
              " 'log10',\n",
              " 'log1p',\n",
              " 'log2',\n",
              " 'modf',\n",
              " 'nan',\n",
              " 'nextafter',\n",
              " 'perm',\n",
              " 'pi',\n",
              " 'pow',\n",
              " 'prod',\n",
              " 'radians',\n",
              " 'remainder',\n",
              " 'sin',\n",
              " 'sinh',\n",
              " 'sqrt',\n",
              " 'tan',\n",
              " 'tanh',\n",
              " 'tau',\n",
              " 'trunc',\n",
              " 'ulp']"
            ]
          },
          "metadata": {},
          "execution_count": 36
        }
      ]
    },
    {
      "cell_type": "code",
      "source": [
        "print(sin(0))\n",
        "print(sin(90))\n",
        "print(sin(pi/2))\n",
        "print(sin(3*pi/2))\n",
        "#trigonometrik fonksiyonlar pythonda radyanla çalışır"
      ],
      "metadata": {
        "colab": {
          "base_uri": "https://localhost:8080/"
        },
        "id": "udJWIWbpzabo",
        "outputId": "fc9e7b3b-21f4-4ce2-da7f-cff4cf62880c"
      },
      "execution_count": null,
      "outputs": [
        {
          "output_type": "stream",
          "name": "stdout",
          "text": [
            "0.0\n",
            "0.8939966636005579\n",
            "1.0\n",
            "-1.0\n"
          ]
        }
      ]
    },
    {
      "cell_type": "code",
      "source": [
        "exp(1)\n"
      ],
      "metadata": {
        "colab": {
          "base_uri": "https://localhost:8080/"
        },
        "id": "1H7x_L7mzrRU",
        "outputId": "b1c5d863-074d-4fc6-8a6e-69135e82f0c9"
      },
      "execution_count": null,
      "outputs": [
        {
          "output_type": "execute_result",
          "data": {
            "text/plain": [
              "2.718281828459045"
            ]
          },
          "metadata": {},
          "execution_count": 40
        }
      ]
    },
    {
      "cell_type": "code",
      "source": [
        "exp(2)"
      ],
      "metadata": {
        "colab": {
          "base_uri": "https://localhost:8080/"
        },
        "id": "cGXQTxJAz-0p",
        "outputId": "20010dea-6880-4863-fc9a-9606f3f2efd8"
      },
      "execution_count": null,
      "outputs": [
        {
          "output_type": "execute_result",
          "data": {
            "text/plain": [
              "7.38905609893065"
            ]
          },
          "metadata": {},
          "execution_count": 41
        }
      ]
    },
    {
      "cell_type": "code",
      "source": [
        "for i in range(10):\n",
        "    print(exp(i))"
      ],
      "metadata": {
        "colab": {
          "base_uri": "https://localhost:8080/"
        },
        "id": "M0GOCSkP0BTg",
        "outputId": "8b76e78d-ce61-4175-bd2b-e2f54551bce2"
      },
      "execution_count": null,
      "outputs": [
        {
          "output_type": "stream",
          "name": "stdout",
          "text": [
            "1.0\n",
            "2.718281828459045\n",
            "7.38905609893065\n",
            "20.085536923187668\n",
            "54.598150033144236\n",
            "148.4131591025766\n",
            "403.4287934927351\n",
            "1096.6331584284585\n",
            "2980.9579870417283\n",
            "8103.083927575384\n"
          ]
        }
      ]
    },
    {
      "cell_type": "code",
      "source": [
        "sum=0.0\n",
        "for i in range(10):\n",
        "  sum=sum+1 /factorial(i)\n",
        "  print(sum)\n"
      ],
      "metadata": {
        "colab": {
          "base_uri": "https://localhost:8080/"
        },
        "id": "Lbx3crPJ0UAA",
        "outputId": "db0aa928-2a16-4f32-e29a-914c8d611332"
      },
      "execution_count": null,
      "outputs": [
        {
          "output_type": "stream",
          "name": "stdout",
          "text": [
            "1.0\n",
            "2.0\n",
            "2.5\n",
            "2.6666666666666665\n",
            "2.708333333333333\n",
            "2.7166666666666663\n",
            "2.7180555555555554\n",
            "2.7182539682539684\n",
            "2.71827876984127\n",
            "2.7182815255731922\n"
          ]
        }
      ]
    },
    {
      "cell_type": "code",
      "source": [
        "sure=eval(input(\"Toplam saniyeyi  giriniz:\"))\n",
        "saat=sure//3600\n",
        "kalan_sure=sure%3600\n",
        "dakika=kalan_sure//60\n",
        "saniye=kalan_sure%60\n",
        "print(saat,\"saat\",dakika,\"dakika\",saniye,\"saniye\")\n"
      ],
      "metadata": {
        "colab": {
          "base_uri": "https://localhost:8080/"
        },
        "id": "eiOabPRX0qjh",
        "outputId": "78e1a2dc-a47f-42fa-f891-e808750a9110"
      },
      "execution_count": null,
      "outputs": [
        {
          "output_type": "stream",
          "name": "stdout",
          "text": [
            "Toplam saniyeyi  giriniz:7200\n",
            "2 saat 0 dakika 0 saniye\n"
          ]
        }
      ]
    },
    {
      "cell_type": "code",
      "source": [
        "sum=0.0\n",
        "for j in range(1,5000):\n",
        "  sum=sum+1.0/j**2\n",
        "print(sum)"
      ],
      "metadata": {
        "colab": {
          "base_uri": "https://localhost:8080/"
        },
        "id": "bl0trqx64Cf_",
        "outputId": "2a9dd00d-92c8-4a17-d274-0d462ebd673a"
      },
      "execution_count": null,
      "outputs": [
        {
          "output_type": "stream",
          "name": "stdout",
          "text": [
            "1.6447340468469014\n"
          ]
        }
      ]
    },
    {
      "cell_type": "code",
      "source": [
        "sayi=eval(input(\"Sayiyi Giriniz :\"))\n",
        "if sayi%3==0:\n",
        "  print(\"Sayi 3\\'e tam bölünür\")\n",
        "else:\n",
        "  print(\"Sayi 3\\'e tam bölünmez\")\n",
        "\n",
        "\n",
        "\n"
      ],
      "metadata": {
        "colab": {
          "base_uri": "https://localhost:8080/"
        },
        "id": "y2ytXHJU5iWL",
        "outputId": "49d8f98c-e494-4bd5-d113-b025f4f7fe1b"
      },
      "execution_count": null,
      "outputs": [
        {
          "output_type": "stream",
          "name": "stdout",
          "text": [
            "Sayiyi Giriniz :43\n",
            "Sayi 3'e tam bölünmez\n"
          ]
        }
      ]
    },
    {
      "cell_type": "code",
      "source": [
        "sayi=eval(input(\"Sayiyi Giriniz :\"))\n",
        "if sayi%3==0:\n",
        "  print(\"Sayi 3\\'e tam bölünür\")\n",
        "elif sayi%3==1:\n",
        "  print(\"Sayi 3\\'e tam bölünmez.Kalan\\1'dir\")\n",
        "elif sayi%3==2:\n",
        "  print(\"Sayi 3\\'e tam bölünmez.Kalan\\2'dir\")"
      ],
      "metadata": {
        "colab": {
          "base_uri": "https://localhost:8080/"
        },
        "id": "LlFXPeXS6h84",
        "outputId": "f26736bb-6a34-4be6-8854-bc547d02dff2"
      },
      "execution_count": null,
      "outputs": [
        {
          "output_type": "stream",
          "name": "stdout",
          "text": [
            "Sayiyi Giriniz :75\n",
            "Sayi 3'e tam bölünür\n"
          ]
        }
      ]
    },
    {
      "cell_type": "code",
      "source": [
        "#ver1-2\n",
        "sayi=eval(input(\"Sayiyi Giriniz :\"))\n",
        "if sayi<=20:\n",
        "  print(\"Sayi  küçüktür\")\n",
        "elif 20<sayi<=40:\n",
        "  print(\"Sayi 20 ile 40 arasındadır\")\n",
        "else:\n",
        "  print(\"Sayi 40'dan büyüktür\")\n",
        "\n"
      ],
      "metadata": {
        "colab": {
          "base_uri": "https://localhost:8080/"
        },
        "id": "okI-zaCI7Fxn",
        "outputId": "75ad037e-1531-4e73-da84-4cb045b72257"
      },
      "execution_count": null,
      "outputs": [
        {
          "output_type": "stream",
          "name": "stdout",
          "text": [
            "Sayiyi Giriniz :40\n",
            "Sayi 20 ile 40 arasındadır\n"
          ]
        }
      ]
    },
    {
      "cell_type": "code",
      "source": [
        "#ver3\n",
        "sayi=eval(input(\"Sayiyi Giriniz :\"))\n",
        "if sayi<=20:\n",
        "  print(\"Sayi  küçüktür\")\n",
        "elif 20<sayi<=40:\n",
        "  print(\"Sayi 20 ile 40 arasındadır\")\n",
        "else:\n",
        "  print(\"Sayi 40'dan büyüktür\")\n"
      ],
      "metadata": {
        "id": "ip3wugIO-tz6"
      },
      "execution_count": null,
      "outputs": []
    },
    {
      "cell_type": "code",
      "source": [
        "grade=eval(input(\"Notunuzu Giriniz :\"))\n",
        "if grade>=90:\n",
        "  print(\"AA\")\n",
        "elif 80<=grade<90:\n",
        "  print(\"BA\")\n",
        "elif 70<=grade<80:\n",
        "  print(\"BB\")\n",
        "elif 60<=grade<70:\n",
        "  print(\"CB\")\n",
        "elif 50<=grade<60:\n",
        "  print(\"CC\")\n",
        "elif 40<=grade<50:\n",
        "  print(\"DC\")\n",
        "elif 30<=grade<40:\n",
        "  print(\"DD\")\n",
        "elif 20<=grade<30:\n",
        "  print(\"FD\")\n",
        "else:\n",
        "  print(\"FF\")"
      ],
      "metadata": {
        "colab": {
          "base_uri": "https://localhost:8080/"
        },
        "id": "hl0roXR774Jx",
        "outputId": "b0facd29-ce59-4121-890e-985bc4d8d8fa"
      },
      "execution_count": null,
      "outputs": [
        {
          "output_type": "stream",
          "name": "stdout",
          "text": [
            "Notunuzu Giriniz :19\n",
            "FF\n"
          ]
        }
      ]
    },
    {
      "cell_type": "code",
      "source": [
        "n = eval(input(\"Bir doğal sayı girin: \"))\n",
        "flag=0\n",
        "#asal_mi = True\n",
        "\n",
        "\n",
        "#for i in range(2, n):\n",
        "for i in range(2, int(sqrt(n))+1): #Eratosthenes kalburu\n",
        "    if n % i == 0:  # Tam bölünüyorsa\n",
        "        #asal_mi = False\n",
        "        flag=1\n",
        "        break\n",
        "\n",
        "if flag==0:\n",
        "    print(\"Asal\")\n",
        "else:\n",
        "    print(\"Asal değil\")"
      ],
      "metadata": {
        "colab": {
          "base_uri": "https://localhost:8080/"
        },
        "id": "x0orJnVX-ZJf",
        "outputId": "e4eb3a60-a01c-47ca-9739-8d498c421de2"
      },
      "execution_count": null,
      "outputs": [
        {
          "output_type": "stream",
          "name": "stdout",
          "text": [
            "Bir doğal sayı girin: 13000\n",
            "Asal değil\n"
          ]
        }
      ]
    },
    {
      "cell_type": "code",
      "source": [
        "x=3\n",
        "y=7\n",
        "x,y=y,x\n",
        "print(x)\n",
        "print(y)"
      ],
      "metadata": {
        "colab": {
          "base_uri": "https://localhost:8080/"
        },
        "id": "63SwrXuGEUL4",
        "outputId": "8a1fcfc1-179b-4384-a5c2-6758b30c747b"
      },
      "execution_count": null,
      "outputs": [
        {
          "output_type": "stream",
          "name": "stdout",
          "text": [
            "7\n",
            "3\n"
          ]
        }
      ]
    },
    {
      "cell_type": "code",
      "source": [
        "ciftAdet=0\n",
        "for i in range(20):\n",
        "  n=randint(1,100)\n",
        " # print(n)\n",
        "  if n%2==0:\n",
        "    #print(\"sayi cifttir\")\n",
        "    ciftAdet+=1\n",
        "    #print(ciftAdet) #counting\n",
        "    print('Tek sayıların adedi'+str(20-ciftAdet))\n",
        "    print('Çift sayıların adedi'+str(ciftAdet))\n",
        ""
      ],
      "metadata": {
        "id": "3Z_qQe4_GovP",
        "colab": {
          "base_uri": "https://localhost:8080/"
        },
        "outputId": "556c7f22-85e4-4e52-a4af-2931ddb7d1a9"
      },
      "execution_count": 76,
      "outputs": [
        {
          "output_type": "stream",
          "name": "stdout",
          "text": [
            "Tek sayıların adedi19\n",
            "Çift sayıların adedi1\n",
            "Tek sayıların adedi18\n",
            "Çift sayıların adedi2\n",
            "Tek sayıların adedi17\n",
            "Çift sayıların adedi3\n",
            "Tek sayıların adedi16\n",
            "Çift sayıların adedi4\n",
            "Tek sayıların adedi15\n",
            "Çift sayıların adedi5\n",
            "Tek sayıların adedi14\n",
            "Çift sayıların adedi6\n",
            "Tek sayıların adedi13\n",
            "Çift sayıların adedi7\n",
            "Tek sayıların adedi12\n",
            "Çift sayıların adedi8\n",
            "Tek sayıların adedi11\n",
            "Çift sayıların adedi9\n",
            "Tek sayıların adedi10\n",
            "Çift sayıların adedi10\n",
            "Tek sayıların adedi9\n",
            "Çift sayıların adedi11\n",
            "Tek sayıların adedi8\n",
            "Çift sayıların adedi12\n",
            "Tek sayıların adedi7\n",
            "Çift sayıların adedi13\n"
          ]
        }
      ]
    },
    {
      "cell_type": "code",
      "source": [
        "maxSayi=0\n",
        "for i in range(5):\n",
        "  sayi=eval(input(\"sayiyi giriniz: \"))\n",
        "  if sayi>maxSayi:\n",
        "    maxSayi=sayi\n",
        "print(maxSayi)\n"
      ],
      "metadata": {
        "colab": {
          "base_uri": "https://localhost:8080/"
        },
        "id": "_PdW4KfQIDJs",
        "outputId": "2b592b7b-a0c6-4ff4-de37-2ff71bcfd1c9"
      },
      "execution_count": 78,
      "outputs": [
        {
          "output_type": "stream",
          "name": "stdout",
          "text": [
            "sayiyi giriniz: 11\n",
            "sayiyi giriniz: 15\n",
            "sayiyi giriniz: 23\n",
            "sayiyi giriniz: 56\n",
            "sayiyi giriniz: 67\n",
            "67\n"
          ]
        }
      ]
    },
    {
      "cell_type": "code",
      "source": [
        "minSayi=eval(input(\"sayiyi giriniz: \"))\n",
        "for i in range(5):\n",
        "  sayi=eval(input(\"sayiyi giriniz: \"))\n",
        "  if sayi<minSayi:\n",
        "    minSayi=sayi\n",
        "print(minSayi)"
      ],
      "metadata": {
        "colab": {
          "base_uri": "https://localhost:8080/"
        },
        "id": "gA15CBd-Kw7Z",
        "outputId": "a802c801-7e89-4614-9346-001fd6999a50"
      },
      "execution_count": 79,
      "outputs": [
        {
          "output_type": "stream",
          "name": "stdout",
          "text": [
            "sayiyi giriniz: 3\n",
            "sayiyi giriniz: 2\n",
            "sayiyi giriniz: 5\n",
            "sayiyi giriniz: -1\n",
            "sayiyi giriniz: 2\n",
            "sayiyi giriniz: 9\n",
            "-1\n"
          ]
        }
      ]
    },
    {
      "cell_type": "code",
      "source": [],
      "metadata": {
        "id": "VuxitPFoL7mJ"
      },
      "execution_count": null,
      "outputs": []
    }
  ]
}